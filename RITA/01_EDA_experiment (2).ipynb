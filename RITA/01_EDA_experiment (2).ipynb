{
 "cells": [
  {
   "cell_type": "code",
   "execution_count": 0,
   "metadata": {
    "application/vnd.databricks.v1+cell": {
     "cellMetadata": {
      "byteLimit": 2048000,
      "rowLimit": 10000
     },
     "inputWidgets": {},
     "nuid": "45ddcef7-6115-4e2e-8b1d-a62cae32cd93",
     "showTitle": false,
     "tableResultSettingsMap": {},
     "title": ""
    }
   },
   "outputs": [
    {
     "output_type": "display_data",
     "data": {
      "application/vnd.databricks.v1+bamboolib_hint": "{\"pd.DataFrames\": [], \"version\": \"0.0.1\"}",
      "text/plain": []
     },
     "metadata": {},
     "output_type": "display_data"
    }
   ],
   "source": [
    "import os\n",
    "import pyspark\n",
    "from pyspark.sql import SparkSession\n",
    "from pyspark.sql.functions import col\n",
    "from functools import reduce\n",
    "from pyspark.sql import DataFrame\n",
    "import pyspark.sql.functions as F\n",
    "from IPython.display import Image, display\n",
    "import matplotlib.pyplot as plt\n",
    "from scipy.stats import chi2_contingency\n",
    "import seaborn as sns\n",
    "import pandas as pd\n",
    "import numpy as np"
   ]
  },
  {
   "cell_type": "code",
   "execution_count": 0,
   "metadata": {
    "application/vnd.databricks.v1+cell": {
     "cellMetadata": {
      "byteLimit": 2048000,
      "rowLimit": 10000
     },
     "inputWidgets": {},
     "nuid": "07dc4dfd-6f84-40c8-94f5-f259381cb943",
     "showTitle": false,
     "tableResultSettingsMap": {},
     "title": ""
    }
   },
   "outputs": [
    {
     "output_type": "stream",
     "name": "stdout",
     "output_type": "stream",
     "text": [
      "Out[2]: True"
     ]
    }
   ],
   "source": [
    "# Creates a new directory at the specified DBFS\n",
    "dbutils.fs.mkdirs(\"dbfs:/FileStore/parquets/\")"
   ]
  },
  {
   "cell_type": "code",
   "execution_count": 0,
   "metadata": {
    "application/vnd.databricks.v1+cell": {
     "cellMetadata": {
      "byteLimit": 2048000,
      "rowLimit": 10000
     },
     "inputWidgets": {},
     "nuid": "afc823f2-aac3-4d8e-b516-958c7f6b960b",
     "showTitle": false,
     "tableResultSettingsMap": {},
     "title": ""
    }
   },
   "outputs": [
    {
     "output_type": "stream",
     "name": "stdout",
     "output_type": "stream",
     "text": [
      "[FileInfo(path='dbfs:/FileStore/tables/01_EDA_experiment-1.ipynb', name='01_EDA_experiment-1.ipynb', size=1294525, modificationTime=1746013161000),\n FileInfo(path='dbfs:/FileStore/tables/01_EDA_experiment.ipynb', name='01_EDA_experiment.ipynb', size=1294525, modificationTime=1746012054000),\n FileInfo(path='dbfs:/FileStore/tables/2025_03_11_Starting_Step_for_Streaming.ipynb', name='2025_03_11_Starting_Step_for_Streaming.ipynb', size=7008, modificationTime=1742055139000),\n FileInfo(path='dbfs:/FileStore/tables/2025_03_11___DBFS_Example_Classifier.ipynb', name='2025_03_11___DBFS_Example_Classifier.ipynb', size=68203, modificationTime=1742055138000),\n FileInfo(path='dbfs:/FileStore/tables/2025_03_11___DBFS_Example_Clustering.ipynb', name='2025_03_11___DBFS_Example_Clustering.ipynb', size=106444, modificationTime=1742055138000),\n FileInfo(path='dbfs:/FileStore/tables/2025_03_11___DBFS_Example_Regression.ipynb', name='2025_03_11___DBFS_Example_Regression.ipynb', size=69505, modificationTime=1742055139000),\n FileInfo(path='dbfs:/FileStore/tables/Notebooks/', name='Notebooks/', size=0, modificationTime=0),\n FileInfo(path='dbfs:/FileStore/tables/figura.png', name='figura.png', size=294366, modificationTime=1746018070000),\n FileInfo(path='dbfs:/FileStore/tables/iris-1.csv', name='iris-1.csv', size=3858, modificationTime=1742292548000),\n FileInfo(path='dbfs:/FileStore/tables/iris-2.csv', name='iris-2.csv', size=3858, modificationTime=1742293096000),\n FileInfo(path='dbfs:/FileStore/tables/iris.csv', name='iris.csv', size=3858, modificationTime=1742055986000)]"
     ]
    }
   ],
   "source": [
    "files = dbutils.fs.ls(\"dbfs:/FileStore/tables/\")\n",
    "display(files)"
   ]
  },
  {
   "cell_type": "code",
   "execution_count": 0,
   "metadata": {
    "application/vnd.databricks.v1+cell": {
     "cellMetadata": {
      "byteLimit": 2048000,
      "rowLimit": 10000
     },
     "inputWidgets": {},
     "nuid": "35966a1b-50c4-4abc-a5dd-67d1657ff1fa",
     "showTitle": false,
     "tableResultSettingsMap": {},
     "title": ""
    }
   },
   "outputs": [],
   "source": [
    "for f in files:\n",
    "    if f.path.endswith(\".parquet\"):\n",
    "        name = f.name\n",
    "        dbutils.fs.mv(f.path, f\"dbfs:/FileStore/parquets/{name}\")"
   ]
  },
  {
   "cell_type": "code",
   "execution_count": 0,
   "metadata": {
    "application/vnd.databricks.v1+cell": {
     "cellMetadata": {
      "byteLimit": 2048000,
      "rowLimit": 10000
     },
     "inputWidgets": {},
     "nuid": "a3833eb1-4d85-4330-a6b4-1a745d7747e1",
     "showTitle": false,
     "tableResultSettingsMap": {},
     "title": ""
    }
   },
   "outputs": [
    {
     "output_type": "stream",
     "name": "stdout",
     "output_type": "stream",
     "text": [
      "[FileInfo(path='dbfs:/FileStore/parquets/full_dataset_after_eda.parquet/', name='full_dataset_after_eda.parquet/', size=0, modificationTime=0),\n FileInfo(path='dbfs:/FileStore/parquets/yellow_tripdata_2022_01.parquet', name='yellow_tripdata_2022_01.parquet', size=38139949, modificationTime=1746799834000),\n FileInfo(path='dbfs:/FileStore/parquets/yellow_tripdata_2022_02.parquet', name='yellow_tripdata_2022_02.parquet', size=45616512, modificationTime=1746799838000),\n FileInfo(path='dbfs:/FileStore/parquets/yellow_tripdata_2022_03.parquet', name='yellow_tripdata_2022_03.parquet', size=55682369, modificationTime=1746799843000),\n FileInfo(path='dbfs:/FileStore/parquets/yellow_tripdata_2022_04.parquet', name='yellow_tripdata_2022_04.parquet', size=55222692, modificationTime=1746799847000),\n FileInfo(path='dbfs:/FileStore/parquets/yellow_tripdata_2022_05.parquet', name='yellow_tripdata_2022_05.parquet', size=55558821, modificationTime=1746799852000),\n FileInfo(path='dbfs:/FileStore/parquets/yellow_tripdata_2022_06.parquet', name='yellow_tripdata_2022_06.parquet', size=55365184, modificationTime=1746799856000),\n FileInfo(path='dbfs:/FileStore/parquets/yellow_tripdata_2022_07.parquet', name='yellow_tripdata_2022_07.parquet', size=49367712, modificationTime=1746799860000),\n FileInfo(path='dbfs:/FileStore/parquets/yellow_tripdata_2022_08.parquet', name='yellow_tripdata_2022_08.parquet', size=49717159, modificationTime=1746799864000),\n FileInfo(path='dbfs:/FileStore/parquets/yellow_tripdata_2022_09.parquet', name='yellow_tripdata_2022_09.parquet', size=49619957, modificationTime=1746799868000),\n FileInfo(path='dbfs:/FileStore/parquets/yellow_tripdata_2022_10.parquet', name='yellow_tripdata_2022_10.parquet', size=57061938, modificationTime=1746799872000),\n FileInfo(path='dbfs:/FileStore/parquets/yellow_tripdata_2022_11.parquet', name='yellow_tripdata_2022_11.parquet', size=50106631, modificationTime=1746799876000),\n FileInfo(path='dbfs:/FileStore/parquets/yellow_tripdata_2022_12.parquet', name='yellow_tripdata_2022_12.parquet', size=53640739, modificationTime=1746799880000),\n FileInfo(path='dbfs:/FileStore/parquets/yellow_tripdata_2023_01.parquet', name='yellow_tripdata_2023_01.parquet', size=47673370, modificationTime=1746799884000),\n FileInfo(path='dbfs:/FileStore/parquets/yellow_tripdata_2023_02.parquet', name='yellow_tripdata_2023_02.parquet', size=47748012, modificationTime=1746799888000),\n FileInfo(path='dbfs:/FileStore/parquets/yellow_tripdata_2023_03.parquet', name='yellow_tripdata_2023_03.parquet', size=56127762, modificationTime=1746799892000),\n FileInfo(path='dbfs:/FileStore/parquets/yellow_tripdata_2023_04.parquet', name='yellow_tripdata_2023_04.parquet', size=54222699, modificationTime=1746799897000),\n FileInfo(path='dbfs:/FileStore/parquets/yellow_tripdata_2023_05.parquet', name='yellow_tripdata_2023_05.parquet', size=58654627, modificationTime=1746799901000),\n FileInfo(path='dbfs:/FileStore/parquets/yellow_tripdata_2023_06.parquet', name='yellow_tripdata_2023_06.parquet', size=54999465, modificationTime=1746799905000),\n FileInfo(path='dbfs:/FileStore/parquets/yellow_tripdata_2023_07.parquet', name='yellow_tripdata_2023_07.parquet', size=48361828, modificationTime=1746799909000),\n FileInfo(path='dbfs:/FileStore/parquets/yellow_tripdata_2023_08.parquet', name='yellow_tripdata_2023_08.parquet', size=48152353, modificationTime=1746799912000),\n FileInfo(path='dbfs:/FileStore/parquets/yellow_tripdata_2023_09.parquet', name='yellow_tripdata_2023_09.parquet', size=47895515, modificationTime=1746799917000),\n FileInfo(path='dbfs:/FileStore/parquets/yellow_tripdata_2023_10.parquet', name='yellow_tripdata_2023_10.parquet', size=59009059, modificationTime=1746799921000),\n FileInfo(path='dbfs:/FileStore/parquets/yellow_tripdata_2023_11.parquet', name='yellow_tripdata_2023_11.parquet', size=56094653, modificationTime=1746799926000),\n FileInfo(path='dbfs:/FileStore/parquets/yellow_tripdata_2023_12.parquet', name='yellow_tripdata_2023_12.parquet', size=56804275, modificationTime=1746799930000),\n FileInfo(path='dbfs:/FileStore/parquets/yellow_tripdata_2024_01.parquet', name='yellow_tripdata_2024_01.parquet', size=49961641, modificationTime=1746017295000),\n FileInfo(path='dbfs:/FileStore/parquets/yellow_tripdata_2024_02.parquet', name='yellow_tripdata_2024_02.parquet', size=50349284, modificationTime=1746017299000),\n FileInfo(path='dbfs:/FileStore/parquets/yellow_tripdata_2024_03.parquet', name='yellow_tripdata_2024_03.parquet', size=60078280, modificationTime=1746017303000),\n FileInfo(path='dbfs:/FileStore/parquets/yellow_tripdata_2024_04.parquet', name='yellow_tripdata_2024_04.parquet', size=59133625, modificationTime=1746017307000),\n FileInfo(path='dbfs:/FileStore/parquets/yellow_tripdata_2024_05.parquet', name='yellow_tripdata_2024_05.parquet', size=62553128, modificationTime=1746017312000),\n FileInfo(path='dbfs:/FileStore/parquets/yellow_tripdata_2024_06.parquet', name='yellow_tripdata_2024_06.parquet', size=59859922, modificationTime=1746017316000),\n FileInfo(path='dbfs:/FileStore/parquets/yellow_tripdata_2024_07.parquet', name='yellow_tripdata_2024_07.parquet', size=52299432, modificationTime=1746017320000),\n FileInfo(path='dbfs:/FileStore/parquets/yellow_tripdata_2024_08.parquet', name='yellow_tripdata_2024_08.parquet', size=51067350, modificationTime=1746017324000),\n FileInfo(path='dbfs:/FileStore/parquets/yellow_tripdata_2024_09.parquet', name='yellow_tripdata_2024_09.parquet', size=61170186, modificationTime=1746017329000),\n FileInfo(path='dbfs:/FileStore/parquets/yellow_tripdata_2024_10.parquet', name='yellow_tripdata_2024_10.parquet', size=64346071, modificationTime=1746017334000),\n FileInfo(path='dbfs:/FileStore/parquets/yellow_tripdata_2024_11.parquet', name='yellow_tripdata_2024_11.parquet', size=60658709, modificationTime=1746017338000),\n FileInfo(path='dbfs:/FileStore/parquets/yellow_tripdata_2024_12.parquet', name='yellow_tripdata_2024_12.parquet', size=61524085, modificationTime=1746017343000)]"
     ]
    }
   ],
   "source": [
    "parquets = dbutils.fs.ls(\"dbfs:/FileStore/parquets/\")\n",
    "display(parquets)"
   ]
  },
  {
   "cell_type": "code",
   "execution_count": 0,
   "metadata": {
    "application/vnd.databricks.v1+cell": {
     "cellMetadata": {
      "byteLimit": 2048000,
      "rowLimit": 10000
     },
     "inputWidgets": {},
     "nuid": "7cf336fa-a222-4e7a-9160-241e37aa2d00",
     "showTitle": false,
     "tableResultSettingsMap": {},
     "title": ""
    }
   },
   "outputs": [],
   "source": [
    "# for f in parquets:\n",
    "#     if f.path.endswith(\".parquet\"):\n",
    "#         dbutils.fs.rm(f.path)\n",
    "#         print(f\"Deleted: {f.path}\")"
   ]
  },
  {
   "cell_type": "code",
   "execution_count": 0,
   "metadata": {
    "application/vnd.databricks.v1+cell": {
     "cellMetadata": {
      "byteLimit": 2048000,
      "rowLimit": 10000
     },
     "inputWidgets": {},
     "nuid": "906e73ae-36ba-49fb-880e-d45b73e74d66",
     "showTitle": false,
     "tableResultSettingsMap": {},
     "title": ""
    }
   },
   "outputs": [],
   "source": [
    "# Iniciar Spark\n",
    "# findspark.init()\n",
    "# spark = SparkSession.builder.appName(\"NYC Taxi 2024\").getOrCreate()\n",
    "\n",
    "#"
   ]
  },
  {
   "cell_type": "code",
   "execution_count": 0,
   "metadata": {
    "application/vnd.databricks.v1+cell": {
     "cellMetadata": {
      "byteLimit": 2048000,
      "rowLimit": 10000
     },
     "inputWidgets": {},
     "nuid": "56e13fbe-c70b-4fd2-81d7-0d7efa0d49f0",
     "showTitle": false,
     "tableResultSettingsMap": {},
     "title": ""
    }
   },
   "outputs": [],
   "source": [
    "# List for all the parquet files \n",
    "file_paths = [f.path for f in parquets if f.path.endswith(\".parquet\")]"
   ]
  },
  {
   "cell_type": "code",
   "execution_count": 0,
   "metadata": {
    "application/vnd.databricks.v1+cell": {
     "cellMetadata": {
      "byteLimit": 2048000,
      "rowLimit": 10000
     },
     "inputWidgets": {},
     "nuid": "11ab3e7e-d91e-4dbd-bcb7-4369e68fbe45",
     "showTitle": false,
     "tableResultSettingsMap": {},
     "title": ""
    }
   },
   "outputs": [
    {
     "output_type": "stream",
     "name": "stdout",
     "output_type": "stream",
     "text": [
      "Out[9]: ['dbfs:/FileStore/parquets/yellow_tripdata_2022_01.parquet',\n 'dbfs:/FileStore/parquets/yellow_tripdata_2022_02.parquet',\n 'dbfs:/FileStore/parquets/yellow_tripdata_2022_03.parquet',\n 'dbfs:/FileStore/parquets/yellow_tripdata_2022_04.parquet',\n 'dbfs:/FileStore/parquets/yellow_tripdata_2022_05.parquet',\n 'dbfs:/FileStore/parquets/yellow_tripdata_2022_06.parquet',\n 'dbfs:/FileStore/parquets/yellow_tripdata_2022_07.parquet',\n 'dbfs:/FileStore/parquets/yellow_tripdata_2022_08.parquet',\n 'dbfs:/FileStore/parquets/yellow_tripdata_2022_09.parquet',\n 'dbfs:/FileStore/parquets/yellow_tripdata_2022_10.parquet',\n 'dbfs:/FileStore/parquets/yellow_tripdata_2022_11.parquet',\n 'dbfs:/FileStore/parquets/yellow_tripdata_2022_12.parquet',\n 'dbfs:/FileStore/parquets/yellow_tripdata_2023_01.parquet',\n 'dbfs:/FileStore/parquets/yellow_tripdata_2023_02.parquet',\n 'dbfs:/FileStore/parquets/yellow_tripdata_2023_03.parquet',\n 'dbfs:/FileStore/parquets/yellow_tripdata_2023_04.parquet',\n 'dbfs:/FileStore/parquets/yellow_tripdata_2023_05.parquet',\n 'dbfs:/FileStore/parquets/yellow_tripdata_2023_06.parquet',\n 'dbfs:/FileStore/parquets/yellow_tripdata_2023_07.parquet',\n 'dbfs:/FileStore/parquets/yellow_tripdata_2023_08.parquet',\n 'dbfs:/FileStore/parquets/yellow_tripdata_2023_09.parquet',\n 'dbfs:/FileStore/parquets/yellow_tripdata_2023_10.parquet',\n 'dbfs:/FileStore/parquets/yellow_tripdata_2023_11.parquet',\n 'dbfs:/FileStore/parquets/yellow_tripdata_2023_12.parquet',\n 'dbfs:/FileStore/parquets/yellow_tripdata_2024_01.parquet',\n 'dbfs:/FileStore/parquets/yellow_tripdata_2024_02.parquet',\n 'dbfs:/FileStore/parquets/yellow_tripdata_2024_03.parquet',\n 'dbfs:/FileStore/parquets/yellow_tripdata_2024_04.parquet',\n 'dbfs:/FileStore/parquets/yellow_tripdata_2024_05.parquet',\n 'dbfs:/FileStore/parquets/yellow_tripdata_2024_06.parquet',\n 'dbfs:/FileStore/parquets/yellow_tripdata_2024_07.parquet',\n 'dbfs:/FileStore/parquets/yellow_tripdata_2024_08.parquet',\n 'dbfs:/FileStore/parquets/yellow_tripdata_2024_09.parquet',\n 'dbfs:/FileStore/parquets/yellow_tripdata_2024_10.parquet',\n 'dbfs:/FileStore/parquets/yellow_tripdata_2024_11.parquet',\n 'dbfs:/FileStore/parquets/yellow_tripdata_2024_12.parquet']"
     ]
    }
   ],
   "source": [
    "file_paths"
   ]
  },
  {
   "cell_type": "code",
   "execution_count": 0,
   "metadata": {
    "application/vnd.databricks.v1+cell": {
     "cellMetadata": {
      "byteLimit": 2048000,
      "rowLimit": 10000
     },
     "inputWidgets": {},
     "nuid": "9df9103f-8f34-4a07-b357-aad6fb7c7964",
     "showTitle": false,
     "tableResultSettingsMap": {},
     "title": ""
    }
   },
   "outputs": [],
   "source": [
    "# Function to extract the month from the filename\n",
    "def extract_year_month(filename):\n",
    "    filename= filename.replace('.parquet','') # To remove .parquet\n",
    "\n",
    "    # Get the file name from the full path\n",
    "    file_name = filename.split('/')[-1]  # ex: 'yellow_tripdata_2024_01'\n",
    "\n",
    "    # Then split the name\n",
    "    name_split= file_name.split('_')\n",
    "\n",
    "    # Get the year and month\n",
    "    year= name_split[2]\n",
    "    month= name_split[3]\n",
    "    \n",
    "    return year,month"
   ]
  },
  {
   "cell_type": "code",
   "execution_count": 0,
   "metadata": {
    "application/vnd.databricks.v1+cell": {
     "cellMetadata": {
      "byteLimit": 2048000,
      "rowLimit": 10000
     },
     "inputWidgets": {},
     "nuid": "479f98a2-c81f-466f-8e48-22635c900a9d",
     "showTitle": false,
     "tableResultSettingsMap": {},
     "title": ""
    }
   },
   "outputs": [],
   "source": [
    "# Loads the files and adds the 'month' column\n",
    "dfs = []\n",
    "for path in file_paths:\n",
    "    year, month = extract_year_month(path)\n",
    "    df = spark.read.parquet(path)\n",
    "    df = df.withColumn(\"month\", F.lit(int(month)))  # adds the column month\n",
    "    df= df.withColumn(\"year\", F.lit(int(year))) \n",
    "    dfs.append(df)"
   ]
  },
  {
   "cell_type": "code",
   "execution_count": 0,
   "metadata": {
    "application/vnd.databricks.v1+cell": {
     "cellMetadata": {
      "byteLimit": 2048000,
      "rowLimit": 10000
     },
     "inputWidgets": {},
     "nuid": "aef38891-c792-42cd-802e-0325c9c8f1ff",
     "showTitle": false,
     "tableResultSettingsMap": {},
     "title": ""
    }
   },
   "outputs": [],
   "source": [
    "# Joins everything into a single DataFrame\n",
    "full_df = reduce(DataFrame.unionByName, dfs)"
   ]
  },
  {
   "cell_type": "code",
   "execution_count": 0,
   "metadata": {
    "application/vnd.databricks.v1+cell": {
     "cellMetadata": {
      "byteLimit": 2048000,
      "rowLimit": 10000
     },
     "inputWidgets": {},
     "nuid": "daa97c97-0ba7-47d1-876d-22387e823267",
     "showTitle": false,
     "tableResultSettingsMap": {},
     "title": ""
    }
   },
   "outputs": [
    {
     "output_type": "stream",
     "name": "stdout",
     "output_type": "stream",
     "text": [
      "+--------+--------------------+---------------------+---------------+-------------+----------+------------------+------------+------------+------------+-----------+-----+-------+----------+------------+---------------------+------------+--------------------+-----------+-----+----+\n|VendorID|tpep_pickup_datetime|tpep_dropoff_datetime|passenger_count|trip_distance|RatecodeID|store_and_fwd_flag|PULocationID|DOLocationID|payment_type|fare_amount|extra|mta_tax|tip_amount|tolls_amount|improvement_surcharge|total_amount|congestion_surcharge|airport_fee|month|year|\n+--------+--------------------+---------------------+---------------+-------------+----------+------------------+------------+------------+------------+-----------+-----+-------+----------+------------+---------------------+------------+--------------------+-----------+-----+----+\n|       1| 2022-01-01 00:35:40|  2022-01-01 00:53:29|            2.0|          3.8|       1.0|                 N|         142|         236|           1|       14.5|  3.0|    0.5|      3.65|         0.0|                  0.3|       21.95|                 2.5|        0.0|    1|2022|\n|       1| 2022-01-01 00:33:43|  2022-01-01 00:42:07|            1.0|          2.1|       1.0|                 N|         236|          42|           1|        8.0|  0.5|    0.5|       4.0|         0.0|                  0.3|        13.3|                 0.0|        0.0|    1|2022|\n|       2| 2022-01-01 00:53:21|  2022-01-01 01:02:19|            1.0|         0.97|       1.0|                 N|         166|         166|           1|        7.5|  0.5|    0.5|      1.76|         0.0|                  0.3|       10.56|                 0.0|        0.0|    1|2022|\n|       2| 2022-01-01 00:25:21|  2022-01-01 00:35:23|            1.0|         1.09|       1.0|                 N|         114|          68|           2|        8.0|  0.5|    0.5|       0.0|         0.0|                  0.3|        11.8|                 2.5|        0.0|    1|2022|\n|       2| 2022-01-01 00:36:48|  2022-01-01 01:14:20|            1.0|          4.3|       1.0|                 N|          68|         163|           1|       23.5|  0.5|    0.5|       3.0|         0.0|                  0.3|        30.3|                 2.5|        0.0|    1|2022|\n|       1| 2022-01-01 00:40:15|  2022-01-01 01:09:48|            1.0|         10.3|       1.0|                 N|         138|         161|           1|       33.0|  3.0|    0.5|      13.0|        6.55|                  0.3|       56.35|                 2.5|        0.0|    1|2022|\n|       2| 2022-01-01 00:20:50|  2022-01-01 00:34:58|            1.0|         5.07|       1.0|                 N|         233|          87|           1|       17.0|  0.5|    0.5|       5.2|         0.0|                  0.3|        26.0|                 2.5|        0.0|    1|2022|\n|       2| 2022-01-01 00:13:04|  2022-01-01 00:22:45|            1.0|         2.02|       1.0|                 N|         238|         152|           2|        9.0|  0.5|    0.5|       0.0|         0.0|                  0.3|        12.8|                 2.5|        0.0|    1|2022|\n|       2| 2022-01-01 00:30:02|  2022-01-01 00:44:49|            1.0|         2.71|       1.0|                 N|         166|         236|           1|       12.0|  0.5|    0.5|      2.25|         0.0|                  0.3|       18.05|                 2.5|        0.0|    1|2022|\n|       2| 2022-01-01 00:48:52|  2022-01-01 00:53:28|            1.0|         0.78|       1.0|                 N|         236|         141|           2|        5.0|  0.5|    0.5|       0.0|         0.0|                  0.3|         8.8|                 2.5|        0.0|    1|2022|\n|       2| 2022-01-01 00:55:03|  2022-01-01 01:04:25|            1.0|         1.91|       1.0|                 N|         141|         229|           2|        8.5|  0.5|    0.5|       0.0|         0.0|                  0.3|        12.3|                 2.5|        0.0|    1|2022|\n|       2| 2022-01-01 00:31:06|  2022-01-01 00:34:14|            3.0|         0.82|       1.0|                 N|         114|          90|           2|        4.5|  0.5|    0.5|       0.0|         0.0|                  0.3|         8.3|                 2.5|        0.0|    1|2022|\n|       2| 2022-01-01 00:41:07|  2022-01-01 00:44:46|            3.0|         0.73|       1.0|                 N|         234|         113|           2|        4.5|  0.5|    0.5|       0.0|         0.0|                  0.3|         8.3|                 2.5|        0.0|    1|2022|\n|       2| 2022-01-01 00:56:34|  2022-01-01 01:12:04|            2.0|         2.16|       1.0|                 N|         246|          79|           1|       11.5|  0.5|    0.5|      3.06|         0.0|                  0.3|       18.36|                 2.5|        0.0|    1|2022|\n|       2| 2022-01-01 00:39:46|  2022-01-01 00:47:36|            4.0|         1.43|       1.0|                 N|          43|         140|           1|        7.5|  0.5|    0.5|      2.26|         0.0|                  0.3|       13.56|                 2.5|        0.0|    1|2022|\n|       2| 2022-01-01 00:58:06|  2022-01-01 01:05:45|            1.0|         1.58|       1.0|                 N|         239|         151|           2|        8.0|  0.5|    0.5|       0.0|         0.0|                  0.3|        11.8|                 2.5|        0.0|    1|2022|\n|       1| 2022-01-01 00:33:52|  2022-01-01 00:47:28|            3.0|          4.2|       1.0|                 N|         148|         141|           1|       14.0|  2.5|    0.5|      3.45|         0.0|                  0.3|       20.75|                 2.5|        0.0|    1|2022|\n|       1| 2022-01-01 00:53:54|  2022-01-01 01:05:20|            2.0|          2.2|       1.0|                 N|         237|         107|           1|        9.5|  2.5|    0.5|      2.55|         0.0|                  0.3|       15.35|                 2.5|        0.0|    1|2022|\n|       1| 2022-01-01 00:00:44|  2022-01-01 00:05:29|            1.0|          0.2|       1.0|                 N|           7|           7|           2|        5.0|  0.5|    0.5|       0.0|         0.0|                  0.3|         6.3|                 0.0|        0.0|    1|2022|\n|       1| 2022-01-01 00:35:50|  2022-01-01 00:48:33|            2.0|          3.9|       1.0|                 N|         107|         263|           1|       13.0|  3.0|    0.5|      3.35|         0.0|                  0.3|       20.15|                 2.5|        0.0|    1|2022|\n+--------+--------------------+---------------------+---------------+-------------+----------+------------------+------------+------------+------------+-----------+-----+-------+----------+------------+---------------------+------------+--------------------+-----------+-----+----+\nonly showing top 20 rows\n\n"
     ]
    }
   ],
   "source": [
    "full_df.show()"
   ]
  },
  {
   "cell_type": "code",
   "execution_count": 0,
   "metadata": {
    "application/vnd.databricks.v1+cell": {
     "cellMetadata": {
      "byteLimit": 2048000,
      "rowLimit": 10000
     },
     "inputWidgets": {},
     "nuid": "6c6cb490-58a8-47d7-8e1d-1a0056e2f897",
     "showTitle": false,
     "tableResultSettingsMap": {},
     "title": ""
    }
   },
   "outputs": [
    {
     "output_type": "stream",
     "name": "stdout",
     "output_type": "stream",
     "text": [
      "Total rows: 119136044\nColumns: ['VendorID', 'tpep_pickup_datetime', 'tpep_dropoff_datetime', 'passenger_count', 'trip_distance', 'RatecodeID', 'store_and_fwd_flag', 'PULocationID', 'DOLocationID', 'payment_type', 'fare_amount', 'extra', 'mta_tax', 'tip_amount', 'tolls_amount', 'improvement_surcharge', 'total_amount', 'congestion_surcharge', 'airport_fee', 'month', 'year']\n"
     ]
    }
   ],
   "source": [
    "# Check the result\n",
    "print(f\"Total rows: {full_df.count()}\")\n",
    "print(f\"Columns: {full_df.columns}\")"
   ]
  },
  {
   "cell_type": "code",
   "execution_count": 0,
   "metadata": {
    "application/vnd.databricks.v1+cell": {
     "cellMetadata": {
      "byteLimit": 2048000,
      "rowLimit": 10000
     },
     "inputWidgets": {},
     "nuid": "5147f66d-3243-4fb7-8645-3de1a5adbc59",
     "showTitle": false,
     "tableResultSettingsMap": {},
     "title": ""
    }
   },
   "outputs": [
    {
     "output_type": "display_data",
     "data": {
      "text/plain": [
       "\u001B[0;31m---------------------------------------------------------------------------\u001B[0m\n",
       "\u001B[0;31mFileNotFoundError\u001B[0m                         Traceback (most recent call last)\n",
       "File \u001B[0;32m<command-631740233671429>:1\u001B[0m\n",
       "\u001B[0;32m----> 1\u001B[0m display(\u001B[43mImage\u001B[49m\u001B[43m(\u001B[49m\u001B[43mfilename\u001B[49m\u001B[38;5;241;43m=\u001B[39;49m\u001B[38;5;124;43m\"\u001B[39;49m\u001B[38;5;124;43m/FileStore/tables/figura.png\u001B[39;49m\u001B[38;5;124;43m\"\u001B[39;49m\u001B[43m)\u001B[49m)\n",
       "\n",
       "File \u001B[0;32m/databricks/python/lib/python3.9/site-packages/IPython/core/display.py:957\u001B[0m, in \u001B[0;36mImage.__init__\u001B[0;34m(self, data, url, filename, format, embed, width, height, retina, unconfined, metadata, alt)\u001B[0m\n",
       "\u001B[1;32m    955\u001B[0m \u001B[38;5;28mself\u001B[39m\u001B[38;5;241m.\u001B[39munconfined \u001B[38;5;241m=\u001B[39m unconfined\n",
       "\u001B[1;32m    956\u001B[0m \u001B[38;5;28mself\u001B[39m\u001B[38;5;241m.\u001B[39malt \u001B[38;5;241m=\u001B[39m alt\n",
       "\u001B[0;32m--> 957\u001B[0m \u001B[38;5;28;43msuper\u001B[39;49m\u001B[43m(\u001B[49m\u001B[43mImage\u001B[49m\u001B[43m,\u001B[49m\u001B[43m \u001B[49m\u001B[38;5;28;43mself\u001B[39;49m\u001B[43m)\u001B[49m\u001B[38;5;241;43m.\u001B[39;49m\u001B[38;5;21;43m__init__\u001B[39;49m\u001B[43m(\u001B[49m\u001B[43mdata\u001B[49m\u001B[38;5;241;43m=\u001B[39;49m\u001B[43mdata\u001B[49m\u001B[43m,\u001B[49m\u001B[43m \u001B[49m\u001B[43murl\u001B[49m\u001B[38;5;241;43m=\u001B[39;49m\u001B[43murl\u001B[49m\u001B[43m,\u001B[49m\u001B[43m \u001B[49m\u001B[43mfilename\u001B[49m\u001B[38;5;241;43m=\u001B[39;49m\u001B[43mfilename\u001B[49m\u001B[43m,\u001B[49m\n",
       "\u001B[1;32m    958\u001B[0m \u001B[43m        \u001B[49m\u001B[43mmetadata\u001B[49m\u001B[38;5;241;43m=\u001B[39;49m\u001B[43mmetadata\u001B[49m\u001B[43m)\u001B[49m\n",
       "\u001B[1;32m    960\u001B[0m \u001B[38;5;28;01mif\u001B[39;00m \u001B[38;5;28mself\u001B[39m\u001B[38;5;241m.\u001B[39mwidth \u001B[38;5;129;01mis\u001B[39;00m \u001B[38;5;28;01mNone\u001B[39;00m \u001B[38;5;129;01mand\u001B[39;00m \u001B[38;5;28mself\u001B[39m\u001B[38;5;241m.\u001B[39mmetadata\u001B[38;5;241m.\u001B[39mget(\u001B[38;5;124m'\u001B[39m\u001B[38;5;124mwidth\u001B[39m\u001B[38;5;124m'\u001B[39m, {}):\n",
       "\u001B[1;32m    961\u001B[0m     \u001B[38;5;28mself\u001B[39m\u001B[38;5;241m.\u001B[39mwidth \u001B[38;5;241m=\u001B[39m metadata[\u001B[38;5;124m'\u001B[39m\u001B[38;5;124mwidth\u001B[39m\u001B[38;5;124m'\u001B[39m]\n",
       "\n",
       "File \u001B[0;32m/databricks/python/lib/python3.9/site-packages/IPython/core/display.py:327\u001B[0m, in \u001B[0;36mDisplayObject.__init__\u001B[0;34m(self, data, url, filename, metadata)\u001B[0m\n",
       "\u001B[1;32m    324\u001B[0m \u001B[38;5;28;01melif\u001B[39;00m \u001B[38;5;28mself\u001B[39m\u001B[38;5;241m.\u001B[39mmetadata \u001B[38;5;129;01mis\u001B[39;00m \u001B[38;5;28;01mNone\u001B[39;00m:\n",
       "\u001B[1;32m    325\u001B[0m     \u001B[38;5;28mself\u001B[39m\u001B[38;5;241m.\u001B[39mmetadata \u001B[38;5;241m=\u001B[39m {}\n",
       "\u001B[0;32m--> 327\u001B[0m \u001B[38;5;28;43mself\u001B[39;49m\u001B[38;5;241;43m.\u001B[39;49m\u001B[43mreload\u001B[49m\u001B[43m(\u001B[49m\u001B[43m)\u001B[49m\n",
       "\u001B[1;32m    328\u001B[0m \u001B[38;5;28mself\u001B[39m\u001B[38;5;241m.\u001B[39m_check_data()\n",
       "\n",
       "File \u001B[0;32m/databricks/python/lib/python3.9/site-packages/IPython/core/display.py:992\u001B[0m, in \u001B[0;36mImage.reload\u001B[0;34m(self)\u001B[0m\n",
       "\u001B[1;32m    990\u001B[0m \u001B[38;5;124;03m\"\"\"Reload the raw data from file or URL.\"\"\"\u001B[39;00m\n",
       "\u001B[1;32m    991\u001B[0m \u001B[38;5;28;01mif\u001B[39;00m \u001B[38;5;28mself\u001B[39m\u001B[38;5;241m.\u001B[39membed:\n",
       "\u001B[0;32m--> 992\u001B[0m     \u001B[38;5;28;43msuper\u001B[39;49m\u001B[43m(\u001B[49m\u001B[43mImage\u001B[49m\u001B[43m,\u001B[49m\u001B[38;5;28;43mself\u001B[39;49m\u001B[43m)\u001B[49m\u001B[38;5;241;43m.\u001B[39;49m\u001B[43mreload\u001B[49m\u001B[43m(\u001B[49m\u001B[43m)\u001B[49m\n",
       "\u001B[1;32m    993\u001B[0m     \u001B[38;5;28;01mif\u001B[39;00m \u001B[38;5;28mself\u001B[39m\u001B[38;5;241m.\u001B[39mretina:\n",
       "\u001B[1;32m    994\u001B[0m         \u001B[38;5;28mself\u001B[39m\u001B[38;5;241m.\u001B[39m_retina_shape()\n",
       "\n",
       "File \u001B[0;32m/databricks/python/lib/python3.9/site-packages/IPython/core/display.py:353\u001B[0m, in \u001B[0;36mDisplayObject.reload\u001B[0;34m(self)\u001B[0m\n",
       "\u001B[1;32m    351\u001B[0m \u001B[38;5;28;01mif\u001B[39;00m \u001B[38;5;28mself\u001B[39m\u001B[38;5;241m.\u001B[39mfilename \u001B[38;5;129;01mis\u001B[39;00m \u001B[38;5;129;01mnot\u001B[39;00m \u001B[38;5;28;01mNone\u001B[39;00m:\n",
       "\u001B[1;32m    352\u001B[0m     encoding \u001B[38;5;241m=\u001B[39m \u001B[38;5;28;01mNone\u001B[39;00m \u001B[38;5;28;01mif\u001B[39;00m \u001B[38;5;124m\"\u001B[39m\u001B[38;5;124mb\u001B[39m\u001B[38;5;124m\"\u001B[39m \u001B[38;5;129;01min\u001B[39;00m \u001B[38;5;28mself\u001B[39m\u001B[38;5;241m.\u001B[39m_read_flags \u001B[38;5;28;01melse\u001B[39;00m \u001B[38;5;124m\"\u001B[39m\u001B[38;5;124mutf-8\u001B[39m\u001B[38;5;124m\"\u001B[39m\n",
       "\u001B[0;32m--> 353\u001B[0m     \u001B[38;5;28;01mwith\u001B[39;00m \u001B[38;5;28;43mopen\u001B[39;49m\u001B[43m(\u001B[49m\u001B[38;5;28;43mself\u001B[39;49m\u001B[38;5;241;43m.\u001B[39;49m\u001B[43mfilename\u001B[49m\u001B[43m,\u001B[49m\u001B[43m \u001B[49m\u001B[38;5;28;43mself\u001B[39;49m\u001B[38;5;241;43m.\u001B[39;49m\u001B[43m_read_flags\u001B[49m\u001B[43m,\u001B[49m\u001B[43m \u001B[49m\u001B[43mencoding\u001B[49m\u001B[38;5;241;43m=\u001B[39;49m\u001B[43mencoding\u001B[49m\u001B[43m)\u001B[49m \u001B[38;5;28;01mas\u001B[39;00m f:\n",
       "\u001B[1;32m    354\u001B[0m         \u001B[38;5;28mself\u001B[39m\u001B[38;5;241m.\u001B[39mdata \u001B[38;5;241m=\u001B[39m f\u001B[38;5;241m.\u001B[39mread()\n",
       "\u001B[1;32m    355\u001B[0m \u001B[38;5;28;01melif\u001B[39;00m \u001B[38;5;28mself\u001B[39m\u001B[38;5;241m.\u001B[39murl \u001B[38;5;129;01mis\u001B[39;00m \u001B[38;5;129;01mnot\u001B[39;00m \u001B[38;5;28;01mNone\u001B[39;00m:\n",
       "\u001B[1;32m    356\u001B[0m     \u001B[38;5;66;03m# Deferred import\u001B[39;00m\n",
       "\n",
       "\u001B[0;31mFileNotFoundError\u001B[0m: [Errno 2] No such file or directory: '/FileStore/tables/figura.png'"
      ]
     },
     "metadata": {
      "application/vnd.databricks.v1+output": {
       "arguments": {},
       "data": "\u001B[0;31m---------------------------------------------------------------------------\u001B[0m\n\u001B[0;31mFileNotFoundError\u001B[0m                         Traceback (most recent call last)\nFile \u001B[0;32m<command-631740233671429>:1\u001B[0m\n\u001B[0;32m----> 1\u001B[0m display(\u001B[43mImage\u001B[49m\u001B[43m(\u001B[49m\u001B[43mfilename\u001B[49m\u001B[38;5;241;43m=\u001B[39;49m\u001B[38;5;124;43m\"\u001B[39;49m\u001B[38;5;124;43m/FileStore/tables/figura.png\u001B[39;49m\u001B[38;5;124;43m\"\u001B[39;49m\u001B[43m)\u001B[49m)\n\nFile \u001B[0;32m/databricks/python/lib/python3.9/site-packages/IPython/core/display.py:957\u001B[0m, in \u001B[0;36mImage.__init__\u001B[0;34m(self, data, url, filename, format, embed, width, height, retina, unconfined, metadata, alt)\u001B[0m\n\u001B[1;32m    955\u001B[0m \u001B[38;5;28mself\u001B[39m\u001B[38;5;241m.\u001B[39munconfined \u001B[38;5;241m=\u001B[39m unconfined\n\u001B[1;32m    956\u001B[0m \u001B[38;5;28mself\u001B[39m\u001B[38;5;241m.\u001B[39malt \u001B[38;5;241m=\u001B[39m alt\n\u001B[0;32m--> 957\u001B[0m \u001B[38;5;28;43msuper\u001B[39;49m\u001B[43m(\u001B[49m\u001B[43mImage\u001B[49m\u001B[43m,\u001B[49m\u001B[43m \u001B[49m\u001B[38;5;28;43mself\u001B[39;49m\u001B[43m)\u001B[49m\u001B[38;5;241;43m.\u001B[39;49m\u001B[38;5;21;43m__init__\u001B[39;49m\u001B[43m(\u001B[49m\u001B[43mdata\u001B[49m\u001B[38;5;241;43m=\u001B[39;49m\u001B[43mdata\u001B[49m\u001B[43m,\u001B[49m\u001B[43m \u001B[49m\u001B[43murl\u001B[49m\u001B[38;5;241;43m=\u001B[39;49m\u001B[43murl\u001B[49m\u001B[43m,\u001B[49m\u001B[43m \u001B[49m\u001B[43mfilename\u001B[49m\u001B[38;5;241;43m=\u001B[39;49m\u001B[43mfilename\u001B[49m\u001B[43m,\u001B[49m\n\u001B[1;32m    958\u001B[0m \u001B[43m        \u001B[49m\u001B[43mmetadata\u001B[49m\u001B[38;5;241;43m=\u001B[39;49m\u001B[43mmetadata\u001B[49m\u001B[43m)\u001B[49m\n\u001B[1;32m    960\u001B[0m \u001B[38;5;28;01mif\u001B[39;00m \u001B[38;5;28mself\u001B[39m\u001B[38;5;241m.\u001B[39mwidth \u001B[38;5;129;01mis\u001B[39;00m \u001B[38;5;28;01mNone\u001B[39;00m \u001B[38;5;129;01mand\u001B[39;00m \u001B[38;5;28mself\u001B[39m\u001B[38;5;241m.\u001B[39mmetadata\u001B[38;5;241m.\u001B[39mget(\u001B[38;5;124m'\u001B[39m\u001B[38;5;124mwidth\u001B[39m\u001B[38;5;124m'\u001B[39m, {}):\n\u001B[1;32m    961\u001B[0m     \u001B[38;5;28mself\u001B[39m\u001B[38;5;241m.\u001B[39mwidth \u001B[38;5;241m=\u001B[39m metadata[\u001B[38;5;124m'\u001B[39m\u001B[38;5;124mwidth\u001B[39m\u001B[38;5;124m'\u001B[39m]\n\nFile \u001B[0;32m/databricks/python/lib/python3.9/site-packages/IPython/core/display.py:327\u001B[0m, in \u001B[0;36mDisplayObject.__init__\u001B[0;34m(self, data, url, filename, metadata)\u001B[0m\n\u001B[1;32m    324\u001B[0m \u001B[38;5;28;01melif\u001B[39;00m \u001B[38;5;28mself\u001B[39m\u001B[38;5;241m.\u001B[39mmetadata \u001B[38;5;129;01mis\u001B[39;00m \u001B[38;5;28;01mNone\u001B[39;00m:\n\u001B[1;32m    325\u001B[0m     \u001B[38;5;28mself\u001B[39m\u001B[38;5;241m.\u001B[39mmetadata \u001B[38;5;241m=\u001B[39m {}\n\u001B[0;32m--> 327\u001B[0m \u001B[38;5;28;43mself\u001B[39;49m\u001B[38;5;241;43m.\u001B[39;49m\u001B[43mreload\u001B[49m\u001B[43m(\u001B[49m\u001B[43m)\u001B[49m\n\u001B[1;32m    328\u001B[0m \u001B[38;5;28mself\u001B[39m\u001B[38;5;241m.\u001B[39m_check_data()\n\nFile \u001B[0;32m/databricks/python/lib/python3.9/site-packages/IPython/core/display.py:992\u001B[0m, in \u001B[0;36mImage.reload\u001B[0;34m(self)\u001B[0m\n\u001B[1;32m    990\u001B[0m \u001B[38;5;124;03m\"\"\"Reload the raw data from file or URL.\"\"\"\u001B[39;00m\n\u001B[1;32m    991\u001B[0m \u001B[38;5;28;01mif\u001B[39;00m \u001B[38;5;28mself\u001B[39m\u001B[38;5;241m.\u001B[39membed:\n\u001B[0;32m--> 992\u001B[0m     \u001B[38;5;28;43msuper\u001B[39;49m\u001B[43m(\u001B[49m\u001B[43mImage\u001B[49m\u001B[43m,\u001B[49m\u001B[38;5;28;43mself\u001B[39;49m\u001B[43m)\u001B[49m\u001B[38;5;241;43m.\u001B[39;49m\u001B[43mreload\u001B[49m\u001B[43m(\u001B[49m\u001B[43m)\u001B[49m\n\u001B[1;32m    993\u001B[0m     \u001B[38;5;28;01mif\u001B[39;00m \u001B[38;5;28mself\u001B[39m\u001B[38;5;241m.\u001B[39mretina:\n\u001B[1;32m    994\u001B[0m         \u001B[38;5;28mself\u001B[39m\u001B[38;5;241m.\u001B[39m_retina_shape()\n\nFile \u001B[0;32m/databricks/python/lib/python3.9/site-packages/IPython/core/display.py:353\u001B[0m, in \u001B[0;36mDisplayObject.reload\u001B[0;34m(self)\u001B[0m\n\u001B[1;32m    351\u001B[0m \u001B[38;5;28;01mif\u001B[39;00m \u001B[38;5;28mself\u001B[39m\u001B[38;5;241m.\u001B[39mfilename \u001B[38;5;129;01mis\u001B[39;00m \u001B[38;5;129;01mnot\u001B[39;00m \u001B[38;5;28;01mNone\u001B[39;00m:\n\u001B[1;32m    352\u001B[0m     encoding \u001B[38;5;241m=\u001B[39m \u001B[38;5;28;01mNone\u001B[39;00m \u001B[38;5;28;01mif\u001B[39;00m \u001B[38;5;124m\"\u001B[39m\u001B[38;5;124mb\u001B[39m\u001B[38;5;124m\"\u001B[39m \u001B[38;5;129;01min\u001B[39;00m \u001B[38;5;28mself\u001B[39m\u001B[38;5;241m.\u001B[39m_read_flags \u001B[38;5;28;01melse\u001B[39;00m \u001B[38;5;124m\"\u001B[39m\u001B[38;5;124mutf-8\u001B[39m\u001B[38;5;124m\"\u001B[39m\n\u001B[0;32m--> 353\u001B[0m     \u001B[38;5;28;01mwith\u001B[39;00m \u001B[38;5;28;43mopen\u001B[39;49m\u001B[43m(\u001B[49m\u001B[38;5;28;43mself\u001B[39;49m\u001B[38;5;241;43m.\u001B[39;49m\u001B[43mfilename\u001B[49m\u001B[43m,\u001B[49m\u001B[43m \u001B[49m\u001B[38;5;28;43mself\u001B[39;49m\u001B[38;5;241;43m.\u001B[39;49m\u001B[43m_read_flags\u001B[49m\u001B[43m,\u001B[49m\u001B[43m \u001B[49m\u001B[43mencoding\u001B[49m\u001B[38;5;241;43m=\u001B[39;49m\u001B[43mencoding\u001B[49m\u001B[43m)\u001B[49m \u001B[38;5;28;01mas\u001B[39;00m f:\n\u001B[1;32m    354\u001B[0m         \u001B[38;5;28mself\u001B[39m\u001B[38;5;241m.\u001B[39mdata \u001B[38;5;241m=\u001B[39m f\u001B[38;5;241m.\u001B[39mread()\n\u001B[1;32m    355\u001B[0m \u001B[38;5;28;01melif\u001B[39;00m \u001B[38;5;28mself\u001B[39m\u001B[38;5;241m.\u001B[39murl \u001B[38;5;129;01mis\u001B[39;00m \u001B[38;5;129;01mnot\u001B[39;00m \u001B[38;5;28;01mNone\u001B[39;00m:\n\u001B[1;32m    356\u001B[0m     \u001B[38;5;66;03m# Deferred import\u001B[39;00m\n\n\u001B[0;31mFileNotFoundError\u001B[0m: [Errno 2] No such file or directory: '/FileStore/tables/figura.png'",
       "errorSummary": "<span class='ansi-red-fg'>FileNotFoundError</span>: [Errno 2] No such file or directory: '/FileStore/tables/figura.png'",
       "errorTraceType": "ansi",
       "metadata": {},
       "type": "ipynbError"
      }
     },
     "output_type": "display_data"
    }
   ],
   "source": [
    "display(Image(filename=\"/FileStore/tables/figura.png\"))"
   ]
  },
  {
   "cell_type": "markdown",
   "metadata": {
    "application/vnd.databricks.v1+cell": {
     "cellMetadata": {
      "byteLimit": 2048000,
      "rowLimit": 10000
     },
     "inputWidgets": {},
     "nuid": "d9c3e1bb-16e6-47da-a92f-b3cdce74be71",
     "showTitle": false,
     "tableResultSettingsMap": {},
     "title": ""
    }
   },
   "source": [
    "# EDA"
   ]
  },
  {
   "cell_type": "code",
   "execution_count": 0,
   "metadata": {
    "application/vnd.databricks.v1+cell": {
     "cellMetadata": {
      "byteLimit": 2048000,
      "rowLimit": 10000
     },
     "inputWidgets": {},
     "nuid": "44b90153-471c-4cfb-ac6a-4b2e35a12bcd",
     "showTitle": false,
     "tableResultSettingsMap": {},
     "title": ""
    }
   },
   "outputs": [
    {
     "output_type": "stream",
     "name": "stdout",
     "output_type": "stream",
     "text": [
      "root\n |-- VendorID: long (nullable = true)\n |-- tpep_pickup_datetime: timestamp (nullable = true)\n |-- tpep_dropoff_datetime: timestamp (nullable = true)\n |-- passenger_count: double (nullable = true)\n |-- trip_distance: double (nullable = true)\n |-- RatecodeID: double (nullable = true)\n |-- store_and_fwd_flag: string (nullable = true)\n |-- PULocationID: long (nullable = true)\n |-- DOLocationID: long (nullable = true)\n |-- payment_type: long (nullable = true)\n |-- fare_amount: double (nullable = true)\n |-- extra: double (nullable = true)\n |-- mta_tax: double (nullable = true)\n |-- tip_amount: double (nullable = true)\n |-- tolls_amount: double (nullable = true)\n |-- improvement_surcharge: double (nullable = true)\n |-- total_amount: double (nullable = true)\n |-- congestion_surcharge: double (nullable = true)\n |-- airport_fee: double (nullable = true)\n |-- month: integer (nullable = false)\n |-- year: integer (nullable = false)\n\n"
     ]
    }
   ],
   "source": [
    "# See the schema (column names and types)\n",
    "full_df.printSchema()"
   ]
  },
  {
   "cell_type": "code",
   "execution_count": 0,
   "metadata": {
    "application/vnd.databricks.v1+cell": {
     "cellMetadata": {
      "byteLimit": 2048000,
      "rowLimit": 10000
     },
     "inputWidgets": {},
     "nuid": "5ae2e561-a3d6-4501-82e6-6e89d7b85c9e",
     "showTitle": false,
     "tableResultSettingsMap": {},
     "title": ""
    }
   },
   "outputs": [],
   "source": [
    "#all the collumns that have type double (continuous variables)\n",
    "continuous_cols = [\n",
    "    \"trip_distance\", \"fare_amount\", \"tip_amount\", \"total_amount\",\n",
    "    \"extra\", \"mta_tax\", \"tolls_amount\", \"improvement_surcharge\",\n",
    "    \"congestion_surcharge\", \"airport_fee\"\n",
    "]"
   ]
  },
  {
   "cell_type": "code",
   "execution_count": 0,
   "metadata": {
    "application/vnd.databricks.v1+cell": {
     "cellMetadata": {
      "byteLimit": 2048000,
      "rowLimit": 10000
     },
     "inputWidgets": {},
     "nuid": "1972e695-3721-4479-b36a-a143e9756071",
     "showTitle": false,
     "tableResultSettingsMap": {},
     "title": ""
    }
   },
   "outputs": [
    {
     "output_type": "display_data",
     "data": {
      "text/html": [
       "<div>\n",
       "<style scoped>\n",
       "    .dataframe tbody tr th:only-of-type {\n",
       "        vertical-align: middle;\n",
       "    }\n",
       "\n",
       "    .dataframe tbody tr th {\n",
       "        vertical-align: top;\n",
       "    }\n",
       "\n",
       "    .dataframe thead th {\n",
       "        text-align: right;\n",
       "    }\n",
       "</style>\n",
       "<table border=\"1\" class=\"dataframe\">\n",
       "  <thead>\n",
       "    <tr style=\"text-align: right;\">\n",
       "      <th>summary</th>\n",
       "      <th>count</th>\n",
       "      <th>mean</th>\n",
       "      <th>stddev</th>\n",
       "      <th>min</th>\n",
       "      <th>max</th>\n",
       "    </tr>\n",
       "  </thead>\n",
       "  <tbody>\n",
       "    <tr>\n",
       "      <th>trip_distance</th>\n",
       "      <td>119136044</td>\n",
       "      <td>5.018125657756097</td>\n",
       "      <td>446.04888573457214</td>\n",
       "      <td>0.0</td>\n",
       "      <td>398608.62</td>\n",
       "    </tr>\n",
       "    <tr>\n",
       "      <th>fare_amount</th>\n",
       "      <td>119136044</td>\n",
       "      <td>16.385721683690377</td>\n",
       "      <td>12882.321816671303</td>\n",
       "      <td>-1.33391414E8</td>\n",
       "      <td>401092.32</td>\n",
       "    </tr>\n",
       "    <tr>\n",
       "      <th>tip_amount</th>\n",
       "      <td>119136044</td>\n",
       "      <td>4.683986916336596</td>\n",
       "      <td>12882.046863864049</td>\n",
       "      <td>-411.0</td>\n",
       "      <td>1.3339136353E8</td>\n",
       "    </tr>\n",
       "    <tr>\n",
       "      <th>total_amount</th>\n",
       "      <td>119136044</td>\n",
       "      <td>25.9841638083848</td>\n",
       "      <td>84.37535942749156</td>\n",
       "      <td>-2567.8</td>\n",
       "      <td>401095.62</td>\n",
       "    </tr>\n",
       "    <tr>\n",
       "      <th>extra</th>\n",
       "      <td>119136044</td>\n",
       "      <td>1.3146900143838929</td>\n",
       "      <td>1.9112348878262777</td>\n",
       "      <td>-39.17</td>\n",
       "      <td>10002.5</td>\n",
       "    </tr>\n",
       "    <tr>\n",
       "      <th>mta_tax</th>\n",
       "      <td>119136044</td>\n",
       "      <td>0.48466054261462993</td>\n",
       "      <td>0.1125160278418659</td>\n",
       "      <td>-0.55</td>\n",
       "      <td>53.16</td>\n",
       "    </tr>\n",
       "    <tr>\n",
       "      <th>tolls_amount</th>\n",
       "      <td>119136044</td>\n",
       "      <td>0.5621950783422671</td>\n",
       "      <td>2.1639867775164627</td>\n",
       "      <td>-140.63</td>\n",
       "      <td>1702.88</td>\n",
       "    </tr>\n",
       "    <tr>\n",
       "      <th>improvement_surcharge</th>\n",
       "      <td>119136044</td>\n",
       "      <td>0.7529654728221258</td>\n",
       "      <td>0.3688632007735949</td>\n",
       "      <td>-1.0</td>\n",
       "      <td>2.0</td>\n",
       "    </tr>\n",
       "    <tr>\n",
       "      <th>congestion_surcharge</th>\n",
       "      <td>112367153</td>\n",
       "      <td>2.2596308822561344</td>\n",
       "      <td>0.8091722948780162</td>\n",
       "      <td>-2.5</td>\n",
       "      <td>2.75</td>\n",
       "    </tr>\n",
       "    <tr>\n",
       "      <th>airport_fee</th>\n",
       "      <td>112367153</td>\n",
       "      <td>0.12782487645655666</td>\n",
       "      <td>0.44161732146194743</td>\n",
       "      <td>-1.75</td>\n",
       "      <td>1.75</td>\n",
       "    </tr>\n",
       "  </tbody>\n",
       "</table>\n",
       "</div>"
      ]
     },
     "metadata": {
      "application/vnd.databricks.v1+output": {
       "addedWidgets": {},
       "arguments": {},
       "data": "<div>\n<style scoped>\n    .dataframe tbody tr th:only-of-type {\n        vertical-align: middle;\n    }\n\n    .dataframe tbody tr th {\n        vertical-align: top;\n    }\n\n    .dataframe thead th {\n        text-align: right;\n    }\n</style>\n<table border=\"1\" class=\"dataframe\">\n  <thead>\n    <tr style=\"text-align: right;\">\n      <th>summary</th>\n      <th>count</th>\n      <th>mean</th>\n      <th>stddev</th>\n      <th>min</th>\n      <th>max</th>\n    </tr>\n  </thead>\n  <tbody>\n    <tr>\n      <th>trip_distance</th>\n      <td>119136044</td>\n      <td>5.018125657756097</td>\n      <td>446.04888573457214</td>\n      <td>0.0</td>\n      <td>398608.62</td>\n    </tr>\n    <tr>\n      <th>fare_amount</th>\n      <td>119136044</td>\n      <td>16.385721683690377</td>\n      <td>12882.321816671303</td>\n      <td>-1.33391414E8</td>\n      <td>401092.32</td>\n    </tr>\n    <tr>\n      <th>tip_amount</th>\n      <td>119136044</td>\n      <td>4.683986916336596</td>\n      <td>12882.046863864049</td>\n      <td>-411.0</td>\n      <td>1.3339136353E8</td>\n    </tr>\n    <tr>\n      <th>total_amount</th>\n      <td>119136044</td>\n      <td>25.9841638083848</td>\n      <td>84.37535942749156</td>\n      <td>-2567.8</td>\n      <td>401095.62</td>\n    </tr>\n    <tr>\n      <th>extra</th>\n      <td>119136044</td>\n      <td>1.3146900143838929</td>\n      <td>1.9112348878262777</td>\n      <td>-39.17</td>\n      <td>10002.5</td>\n    </tr>\n    <tr>\n      <th>mta_tax</th>\n      <td>119136044</td>\n      <td>0.48466054261462993</td>\n      <td>0.1125160278418659</td>\n      <td>-0.55</td>\n      <td>53.16</td>\n    </tr>\n    <tr>\n      <th>tolls_amount</th>\n      <td>119136044</td>\n      <td>0.5621950783422671</td>\n      <td>2.1639867775164627</td>\n      <td>-140.63</td>\n      <td>1702.88</td>\n    </tr>\n    <tr>\n      <th>improvement_surcharge</th>\n      <td>119136044</td>\n      <td>0.7529654728221258</td>\n      <td>0.3688632007735949</td>\n      <td>-1.0</td>\n      <td>2.0</td>\n    </tr>\n    <tr>\n      <th>congestion_surcharge</th>\n      <td>112367153</td>\n      <td>2.2596308822561344</td>\n      <td>0.8091722948780162</td>\n      <td>-2.5</td>\n      <td>2.75</td>\n    </tr>\n    <tr>\n      <th>airport_fee</th>\n      <td>112367153</td>\n      <td>0.12782487645655666</td>\n      <td>0.44161732146194743</td>\n      <td>-1.75</td>\n      <td>1.75</td>\n    </tr>\n  </tbody>\n</table>\n</div>",
       "datasetInfos": [],
       "metadata": {},
       "removedWidgets": [],
       "textData": null,
       "type": "htmlSandbox"
      }
     },
     "output_type": "display_data"
    }
   ],
   "source": [
    "# Get descriptive statistics from Spark\n",
    "desc_df = full_df.select(continuous_cols).describe()\n",
    "\n",
    "# Convert to pandas for nice formatting\n",
    "desc_pd = desc_df.toPandas().set_index(\"summary\").T\n",
    "\n",
    "# Round values and display nicely\n",
    "\n",
    "pd.set_option(\"display.max_columns\", None)\n",
    "display(desc_pd.round(2))"
   ]
  },
  {
   "cell_type": "code",
   "execution_count": 0,
   "metadata": {
    "application/vnd.databricks.v1+cell": {
     "cellMetadata": {
      "byteLimit": 2048000,
      "rowLimit": 10000
     },
     "inputWidgets": {},
     "nuid": "898de24f-b468-4ffe-b3fd-03d9d7cacc41",
     "showTitle": false,
     "tableResultSettingsMap": {},
     "title": ""
    }
   },
   "outputs": [
    {
     "output_type": "stream",
     "name": "stdout",
     "output_type": "stream",
     "text": [
      "\nNull values per column (%):\npassenger_count: 6768891 nulls (5.68%)\nRatecodeID: 6768891 nulls (5.68%)\nstore_and_fwd_flag: 6768891 nulls (5.68%)\ncongestion_surcharge: 6768891 nulls (5.68%)\nairport_fee: 6768891 nulls (5.68%)\n"
     ]
    }
   ],
   "source": [
    "# Check for nulls in all columns (absolute and percentage)\n",
    "print(\"\\nNull values per column (%):\")\n",
    "\n",
    "total_rows = full_df.count()\n",
    "\n",
    "for col in full_df.columns:\n",
    "    nulls = full_df.filter(F.col(col).isNull()).count()\n",
    "    if nulls > 0:\n",
    "        percentage = (nulls / total_rows) * 100\n",
    "        print(f\"{col}: {nulls} nulls ({percentage:.2f}%)\")"
   ]
  },
  {
   "cell_type": "code",
   "execution_count": 0,
   "metadata": {
    "application/vnd.databricks.v1+cell": {
     "cellMetadata": {
      "byteLimit": 2048000,
      "rowLimit": 10000
     },
     "inputWidgets": {},
     "nuid": "cce31d26-9eb1-4b4e-b316-d798c6b947e2",
     "showTitle": false,
     "tableResultSettingsMap": {},
     "title": ""
    }
   },
   "outputs": [
    {
     "output_type": "stream",
     "name": "stdout",
     "output_type": "stream",
     "text": [
      "Out[20]: 6768891"
     ]
    }
   ],
   "source": [
    "same_nulls = full_df.filter(\n",
    "    F.col(\"passenger_count\").isNull() & \n",
    "    F.col(\"RatecodeID\").isNull() &\n",
    "    F.col(\"store_and_fwd_flag\").isNull() &\n",
    "    F.col(\"congestion_surcharge\").isNull() &\n",
    "    F.col(\"Airport_fee\").isNull()\n",
    ")\n",
    "\n",
    "same_nulls.count()"
   ]
  },
  {
   "cell_type": "markdown",
   "metadata": {
    "application/vnd.databricks.v1+cell": {
     "cellMetadata": {
      "byteLimit": 2048000,
      "rowLimit": 10000
     },
     "inputWidgets": {},
     "nuid": "07ba2e79-c746-41b6-bd99-8dd1180aa6eb",
     "showTitle": false,
     "tableResultSettingsMap": {},
     "title": ""
    }
   },
   "source": [
    "Since we have rows without a lot of information we can delete them"
   ]
  },
  {
   "cell_type": "code",
   "execution_count": 0,
   "metadata": {
    "application/vnd.databricks.v1+cell": {
     "cellMetadata": {
      "byteLimit": 2048000,
      "rowLimit": 10000
     },
     "inputWidgets": {},
     "nuid": "2a2dbab3-39fa-494e-9e59-8700475fd5c8",
     "showTitle": false,
     "tableResultSettingsMap": {},
     "title": ""
    }
   },
   "outputs": [
    {
     "output_type": "display_data",
     "data": {
      "text/html": [
       "<div>\n",
       "<style scoped>\n",
       "    .dataframe tbody tr th:only-of-type {\n",
       "        vertical-align: middle;\n",
       "    }\n",
       "\n",
       "    .dataframe tbody tr th {\n",
       "        vertical-align: top;\n",
       "    }\n",
       "\n",
       "    .dataframe thead th {\n",
       "        text-align: right;\n",
       "    }\n",
       "</style>\n",
       "<table border=\"1\" class=\"dataframe\">\n",
       "  <thead>\n",
       "    <tr style=\"text-align: right;\">\n",
       "      <th></th>\n",
       "      <th>VendorID</th>\n",
       "      <th>tpep_pickup_datetime</th>\n",
       "      <th>tpep_dropoff_datetime</th>\n",
       "      <th>passenger_count</th>\n",
       "      <th>trip_distance</th>\n",
       "      <th>RatecodeID</th>\n",
       "      <th>store_and_fwd_flag</th>\n",
       "      <th>PULocationID</th>\n",
       "      <th>DOLocationID</th>\n",
       "      <th>payment_type</th>\n",
       "      <th>fare_amount</th>\n",
       "      <th>extra</th>\n",
       "      <th>mta_tax</th>\n",
       "      <th>tip_amount</th>\n",
       "      <th>tolls_amount</th>\n",
       "      <th>improvement_surcharge</th>\n",
       "      <th>total_amount</th>\n",
       "      <th>congestion_surcharge</th>\n",
       "      <th>airport_fee</th>\n",
       "      <th>month</th>\n",
       "      <th>year</th>\n",
       "    </tr>\n",
       "  </thead>\n",
       "  <tbody>\n",
       "    <tr>\n",
       "      <th>0</th>\n",
       "      <td>2</td>\n",
       "      <td>2022-01-01 00:50:00</td>\n",
       "      <td>2022-01-01 00:54:00</td>\n",
       "      <td>NaN</td>\n",
       "      <td>1.00</td>\n",
       "      <td>NaN</td>\n",
       "      <td>None</td>\n",
       "      <td>68</td>\n",
       "      <td>246</td>\n",
       "      <td>0</td>\n",
       "      <td>13.20</td>\n",
       "      <td>0.0</td>\n",
       "      <td>0.5</td>\n",
       "      <td>1.75</td>\n",
       "      <td>0.0</td>\n",
       "      <td>0.3</td>\n",
       "      <td>18.25</td>\n",
       "      <td>NaN</td>\n",
       "      <td>NaN</td>\n",
       "      <td>1</td>\n",
       "      <td>2022</td>\n",
       "    </tr>\n",
       "    <tr>\n",
       "      <th>1</th>\n",
       "      <td>2</td>\n",
       "      <td>2022-01-01 00:49:24</td>\n",
       "      <td>2022-01-01 01:27:36</td>\n",
       "      <td>NaN</td>\n",
       "      <td>13.31</td>\n",
       "      <td>NaN</td>\n",
       "      <td>None</td>\n",
       "      <td>257</td>\n",
       "      <td>223</td>\n",
       "      <td>0</td>\n",
       "      <td>44.87</td>\n",
       "      <td>0.0</td>\n",
       "      <td>0.5</td>\n",
       "      <td>10.05</td>\n",
       "      <td>0.0</td>\n",
       "      <td>0.3</td>\n",
       "      <td>55.72</td>\n",
       "      <td>NaN</td>\n",
       "      <td>NaN</td>\n",
       "      <td>1</td>\n",
       "      <td>2022</td>\n",
       "    </tr>\n",
       "    <tr>\n",
       "      <th>2</th>\n",
       "      <td>2</td>\n",
       "      <td>2022-01-01 00:42:00</td>\n",
       "      <td>2022-01-01 00:56:00</td>\n",
       "      <td>NaN</td>\n",
       "      <td>2.87</td>\n",
       "      <td>NaN</td>\n",
       "      <td>None</td>\n",
       "      <td>143</td>\n",
       "      <td>236</td>\n",
       "      <td>0</td>\n",
       "      <td>13.23</td>\n",
       "      <td>0.0</td>\n",
       "      <td>0.5</td>\n",
       "      <td>3.51</td>\n",
       "      <td>0.0</td>\n",
       "      <td>0.3</td>\n",
       "      <td>20.04</td>\n",
       "      <td>NaN</td>\n",
       "      <td>NaN</td>\n",
       "      <td>1</td>\n",
       "      <td>2022</td>\n",
       "    </tr>\n",
       "    <tr>\n",
       "      <th>3</th>\n",
       "      <td>2</td>\n",
       "      <td>2022-01-01 00:40:00</td>\n",
       "      <td>2022-01-01 00:55:00</td>\n",
       "      <td>NaN</td>\n",
       "      <td>3.24</td>\n",
       "      <td>NaN</td>\n",
       "      <td>None</td>\n",
       "      <td>143</td>\n",
       "      <td>262</td>\n",
       "      <td>0</td>\n",
       "      <td>14.19</td>\n",
       "      <td>0.0</td>\n",
       "      <td>0.5</td>\n",
       "      <td>3.72</td>\n",
       "      <td>0.0</td>\n",
       "      <td>0.3</td>\n",
       "      <td>21.21</td>\n",
       "      <td>NaN</td>\n",
       "      <td>NaN</td>\n",
       "      <td>1</td>\n",
       "      <td>2022</td>\n",
       "    </tr>\n",
       "    <tr>\n",
       "      <th>4</th>\n",
       "      <td>2</td>\n",
       "      <td>2022-01-01 00:40:00</td>\n",
       "      <td>2022-01-01 00:52:00</td>\n",
       "      <td>NaN</td>\n",
       "      <td>2.19</td>\n",
       "      <td>NaN</td>\n",
       "      <td>None</td>\n",
       "      <td>239</td>\n",
       "      <td>166</td>\n",
       "      <td>0</td>\n",
       "      <td>13.20</td>\n",
       "      <td>0.0</td>\n",
       "      <td>0.5</td>\n",
       "      <td>5.25</td>\n",
       "      <td>0.0</td>\n",
       "      <td>0.3</td>\n",
       "      <td>21.75</td>\n",
       "      <td>NaN</td>\n",
       "      <td>NaN</td>\n",
       "      <td>1</td>\n",
       "      <td>2022</td>\n",
       "    </tr>\n",
       "    <tr>\n",
       "      <th>...</th>\n",
       "      <td>...</td>\n",
       "      <td>...</td>\n",
       "      <td>...</td>\n",
       "      <td>...</td>\n",
       "      <td>...</td>\n",
       "      <td>...</td>\n",
       "      <td>...</td>\n",
       "      <td>...</td>\n",
       "      <td>...</td>\n",
       "      <td>...</td>\n",
       "      <td>...</td>\n",
       "      <td>...</td>\n",
       "      <td>...</td>\n",
       "      <td>...</td>\n",
       "      <td>...</td>\n",
       "      <td>...</td>\n",
       "      <td>...</td>\n",
       "      <td>...</td>\n",
       "      <td>...</td>\n",
       "      <td>...</td>\n",
       "      <td>...</td>\n",
       "    </tr>\n",
       "    <tr>\n",
       "      <th>95</th>\n",
       "      <td>2</td>\n",
       "      <td>2022-01-01 00:45:51</td>\n",
       "      <td>2022-01-01 00:57:57</td>\n",
       "      <td>NaN</td>\n",
       "      <td>4.62</td>\n",
       "      <td>NaN</td>\n",
       "      <td>None</td>\n",
       "      <td>238</td>\n",
       "      <td>246</td>\n",
       "      <td>0</td>\n",
       "      <td>18.74</td>\n",
       "      <td>0.0</td>\n",
       "      <td>0.5</td>\n",
       "      <td>4.78</td>\n",
       "      <td>0.0</td>\n",
       "      <td>0.3</td>\n",
       "      <td>26.82</td>\n",
       "      <td>NaN</td>\n",
       "      <td>NaN</td>\n",
       "      <td>1</td>\n",
       "      <td>2022</td>\n",
       "    </tr>\n",
       "    <tr>\n",
       "      <th>96</th>\n",
       "      <td>2</td>\n",
       "      <td>2022-01-01 00:34:36</td>\n",
       "      <td>2022-01-01 00:52:22</td>\n",
       "      <td>NaN</td>\n",
       "      <td>5.06</td>\n",
       "      <td>NaN</td>\n",
       "      <td>None</td>\n",
       "      <td>148</td>\n",
       "      <td>225</td>\n",
       "      <td>0</td>\n",
       "      <td>19.01</td>\n",
       "      <td>0.0</td>\n",
       "      <td>0.5</td>\n",
       "      <td>2.00</td>\n",
       "      <td>0.0</td>\n",
       "      <td>0.3</td>\n",
       "      <td>24.31</td>\n",
       "      <td>NaN</td>\n",
       "      <td>NaN</td>\n",
       "      <td>1</td>\n",
       "      <td>2022</td>\n",
       "    </tr>\n",
       "    <tr>\n",
       "      <th>97</th>\n",
       "      <td>2</td>\n",
       "      <td>2022-01-01 00:30:00</td>\n",
       "      <td>2022-01-01 00:42:00</td>\n",
       "      <td>NaN</td>\n",
       "      <td>2.00</td>\n",
       "      <td>NaN</td>\n",
       "      <td>None</td>\n",
       "      <td>148</td>\n",
       "      <td>170</td>\n",
       "      <td>0</td>\n",
       "      <td>13.20</td>\n",
       "      <td>0.0</td>\n",
       "      <td>0.5</td>\n",
       "      <td>3.50</td>\n",
       "      <td>0.0</td>\n",
       "      <td>0.3</td>\n",
       "      <td>20.00</td>\n",
       "      <td>NaN</td>\n",
       "      <td>NaN</td>\n",
       "      <td>1</td>\n",
       "      <td>2022</td>\n",
       "    </tr>\n",
       "    <tr>\n",
       "      <th>98</th>\n",
       "      <td>2</td>\n",
       "      <td>2022-01-01 00:42:00</td>\n",
       "      <td>2022-01-01 00:51:00</td>\n",
       "      <td>NaN</td>\n",
       "      <td>1.54</td>\n",
       "      <td>NaN</td>\n",
       "      <td>None</td>\n",
       "      <td>142</td>\n",
       "      <td>50</td>\n",
       "      <td>0</td>\n",
       "      <td>13.20</td>\n",
       "      <td>0.0</td>\n",
       "      <td>0.5</td>\n",
       "      <td>0.88</td>\n",
       "      <td>0.0</td>\n",
       "      <td>0.3</td>\n",
       "      <td>17.38</td>\n",
       "      <td>NaN</td>\n",
       "      <td>NaN</td>\n",
       "      <td>1</td>\n",
       "      <td>2022</td>\n",
       "    </tr>\n",
       "    <tr>\n",
       "      <th>99</th>\n",
       "      <td>2</td>\n",
       "      <td>2022-01-01 00:30:50</td>\n",
       "      <td>2022-01-01 00:45:46</td>\n",
       "      <td>NaN</td>\n",
       "      <td>5.98</td>\n",
       "      <td>NaN</td>\n",
       "      <td>None</td>\n",
       "      <td>231</td>\n",
       "      <td>137</td>\n",
       "      <td>0</td>\n",
       "      <td>22.29</td>\n",
       "      <td>0.0</td>\n",
       "      <td>0.5</td>\n",
       "      <td>5.52</td>\n",
       "      <td>0.0</td>\n",
       "      <td>0.3</td>\n",
       "      <td>31.11</td>\n",
       "      <td>NaN</td>\n",
       "      <td>NaN</td>\n",
       "      <td>1</td>\n",
       "      <td>2022</td>\n",
       "    </tr>\n",
       "  </tbody>\n",
       "</table>\n",
       "<p>100 rows × 21 columns</p>\n",
       "</div>"
      ]
     },
     "metadata": {
      "application/vnd.databricks.v1+output": {
       "addedWidgets": {},
       "arguments": {},
       "data": "<div>\n<style scoped>\n    .dataframe tbody tr th:only-of-type {\n        vertical-align: middle;\n    }\n\n    .dataframe tbody tr th {\n        vertical-align: top;\n    }\n\n    .dataframe thead th {\n        text-align: right;\n    }\n</style>\n<table border=\"1\" class=\"dataframe\">\n  <thead>\n    <tr style=\"text-align: right;\">\n      <th></th>\n      <th>VendorID</th>\n      <th>tpep_pickup_datetime</th>\n      <th>tpep_dropoff_datetime</th>\n      <th>passenger_count</th>\n      <th>trip_distance</th>\n      <th>RatecodeID</th>\n      <th>store_and_fwd_flag</th>\n      <th>PULocationID</th>\n      <th>DOLocationID</th>\n      <th>payment_type</th>\n      <th>fare_amount</th>\n      <th>extra</th>\n      <th>mta_tax</th>\n      <th>tip_amount</th>\n      <th>tolls_amount</th>\n      <th>improvement_surcharge</th>\n      <th>total_amount</th>\n      <th>congestion_surcharge</th>\n      <th>airport_fee</th>\n      <th>month</th>\n      <th>year</th>\n    </tr>\n  </thead>\n  <tbody>\n    <tr>\n      <th>0</th>\n      <td>2</td>\n      <td>2022-01-01 00:50:00</td>\n      <td>2022-01-01 00:54:00</td>\n      <td>NaN</td>\n      <td>1.00</td>\n      <td>NaN</td>\n      <td>None</td>\n      <td>68</td>\n      <td>246</td>\n      <td>0</td>\n      <td>13.20</td>\n      <td>0.0</td>\n      <td>0.5</td>\n      <td>1.75</td>\n      <td>0.0</td>\n      <td>0.3</td>\n      <td>18.25</td>\n      <td>NaN</td>\n      <td>NaN</td>\n      <td>1</td>\n      <td>2022</td>\n    </tr>\n    <tr>\n      <th>1</th>\n      <td>2</td>\n      <td>2022-01-01 00:49:24</td>\n      <td>2022-01-01 01:27:36</td>\n      <td>NaN</td>\n      <td>13.31</td>\n      <td>NaN</td>\n      <td>None</td>\n      <td>257</td>\n      <td>223</td>\n      <td>0</td>\n      <td>44.87</td>\n      <td>0.0</td>\n      <td>0.5</td>\n      <td>10.05</td>\n      <td>0.0</td>\n      <td>0.3</td>\n      <td>55.72</td>\n      <td>NaN</td>\n      <td>NaN</td>\n      <td>1</td>\n      <td>2022</td>\n    </tr>\n    <tr>\n      <th>2</th>\n      <td>2</td>\n      <td>2022-01-01 00:42:00</td>\n      <td>2022-01-01 00:56:00</td>\n      <td>NaN</td>\n      <td>2.87</td>\n      <td>NaN</td>\n      <td>None</td>\n      <td>143</td>\n      <td>236</td>\n      <td>0</td>\n      <td>13.23</td>\n      <td>0.0</td>\n      <td>0.5</td>\n      <td>3.51</td>\n      <td>0.0</td>\n      <td>0.3</td>\n      <td>20.04</td>\n      <td>NaN</td>\n      <td>NaN</td>\n      <td>1</td>\n      <td>2022</td>\n    </tr>\n    <tr>\n      <th>3</th>\n      <td>2</td>\n      <td>2022-01-01 00:40:00</td>\n      <td>2022-01-01 00:55:00</td>\n      <td>NaN</td>\n      <td>3.24</td>\n      <td>NaN</td>\n      <td>None</td>\n      <td>143</td>\n      <td>262</td>\n      <td>0</td>\n      <td>14.19</td>\n      <td>0.0</td>\n      <td>0.5</td>\n      <td>3.72</td>\n      <td>0.0</td>\n      <td>0.3</td>\n      <td>21.21</td>\n      <td>NaN</td>\n      <td>NaN</td>\n      <td>1</td>\n      <td>2022</td>\n    </tr>\n    <tr>\n      <th>4</th>\n      <td>2</td>\n      <td>2022-01-01 00:40:00</td>\n      <td>2022-01-01 00:52:00</td>\n      <td>NaN</td>\n      <td>2.19</td>\n      <td>NaN</td>\n      <td>None</td>\n      <td>239</td>\n      <td>166</td>\n      <td>0</td>\n      <td>13.20</td>\n      <td>0.0</td>\n      <td>0.5</td>\n      <td>5.25</td>\n      <td>0.0</td>\n      <td>0.3</td>\n      <td>21.75</td>\n      <td>NaN</td>\n      <td>NaN</td>\n      <td>1</td>\n      <td>2022</td>\n    </tr>\n    <tr>\n      <th>...</th>\n      <td>...</td>\n      <td>...</td>\n      <td>...</td>\n      <td>...</td>\n      <td>...</td>\n      <td>...</td>\n      <td>...</td>\n      <td>...</td>\n      <td>...</td>\n      <td>...</td>\n      <td>...</td>\n      <td>...</td>\n      <td>...</td>\n      <td>...</td>\n      <td>...</td>\n      <td>...</td>\n      <td>...</td>\n      <td>...</td>\n      <td>...</td>\n      <td>...</td>\n      <td>...</td>\n    </tr>\n    <tr>\n      <th>95</th>\n      <td>2</td>\n      <td>2022-01-01 00:45:51</td>\n      <td>2022-01-01 00:57:57</td>\n      <td>NaN</td>\n      <td>4.62</td>\n      <td>NaN</td>\n      <td>None</td>\n      <td>238</td>\n      <td>246</td>\n      <td>0</td>\n      <td>18.74</td>\n      <td>0.0</td>\n      <td>0.5</td>\n      <td>4.78</td>\n      <td>0.0</td>\n      <td>0.3</td>\n      <td>26.82</td>\n      <td>NaN</td>\n      <td>NaN</td>\n      <td>1</td>\n      <td>2022</td>\n    </tr>\n    <tr>\n      <th>96</th>\n      <td>2</td>\n      <td>2022-01-01 00:34:36</td>\n      <td>2022-01-01 00:52:22</td>\n      <td>NaN</td>\n      <td>5.06</td>\n      <td>NaN</td>\n      <td>None</td>\n      <td>148</td>\n      <td>225</td>\n      <td>0</td>\n      <td>19.01</td>\n      <td>0.0</td>\n      <td>0.5</td>\n      <td>2.00</td>\n      <td>0.0</td>\n      <td>0.3</td>\n      <td>24.31</td>\n      <td>NaN</td>\n      <td>NaN</td>\n      <td>1</td>\n      <td>2022</td>\n    </tr>\n    <tr>\n      <th>97</th>\n      <td>2</td>\n      <td>2022-01-01 00:30:00</td>\n      <td>2022-01-01 00:42:00</td>\n      <td>NaN</td>\n      <td>2.00</td>\n      <td>NaN</td>\n      <td>None</td>\n      <td>148</td>\n      <td>170</td>\n      <td>0</td>\n      <td>13.20</td>\n      <td>0.0</td>\n      <td>0.5</td>\n      <td>3.50</td>\n      <td>0.0</td>\n      <td>0.3</td>\n      <td>20.00</td>\n      <td>NaN</td>\n      <td>NaN</td>\n      <td>1</td>\n      <td>2022</td>\n    </tr>\n    <tr>\n      <th>98</th>\n      <td>2</td>\n      <td>2022-01-01 00:42:00</td>\n      <td>2022-01-01 00:51:00</td>\n      <td>NaN</td>\n      <td>1.54</td>\n      <td>NaN</td>\n      <td>None</td>\n      <td>142</td>\n      <td>50</td>\n      <td>0</td>\n      <td>13.20</td>\n      <td>0.0</td>\n      <td>0.5</td>\n      <td>0.88</td>\n      <td>0.0</td>\n      <td>0.3</td>\n      <td>17.38</td>\n      <td>NaN</td>\n      <td>NaN</td>\n      <td>1</td>\n      <td>2022</td>\n    </tr>\n    <tr>\n      <th>99</th>\n      <td>2</td>\n      <td>2022-01-01 00:30:50</td>\n      <td>2022-01-01 00:45:46</td>\n      <td>NaN</td>\n      <td>5.98</td>\n      <td>NaN</td>\n      <td>None</td>\n      <td>231</td>\n      <td>137</td>\n      <td>0</td>\n      <td>22.29</td>\n      <td>0.0</td>\n      <td>0.5</td>\n      <td>5.52</td>\n      <td>0.0</td>\n      <td>0.3</td>\n      <td>31.11</td>\n      <td>NaN</td>\n      <td>NaN</td>\n      <td>1</td>\n      <td>2022</td>\n    </tr>\n  </tbody>\n</table>\n<p>100 rows × 21 columns</p>\n</div>",
       "datasetInfos": [],
       "metadata": {},
       "removedWidgets": [],
       "textData": null,
       "type": "htmlSandbox"
      }
     },
     "output_type": "display_data"
    }
   ],
   "source": [
    "same_nulls.limit(100).toPandas()"
   ]
  },
  {
   "cell_type": "markdown",
   "metadata": {
    "application/vnd.databricks.v1+cell": {
     "cellMetadata": {
      "byteLimit": 2048000,
      "rowLimit": 10000
     },
     "inputWidgets": {},
     "nuid": "781ffcee-14c7-4795-8099-8ad8f94b22d7",
     "showTitle": false,
     "tableResultSettingsMap": {},
     "title": ""
    }
   },
   "source": [
    "## Histogram Numerical Features"
   ]
  },
  {
   "cell_type": "code",
   "execution_count": 0,
   "metadata": {
    "application/vnd.databricks.v1+cell": {
     "cellMetadata": {
      "byteLimit": 2048000,
      "rowLimit": 10000
     },
     "inputWidgets": {},
     "nuid": "39884e8f-ffef-4da0-98b4-f620f885ea41",
     "showTitle": false,
     "tableResultSettingsMap": {},
     "title": ""
    }
   },
   "outputs": [],
   "source": [
    "# Sample ~1% of the data\n",
    "sample_df = full_df.sample(fraction=0.01, seed=42).toPandas()"
   ]
  },
  {
   "cell_type": "code",
   "execution_count": 0,
   "metadata": {
    "application/vnd.databricks.v1+cell": {
     "cellMetadata": {
      "byteLimit": 2048000,
      "rowLimit": 10000
     },
     "inputWidgets": {},
     "nuid": "9f8e0cdd-500b-4a92-b59f-7a17280f317e",
     "showTitle": false,
     "tableResultSettingsMap": {},
     "title": ""
    }
   },
   "outputs": [],
   "source": [
    "# Discrete numerical features\n",
    "discrete_cols = [\n",
    "    \"passenger_count\"\n",
    "]"
   ]
  },
  {
   "cell_type": "code",
   "execution_count": 0,
   "metadata": {
    "application/vnd.databricks.v1+cell": {
     "cellMetadata": {
      "byteLimit": 2048000,
      "rowLimit": 10000
     },
     "collapsed": true,
     "inputWidgets": {},
     "nuid": "d06b261c-f1f7-44e8-8ba6-198cd70ce34b",
     "showTitle": false,
     "tableResultSettingsMap": {},
     "title": ""
    },
    "scrolled": true
   },
   "outputs": [
    {
     "output_type": "display_data",
     "data": {
      "text/plain": [
       ""
      ]
     },
     "metadata": {
      "application/vnd.databricks.v1+output": {
       "arguments": {},
       "data": "",
       "errorSummary": "Command skipped",
       "errorTraceType": "ansi",
       "metadata": {},
       "type": "ipynbError"
      }
     },
     "output_type": "display_data"
    }
   ],
   "source": [
    "# Plot continuous features\n",
    "print(\"🔵 Continuous Numeric Features:\")\n",
    "for col in continuous_cols:\n",
    "    plt.figure(figsize=(8, 4))\n",
    "    sample_df[col].hist(bins=25)\n",
    "    plt.title(f\"Histogram of {col}\")\n",
    "    plt.xlabel(col)\n",
    "    plt.ylabel(\"Frequency\")\n",
    "    plt.grid(False)\n",
    "    plt.show()"
   ]
  },
  {
   "cell_type": "markdown",
   "metadata": {
    "application/vnd.databricks.v1+cell": {
     "cellMetadata": {
      "byteLimit": 2048000,
      "rowLimit": 10000
     },
     "inputWidgets": {},
     "nuid": "c1bec07b-c806-4852-9d26-815a470d5948",
     "showTitle": false,
     "tableResultSettingsMap": {},
     "title": ""
    }
   },
   "source": [
    "## Box Plots for Numerical Features"
   ]
  },
  {
   "cell_type": "code",
   "execution_count": 0,
   "metadata": {
    "application/vnd.databricks.v1+cell": {
     "cellMetadata": {
      "byteLimit": 2048000,
      "rowLimit": 10000
     },
     "collapsed": true,
     "inputWidgets": {},
     "nuid": "4e75b2fe-c921-49b0-a6c1-6ebdd063e041",
     "showTitle": false,
     "tableResultSettingsMap": {},
     "title": ""
    }
   },
   "outputs": [
    {
     "output_type": "display_data",
     "data": {
      "text/plain": [
       ""
      ]
     },
     "metadata": {
      "application/vnd.databricks.v1+output": {
       "arguments": {},
       "data": "",
       "errorSummary": "Command skipped",
       "errorTraceType": "ansi",
       "metadata": {},
       "type": "ipynbError"
      }
     },
     "output_type": "display_data"
    }
   ],
   "source": [
    "print(\"📦 Boxplots of Continuous Numeric Features:\")\n",
    "for col in continuous_cols:\n",
    "    plt.figure(figsize=(6, 4))\n",
    "    plt.boxplot(sample_df[col].dropna(), vert= False)\n",
    "    plt.title(f\"Boxplot of {col}\")\n",
    "    plt.ylabel(col)\n",
    "    plt.grid(False)\n",
    "    plt.show()"
   ]
  },
  {
   "cell_type": "code",
   "execution_count": 0,
   "metadata": {
    "application/vnd.databricks.v1+cell": {
     "cellMetadata": {
      "byteLimit": 2048000,
      "rowLimit": 10000
     },
     "inputWidgets": {},
     "nuid": "ac4825ab-d7e9-4254-944f-e66bb30131f0",
     "showTitle": false,
     "tableResultSettingsMap": {},
     "title": ""
    }
   },
   "outputs": [
    {
     "output_type": "display_data",
     "data": {
      "text/plain": [
       ""
      ]
     },
     "metadata": {
      "application/vnd.databricks.v1+output": {
       "arguments": {},
       "data": "",
       "errorSummary": "Command skipped",
       "errorTraceType": "ansi",
       "metadata": {},
       "type": "ipynbError"
      }
     },
     "output_type": "display_data"
    }
   ],
   "source": [
    "plt.figure(figsize=(6, 4))\n",
    "sample_df[\"passenger_count\"].plot.box()\n",
    "plt.title(\"Boxplot of Passenger Count\")\n",
    "plt.ylabel(\"Passenger Count\")\n",
    "plt.grid(False)\n",
    "plt.show()"
   ]
  },
  {
   "cell_type": "markdown",
   "metadata": {
    "application/vnd.databricks.v1+cell": {
     "cellMetadata": {
      "byteLimit": 2048000,
      "rowLimit": 10000
     },
     "inputWidgets": {},
     "nuid": "791d7671-067a-445b-a4a2-ecebe9bfc0e2",
     "showTitle": false,
     "tableResultSettingsMap": {},
     "title": ""
    }
   },
   "source": [
    "### Trip Distance"
   ]
  },
  {
   "cell_type": "code",
   "execution_count": 0,
   "metadata": {
    "application/vnd.databricks.v1+cell": {
     "cellMetadata": {
      "byteLimit": 2048000,
      "rowLimit": 10000
     },
     "inputWidgets": {},
     "nuid": "f27ccc42-c6f2-4895-8e3c-8bbe6a8be5fd",
     "showTitle": false,
     "tableResultSettingsMap": {},
     "title": ""
    }
   },
   "outputs": [
    {
     "output_type": "display_data",
     "data": {
      "text/plain": [
       ""
      ]
     },
     "metadata": {
      "application/vnd.databricks.v1+output": {
       "arguments": {},
       "data": "",
       "errorSummary": "Command skipped",
       "errorTraceType": "ansi",
       "metadata": {},
       "type": "ipynbError"
      }
     },
     "output_type": "display_data"
    }
   ],
   "source": [
    "sample_df[\"trip_distance\"].hist(bins=15, figsize=(8, 4))\n",
    "plt.title(\"Trip Distance Distribution\")\n",
    "plt.xlabel(\"trip_distance\")\n",
    "plt.ylabel(\"Frequency\")\n",
    "plt.grid(False)\n",
    "plt.show()"
   ]
  },
  {
   "cell_type": "code",
   "execution_count": 0,
   "metadata": {
    "application/vnd.databricks.v1+cell": {
     "cellMetadata": {
      "byteLimit": 2048000,
      "rowLimit": 10000
     },
     "inputWidgets": {},
     "nuid": "d481f0bd-422e-4bf7-99ed-3a67103e802c",
     "showTitle": false,
     "tableResultSettingsMap": {},
     "title": ""
    }
   },
   "outputs": [
    {
     "output_type": "display_data",
     "data": {
      "text/plain": [
       ""
      ]
     },
     "metadata": {
      "application/vnd.databricks.v1+output": {
       "arguments": {},
       "data": "",
       "errorSummary": "Command skipped",
       "errorTraceType": "ansi",
       "metadata": {},
       "type": "ipynbError"
      }
     },
     "output_type": "display_data"
    }
   ],
   "source": [
    "# Zoom in on trips up to 50 miles\n",
    "sample_df[\"trip_distance\"].hist(bins=100, range=(0, 50), figsize=(8, 4))\n",
    "plt.title(\"Trip Distance Distribution (0–50 miles)\")\n",
    "plt.xlabel(\"trip_distance\")\n",
    "plt.ylabel(\"Frequency\")\n",
    "plt.grid(False)\n",
    "plt.show()"
   ]
  },
  {
   "cell_type": "code",
   "execution_count": 0,
   "metadata": {
    "application/vnd.databricks.v1+cell": {
     "cellMetadata": {
      "byteLimit": 2048000,
      "rowLimit": 10000
     },
     "inputWidgets": {},
     "nuid": "96d89d5e-4e7e-4608-9f90-879bbb7b7e72",
     "showTitle": false,
     "tableResultSettingsMap": {},
     "title": ""
    }
   },
   "outputs": [
    {
     "output_type": "display_data",
     "data": {
      "text/plain": [
       ""
      ]
     },
     "metadata": {
      "application/vnd.databricks.v1+output": {
       "arguments": {},
       "data": "",
       "errorSummary": "Command skipped",
       "errorTraceType": "ansi",
       "metadata": {},
       "type": "ipynbError"
      }
     },
     "output_type": "display_data"
    }
   ],
   "source": [
    "p95 = sample_df[\"trip_distance\"].quantile(0.95)\n",
    "p99 = sample_df[\"trip_distance\"].quantile(0.99)\n",
    "\n",
    "\n",
    "sample_df[\"trip_distance\"].hist(bins=100, range=(0, 300), figsize=(8, 4))\n",
    "plt.title(\"Trip Distance Distribution (Log Y) with P95\")\n",
    "plt.xlabel(\"trip_distance\")\n",
    "plt.ylabel(\"Frequency (log)\")\n",
    "plt.yscale(\"log\")  \n",
    "\n",
    "plt.axvline(p95, color=\"orange\", linestyle=\"--\", linewidth=2, label=f\"P95 = {p95:.1f}\")\n",
    "plt.axvline(p99, color=\"red\", linestyle=\"--\", linewidth=2, label=f\"P99 = {p99:.1f}\")\n",
    "plt.legend()\n",
    "plt.grid(True)\n",
    "plt.show()"
   ]
  },
  {
   "cell_type": "code",
   "execution_count": 0,
   "metadata": {
    "application/vnd.databricks.v1+cell": {
     "cellMetadata": {
      "byteLimit": 2048000,
      "rowLimit": 10000
     },
     "inputWidgets": {},
     "nuid": "05e2a391-b790-4679-b959-619a50b378a9",
     "showTitle": false,
     "tableResultSettingsMap": {},
     "title": ""
    }
   },
   "outputs": [
    {
     "output_type": "display_data",
     "data": {
      "text/plain": [
       ""
      ]
     },
     "metadata": {
      "application/vnd.databricks.v1+output": {
       "arguments": {},
       "data": "",
       "errorSummary": "Command skipped",
       "errorTraceType": "ansi",
       "metadata": {},
       "type": "ipynbError"
      }
     },
     "output_type": "display_data"
    }
   ],
   "source": [
    "plt.figure(figsize=(8, 4))\n",
    "plt.boxplot(sample_df[\"trip_distance\"], vert=False)\n",
    "plt.title(\"Boxplot of trip_distance (0–30 miles)\")\n",
    "plt.xlabel(\"trip_distance\")\n",
    "plt.xlim(0, 30) \n",
    "plt.grid(True)\n",
    "plt.show()"
   ]
  },
  {
   "cell_type": "code",
   "execution_count": 0,
   "metadata": {
    "application/vnd.databricks.v1+cell": {
     "cellMetadata": {
      "byteLimit": 2048000,
      "rowLimit": 10000
     },
     "inputWidgets": {},
     "nuid": "c51e93a1-0a77-4591-9c06-f4d7987b7563",
     "showTitle": false,
     "tableResultSettingsMap": {},
     "title": ""
    }
   },
   "outputs": [
    {
     "output_type": "display_data",
     "data": {
      "text/plain": [
       ""
      ]
     },
     "metadata": {
      "application/vnd.databricks.v1+output": {
       "arguments": {},
       "data": "",
       "errorSummary": "Command skipped",
       "errorTraceType": "ansi",
       "metadata": {},
       "type": "ipynbError"
      }
     },
     "output_type": "display_data"
    }
   ],
   "source": [
    "total_rows = full_df.count()\n",
    "\n",
    "rows_invalid = full_df.filter((col(\"trip_distance\") < 0) | (col(\"trip_distance\") > 30)).count()\n",
    "\n",
    "percent_invalid = (rows_invalid / total_rows) * 100\n",
    "print(f\"Percentage of trips with trip_distance < 0 or > 30 miles: {percent_invalid:.2f}%\")"
   ]
  },
  {
   "cell_type": "markdown",
   "metadata": {
    "application/vnd.databricks.v1+cell": {
     "cellMetadata": {
      "byteLimit": 2048000,
      "rowLimit": 10000
     },
     "inputWidgets": {},
     "nuid": "39657c10-22a3-4580-b258-c034df4ef666",
     "showTitle": false,
     "tableResultSettingsMap": {},
     "title": ""
    }
   },
   "source": [
    "### 📊 EDA Summary: `trip_distance`\n",
    "\n",
    "- **Description:** Total distance of the trip in miles, as reported by the taximeter.\n",
    "- **Typical values:** Most rides are under 2 miles; long tail extends to 50+ miles.\n",
    "- **Skewness:** Strong right-skewed distribution — confirmed visually after zooming in.\n",
    "- **Issues detected:**\n",
    "  - Many rides have `trip_distance = 0.0` → likely invalid.\n",
    "  - Outliers up to 398,000+ miles → clearly corrupt data.\n",
    "\n",
    "---\n",
    "\n",
    "#### ✅ Preprocessing Plan for this Feature:\n",
    "\n",
    "- **Remove rows** where:\n",
    "  - `trip_distance <= 0` (invalid trip)\n",
    "  - `trip_distance > 100` (extreme outlier for NYC yellow taxis)\n",
    "- **Optional:** log-transform or scale if using distance in regression or clustering\n"
   ]
  },
  {
   "cell_type": "markdown",
   "metadata": {
    "application/vnd.databricks.v1+cell": {
     "cellMetadata": {
      "byteLimit": 2048000,
      "rowLimit": 10000
     },
     "inputWidgets": {},
     "nuid": "8695956d-c397-4140-847f-159620d49b8b",
     "showTitle": false,
     "tableResultSettingsMap": {},
     "title": ""
    }
   },
   "source": [
    "### Fare amount"
   ]
  },
  {
   "cell_type": "code",
   "execution_count": 0,
   "metadata": {
    "application/vnd.databricks.v1+cell": {
     "cellMetadata": {
      "byteLimit": 2048000,
      "rowLimit": 10000
     },
     "inputWidgets": {},
     "nuid": "8f0aadb6-c0bc-4c31-8c67-6dffecfc8840",
     "showTitle": false,
     "tableResultSettingsMap": {},
     "title": ""
    }
   },
   "outputs": [
    {
     "output_type": "display_data",
     "data": {
      "text/plain": [
       ""
      ]
     },
     "metadata": {
      "application/vnd.databricks.v1+output": {
       "arguments": {},
       "data": "",
       "errorSummary": "Command skipped",
       "errorTraceType": "ansi",
       "metadata": {},
       "type": "ipynbError"
      }
     },
     "output_type": "display_data"
    }
   ],
   "source": [
    "sample_df[\"fare_amount\"].hist(bins=50, figsize=(8, 4))\n",
    "plt.title(\"Fare Amount Distribution\")\n",
    "plt.xlabel(\"Fare amount\")\n",
    "plt.ylabel(\"Frequency\")\n",
    "plt.grid(False)\n",
    "plt.show()"
   ]
  },
  {
   "cell_type": "code",
   "execution_count": 0,
   "metadata": {
    "application/vnd.databricks.v1+cell": {
     "cellMetadata": {
      "byteLimit": 2048000,
      "rowLimit": 10000
     },
     "inputWidgets": {},
     "nuid": "0b50ade9-5daf-4800-9611-dc72b39111a3",
     "showTitle": false,
     "tableResultSettingsMap": {},
     "title": ""
    }
   },
   "outputs": [
    {
     "output_type": "display_data",
     "data": {
      "text/plain": [
       ""
      ]
     },
     "metadata": {
      "application/vnd.databricks.v1+output": {
       "arguments": {},
       "data": "",
       "errorSummary": "Command skipped",
       "errorTraceType": "ansi",
       "metadata": {},
       "type": "ipynbError"
      }
     },
     "output_type": "display_data"
    }
   ],
   "source": [
    "sample_df[\"fare_amount\"].hist(bins=100, range=(0, 150), figsize=(8, 4))\n",
    "plt.title(\"Fare Amount Distribution (0–150 USD)\")\n",
    "plt.xlabel(\"Fare amount\")\n",
    "plt.ylabel(\"Frequency\")\n",
    "plt.grid(False)\n",
    "plt.show()"
   ]
  },
  {
   "cell_type": "code",
   "execution_count": 0,
   "metadata": {
    "application/vnd.databricks.v1+cell": {
     "cellMetadata": {
      "byteLimit": 2048000,
      "rowLimit": 10000
     },
     "inputWidgets": {},
     "nuid": "53961b32-8c95-47b3-8b29-fb6a5aa1f813",
     "showTitle": false,
     "tableResultSettingsMap": {},
     "title": ""
    }
   },
   "outputs": [
    {
     "output_type": "display_data",
     "data": {
      "text/plain": [
       ""
      ]
     },
     "metadata": {
      "application/vnd.databricks.v1+output": {
       "arguments": {},
       "data": "",
       "errorSummary": "Command skipped",
       "errorTraceType": "ansi",
       "metadata": {},
       "type": "ipynbError"
      }
     },
     "output_type": "display_data"
    }
   ],
   "source": [
    "sample_df[\"fare_amount\"].hist(bins=100, range=(0, 200), figsize=(8, 4))\n",
    "plt.title(\"Fare Amount Distribution (0–150 USD, Log Y)\")\n",
    "plt.xlabel(\"Fare amount\")\n",
    "plt.ylabel(\"Frequency (log scale)\")\n",
    "plt.yscale(\"log\")  \n",
    "plt.grid(True)\n",
    "plt.show()\n"
   ]
  },
  {
   "cell_type": "code",
   "execution_count": 0,
   "metadata": {
    "application/vnd.databricks.v1+cell": {
     "cellMetadata": {
      "byteLimit": 2048000,
      "rowLimit": 10000
     },
     "inputWidgets": {},
     "nuid": "34ba34cb-ba72-423f-88ab-0db293066b3a",
     "showTitle": false,
     "tableResultSettingsMap": {},
     "title": ""
    }
   },
   "outputs": [
    {
     "output_type": "display_data",
     "data": {
      "text/plain": [
       ""
      ]
     },
     "metadata": {
      "application/vnd.databricks.v1+output": {
       "arguments": {},
       "data": "",
       "errorSummary": "Command skipped",
       "errorTraceType": "ansi",
       "metadata": {},
       "type": "ipynbError"
      }
     },
     "output_type": "display_data"
    }
   ],
   "source": [
    "plt.figure(figsize=(8, 4))\n",
    "plt.boxplot(sample_df[\"fare_amount\"], vert=False)\n",
    "plt.title(\"Boxplot of fare_amount (0–150 USD)\")\n",
    "plt.xlabel(\"fare_amount\")\n",
    "plt.xlim(0, 150) \n",
    "plt.grid(True)\n",
    "plt.show()"
   ]
  },
  {
   "cell_type": "code",
   "execution_count": 0,
   "metadata": {
    "application/vnd.databricks.v1+cell": {
     "cellMetadata": {
      "byteLimit": 2048000,
      "rowLimit": 10000
     },
     "inputWidgets": {},
     "nuid": "4e5d44a7-2220-40d3-9637-a1c8dcd94923",
     "showTitle": false,
     "tableResultSettingsMap": {},
     "title": ""
    }
   },
   "outputs": [
    {
     "output_type": "display_data",
     "data": {
      "text/plain": [
       ""
      ]
     },
     "metadata": {
      "application/vnd.databricks.v1+output": {
       "arguments": {},
       "data": "",
       "errorSummary": "Command skipped",
       "errorTraceType": "ansi",
       "metadata": {},
       "type": "ipynbError"
      }
     },
     "output_type": "display_data"
    }
   ],
   "source": [
    "p_fa = sample_df[\"fare_amount\"].quantile(0.999)\n",
    "print(p_fa)\n"
   ]
  },
  {
   "cell_type": "markdown",
   "metadata": {
    "application/vnd.databricks.v1+cell": {
     "cellMetadata": {
      "byteLimit": 2048000,
      "rowLimit": 10000
     },
     "inputWidgets": {},
     "nuid": "f17e3bdb-e665-4a7a-840d-ae33b8e42326",
     "showTitle": false,
     "tableResultSettingsMap": {},
     "title": ""
    }
   },
   "source": [
    "### 📊 EDA Summary: `fare_amount`\n",
    "\n",
    "- **Description:** Metered fare amount charged for the trip (excludes tolls, tips, extras).\n",
    "- **Distribution:**\n",
    "  - Peaks around \\$6–15 (typical short NYC rides).\n",
    "  - Long right tail — some long-distance trips and flat-rate airport fares.\n",
    "  - Spike at ~\\$70 → likely flat-rate to/from JFK.\n",
    "- **Issues detected:**\n",
    "  - Negative fares (min = -2,261.29) → invalid\n",
    "  - Outliers above \\$500 → unrealistic\n",
    "\n",
    "---\n",
    "\n",
    "#### ✅ Preprocessing Plan:\n",
    "\n",
    "- **Drop rows** where `fare_amount <= 0` or `fare_amount > 200`\n",
    "- **Optional:** log-transform for regression models\n",
    "- **Consider special handling** for fixed airport fare (e.g., \\$52–\\$70) if modeling pickup types\n"
   ]
  },
  {
   "cell_type": "markdown",
   "metadata": {
    "application/vnd.databricks.v1+cell": {
     "cellMetadata": {
      "byteLimit": 2048000,
      "rowLimit": 10000
     },
     "inputWidgets": {},
     "nuid": "b9c69fa2-9738-490e-94b6-ae9f8196a2ad",
     "showTitle": false,
     "tableResultSettingsMap": {},
     "title": ""
    }
   },
   "source": [
    "### Tip amount"
   ]
  },
  {
   "cell_type": "code",
   "execution_count": 0,
   "metadata": {
    "application/vnd.databricks.v1+cell": {
     "cellMetadata": {
      "byteLimit": 2048000,
      "rowLimit": 10000
     },
     "inputWidgets": {},
     "nuid": "f7eb8173-f301-4772-874c-711b4f4dc256",
     "showTitle": false,
     "tableResultSettingsMap": {},
     "title": ""
    }
   },
   "outputs": [
    {
     "output_type": "display_data",
     "data": {
      "text/plain": [
       ""
      ]
     },
     "metadata": {
      "application/vnd.databricks.v1+output": {
       "arguments": {},
       "data": "",
       "errorSummary": "Command skipped",
       "errorTraceType": "ansi",
       "metadata": {},
       "type": "ipynbError"
      }
     },
     "output_type": "display_data"
    }
   ],
   "source": [
    "sample_df[\"tip_amount\"].hist(bins=50, figsize=(8, 4))\n",
    "plt.title(\"tip_amount Distribution\")\n",
    "plt.xlabel(\"tip_amount\")\n",
    "plt.ylabel(\"Frequency\")\n",
    "plt.grid(False)\n",
    "plt.show()"
   ]
  },
  {
   "cell_type": "code",
   "execution_count": 0,
   "metadata": {
    "application/vnd.databricks.v1+cell": {
     "cellMetadata": {
      "byteLimit": 2048000,
      "rowLimit": 10000
     },
     "inputWidgets": {},
     "nuid": "4e13bbd2-a582-4e2b-892d-cc1a3c8b0077",
     "showTitle": false,
     "tableResultSettingsMap": {},
     "title": ""
    }
   },
   "outputs": [
    {
     "output_type": "display_data",
     "data": {
      "text/plain": [
       ""
      ]
     },
     "metadata": {
      "application/vnd.databricks.v1+output": {
       "arguments": {},
       "data": "",
       "errorSummary": "Command skipped",
       "errorTraceType": "ansi",
       "metadata": {},
       "type": "ipynbError"
      }
     },
     "output_type": "display_data"
    }
   ],
   "source": [
    "sample_df[\"tip_amount\"].hist(bins=100, range=(0, 50), figsize=(8, 4))\n",
    "plt.title(\"Tip Amount Distribution (0–50 USD)\")\n",
    "plt.xlabel(\"tip_amount\")\n",
    "plt.ylabel(\"Frequency\")\n",
    "plt.grid(False)\n",
    "plt.show()"
   ]
  },
  {
   "cell_type": "code",
   "execution_count": 0,
   "metadata": {
    "application/vnd.databricks.v1+cell": {
     "cellMetadata": {
      "byteLimit": 2048000,
      "rowLimit": 10000
     },
     "collapsed": true,
     "inputWidgets": {},
     "nuid": "936eda11-4eca-4ca4-a603-460eec19b06f",
     "showTitle": false,
     "tableResultSettingsMap": {},
     "title": ""
    }
   },
   "outputs": [
    {
     "output_type": "display_data",
     "data": {
      "text/plain": [
       ""
      ]
     },
     "metadata": {
      "application/vnd.databricks.v1+output": {
       "arguments": {},
       "data": "",
       "errorSummary": "Command skipped",
       "errorTraceType": "ansi",
       "metadata": {},
       "type": "ipynbError"
      }
     },
     "output_type": "display_data"
    }
   ],
   "source": [
    "sample_df[\"tip_amount\"].hist(bins=100, range=(0, 100), figsize=(8, 4))\n",
    "plt.title(\"Tip Amount Distribution (0–100 USD, Log Y)\")\n",
    "plt.xlabel(\"tip_amount\")\n",
    "plt.ylabel(\"Frequency (log scale)\")\n",
    "plt.yscale(\"log\")\n",
    "plt.grid(True)\n",
    "plt.show()"
   ]
  },
  {
   "cell_type": "code",
   "execution_count": 0,
   "metadata": {
    "application/vnd.databricks.v1+cell": {
     "cellMetadata": {
      "byteLimit": 2048000,
      "rowLimit": 10000
     },
     "collapsed": true,
     "inputWidgets": {},
     "nuid": "a2bbb123-3f89-40bb-9ca4-9903afa3e863",
     "showTitle": false,
     "tableResultSettingsMap": {},
     "title": ""
    }
   },
   "outputs": [
    {
     "output_type": "display_data",
     "data": {
      "text/plain": [
       ""
      ]
     },
     "metadata": {
      "application/vnd.databricks.v1+output": {
       "arguments": {},
       "data": "",
       "errorSummary": "Command skipped",
       "errorTraceType": "ansi",
       "metadata": {},
       "type": "ipynbError"
      }
     },
     "output_type": "display_data"
    }
   ],
   "source": [
    "plt.figure(figsize=(8, 4))\n",
    "plt.boxplot(sample_df[\"tip_amount\"], vert=False)\n",
    "plt.title(\"Boxplot of tip_amount (0–50 USD)\")\n",
    "plt.xlabel(\"tip_amount\")\n",
    "plt.xlim(0, 50) \n",
    "plt.grid(True)\n",
    "plt.show()"
   ]
  },
  {
   "cell_type": "markdown",
   "metadata": {
    "application/vnd.databricks.v1+cell": {
     "cellMetadata": {
      "byteLimit": 2048000,
      "rowLimit": 10000
     },
     "inputWidgets": {},
     "nuid": "01a43243-0309-411d-98b7-15e64ffd0e4e",
     "showTitle": false,
     "tableResultSettingsMap": {},
     "title": ""
    }
   },
   "source": [
    "### 📊 EDA Summary: `tip_amount`\n",
    "\n",
    "- **Description:** Tip given by passenger, automatically recorded for credit card payments.\n",
    "\n",
    "- **Distribution:**\n",
    "  - High spike at \\$0 → dollars  ommon for cash trips or passengers who didn't tip.\n",
    "  - Smooth right-skewed tail → tips up to \\$50+ are possible.\n",
    "  - A few very large values (up to 999.99) → likely outliers.\n",
    "\n",
    "- **Issues detected:**\n",
    "  - Negative tips (as low as -300) → invalid, must be removed.\n",
    "  - Extreme outliers above 200 → should be removed or capped.\n",
    "\n",
    "---\n",
    "\n",
    "#### ✅ Preprocessing Plan:\n",
    "\n",
    "- **Remove rows** where `tip_amount < 0` or `tip_amount > 200`\n",
    "- **Optional:** log-transform or compute `tip_percentage = tip_amount / fare_amount`\n",
    "- **Useful as target** for regression model or classification (tipped vs. not)\n"
   ]
  },
  {
   "cell_type": "markdown",
   "metadata": {
    "application/vnd.databricks.v1+cell": {
     "cellMetadata": {
      "byteLimit": 2048000,
      "rowLimit": 10000
     },
     "inputWidgets": {},
     "nuid": "138a10ca-ce4a-40d3-956f-ddde05d66d79",
     "showTitle": false,
     "tableResultSettingsMap": {},
     "title": ""
    }
   },
   "source": [
    "### Total amount"
   ]
  },
  {
   "cell_type": "code",
   "execution_count": 0,
   "metadata": {
    "application/vnd.databricks.v1+cell": {
     "cellMetadata": {
      "byteLimit": 2048000,
      "rowLimit": 10000
     },
     "inputWidgets": {},
     "nuid": "941f133f-9314-473a-91b7-0b4e855e4538",
     "showTitle": false,
     "tableResultSettingsMap": {},
     "title": ""
    }
   },
   "outputs": [
    {
     "output_type": "display_data",
     "data": {
      "text/plain": [
       ""
      ]
     },
     "metadata": {
      "application/vnd.databricks.v1+output": {
       "arguments": {},
       "data": "",
       "errorSummary": "Command skipped",
       "errorTraceType": "ansi",
       "metadata": {},
       "type": "ipynbError"
      }
     },
     "output_type": "display_data"
    }
   ],
   "source": [
    "sample_df[\"total_amount\"].hist(bins=50, figsize=(8, 4))\n",
    "plt.title(\"total_amount Distribution\")\n",
    "plt.xlabel(\"total_amount\")\n",
    "plt.ylabel(\"Frequency\")\n",
    "plt.grid(False)\n",
    "plt.show()"
   ]
  },
  {
   "cell_type": "code",
   "execution_count": 0,
   "metadata": {
    "application/vnd.databricks.v1+cell": {
     "cellMetadata": {
      "byteLimit": 2048000,
      "rowLimit": 10000
     },
     "inputWidgets": {},
     "nuid": "eaa767dd-2892-43dc-804f-97172ec614bf",
     "showTitle": false,
     "tableResultSettingsMap": {},
     "title": ""
    }
   },
   "outputs": [
    {
     "output_type": "display_data",
     "data": {
      "text/plain": [
       ""
      ]
     },
     "metadata": {
      "application/vnd.databricks.v1+output": {
       "arguments": {},
       "data": "",
       "errorSummary": "Command skipped",
       "errorTraceType": "ansi",
       "metadata": {},
       "type": "ipynbError"
      }
     },
     "output_type": "display_data"
    }
   ],
   "source": [
    "p95 = sample_df[\"total_amount\"].quantile(0.95)\n",
    "p99 = sample_df[\"total_amount\"].quantile(0.99)\n",
    "\n",
    "sample_df[\"total_amount\"].hist(bins=100,range=(0, 200), figsize=(8, 4))\n",
    "plt.title(\"total_amount Distribution\")\n",
    "plt.xlabel(\"total_amount\")\n",
    "plt.ylabel(\"Frequency\")\n",
    "\n",
    "plt.axvline(p95, color=\"orange\", linestyle=\"--\", linewidth=2, label=f\"P95 = {p95:.1f}\")\n",
    "plt.axvline(p99, color=\"red\", linestyle=\"--\", linewidth=2, label=f\"P99 = {p99:.1f}\")\n",
    "plt.legend()\n",
    "plt.grid(True)\n",
    "plt.show()"
   ]
  },
  {
   "cell_type": "code",
   "execution_count": 0,
   "metadata": {
    "application/vnd.databricks.v1+cell": {
     "cellMetadata": {
      "byteLimit": 2048000,
      "rowLimit": 10000
     },
     "inputWidgets": {},
     "nuid": "02925615-8c9f-4bcb-a2c0-1390b9e3819e",
     "showTitle": false,
     "tableResultSettingsMap": {},
     "title": ""
    }
   },
   "outputs": [
    {
     "output_type": "display_data",
     "data": {
      "text/plain": [
       ""
      ]
     },
     "metadata": {
      "application/vnd.databricks.v1+output": {
       "arguments": {},
       "data": "",
       "errorSummary": "Command skipped",
       "errorTraceType": "ansi",
       "metadata": {},
       "type": "ipynbError"
      }
     },
     "output_type": "display_data"
    }
   ],
   "source": [
    "plt.figure(figsize=(8, 4))\n",
    "plt.boxplot(sample_df[\"total_amount\"], vert=False)\n",
    "plt.title(\"Boxplot of total_amount\")\n",
    "plt.xlabel(\"total_amount\")\n",
    "plt.xlim(0, 300) \n",
    "plt.grid(True)\n",
    "plt.show()"
   ]
  },
  {
   "cell_type": "markdown",
   "metadata": {
    "application/vnd.databricks.v1+cell": {
     "cellMetadata": {
      "byteLimit": 2048000,
      "rowLimit": 10000
     },
     "inputWidgets": {},
     "nuid": "318cbaa6-cd08-4bd0-8e46-445a7824969f",
     "showTitle": false,
     "tableResultSettingsMap": {},
     "title": ""
    }
   },
   "source": [
    "### 📊 EDA Summary: `total_amount`\n",
    "\n",
    "- **Description:** Total amount charged to the passenger, including fare, surcharges, taxes, tolls, and tips.\n",
    "\n",
    "- **Distribution:**\n",
    "  - Right-skewed, with most values between \\$5 and \\$100.\n",
    "  - Long tail with very high outliers up to \\$335,550.94 (likely data errors).\n",
    "  - High spike near \\$0 and some negative values → clearly invalid.\n",
    "\n",
    "- **Issues detected:**\n",
    "  - **Negative values** (as low as -2,265.45) → invalid, must be removed.\n",
    "  - **Outliers above $500** → extremely rare, likely incorrect or special cases.\n",
    "\n",
    "---\n",
    "\n",
    "#### ✅ Preprocessing Plan:\n",
    "\n",
    "- **Remove rows** where `total_amount <= 0` or `total_amount > 200`\n",
    "- **Optional:** log-transform or scale the variable depending on the model\n",
    "- Useful for:\n",
    "  - Predicting payment behavior\n",
    "  - Understanding ride types or anomalies\n"
   ]
  },
  {
   "cell_type": "markdown",
   "metadata": {
    "application/vnd.databricks.v1+cell": {
     "cellMetadata": {
      "byteLimit": 2048000,
      "rowLimit": 10000
     },
     "inputWidgets": {},
     "nuid": "3504c314-4a49-4a14-b77c-af7f70e0174b",
     "showTitle": false,
     "tableResultSettingsMap": {},
     "title": ""
    }
   },
   "source": [
    "### Extra"
   ]
  },
  {
   "cell_type": "code",
   "execution_count": 0,
   "metadata": {
    "application/vnd.databricks.v1+cell": {
     "cellMetadata": {
      "byteLimit": 2048000,
      "rowLimit": 10000
     },
     "inputWidgets": {},
     "nuid": "586a4874-b01d-4fe2-99eb-11121747da23",
     "showTitle": false,
     "tableResultSettingsMap": {},
     "title": ""
    }
   },
   "outputs": [
    {
     "output_type": "display_data",
     "data": {
      "text/plain": [
       ""
      ]
     },
     "metadata": {
      "application/vnd.databricks.v1+output": {
       "arguments": {},
       "data": "",
       "errorSummary": "Command skipped",
       "errorTraceType": "ansi",
       "metadata": {},
       "type": "ipynbError"
      }
     },
     "output_type": "display_data"
    }
   ],
   "source": [
    "sample_df[\"extra\"].hist(bins=50, figsize=(8, 4))\n",
    "plt.title(\"extra Distribution\")\n",
    "plt.xlabel(\"extra\")\n",
    "plt.ylabel(\"Frequency\")\n",
    "plt.grid(False)\n",
    "plt.show()"
   ]
  },
  {
   "cell_type": "code",
   "execution_count": 0,
   "metadata": {
    "application/vnd.databricks.v1+cell": {
     "cellMetadata": {
      "byteLimit": 2048000,
      "rowLimit": 10000
     },
     "inputWidgets": {},
     "nuid": "095f522d-5b61-4b49-a47a-af8ba66ef353",
     "showTitle": false,
     "tableResultSettingsMap": {},
     "title": ""
    }
   },
   "outputs": [
    {
     "output_type": "display_data",
     "data": {
      "text/plain": [
       ""
      ]
     },
     "metadata": {
      "application/vnd.databricks.v1+output": {
       "arguments": {},
       "data": "",
       "errorSummary": "Command skipped",
       "errorTraceType": "ansi",
       "metadata": {},
       "type": "ipynbError"
      }
     },
     "output_type": "display_data"
    }
   ],
   "source": [
    "plt.figure(figsize=(8, 4))\n",
    "plt.boxplot(sample_df[\"extra\"], vert=False)\n",
    "plt.title(\"Boxplot of extra\")\n",
    "plt.xlabel(\"extra\") \n",
    "plt.grid(True)\n",
    "plt.show()"
   ]
  },
  {
   "cell_type": "markdown",
   "metadata": {
    "application/vnd.databricks.v1+cell": {
     "cellMetadata": {
      "byteLimit": 2048000,
      "rowLimit": 10000
     },
     "inputWidgets": {},
     "nuid": "60beb577-fa40-4fc5-8326-fdac38556efe",
     "showTitle": false,
     "tableResultSettingsMap": {},
     "title": ""
    }
   },
   "source": [
    "### 📊 EDA Summary: `extra`\n",
    "\n",
    "- **Description:** Miscellaneous extras and surcharges, including night and peak-hour fees.\n",
    "\n",
    "- **Distribution:**\n",
    "  - Most common value: **0.0** (no extras)\n",
    "  - Frequent values: **0.5**, **1.0**, **2.5**, **3.0**, **5.0**\n",
    "  - A few high values up to 13 → possibly valid combinations\n",
    "  - Some **negative values** detected → invalid\n",
    "\n",
    "- **Issues detected:**\n",
    "  - Negative `extra` values must be removed\n",
    "\n",
    "---\n",
    "\n",
    "#### ✅ Preprocessing Plan:\n",
    "\n",
    "- **Remove rows** where `extra < 0`\n",
    "- Keep values up to 13 (no need to cap — values seem legitimate)\n",
    "- Can be used as a numeric feature or discretized if needed"
   ]
  },
  {
   "cell_type": "markdown",
   "metadata": {
    "application/vnd.databricks.v1+cell": {
     "cellMetadata": {
      "byteLimit": 2048000,
      "rowLimit": 10000
     },
     "inputWidgets": {},
     "nuid": "d4a9fc01-aa00-4f53-9e85-2545df2be8ea",
     "showTitle": false,
     "tableResultSettingsMap": {},
     "title": ""
    }
   },
   "source": [
    "### mta_tax"
   ]
  },
  {
   "cell_type": "code",
   "execution_count": 0,
   "metadata": {
    "application/vnd.databricks.v1+cell": {
     "cellMetadata": {
      "byteLimit": 2048000,
      "rowLimit": 10000
     },
     "inputWidgets": {},
     "nuid": "6b94e5f9-9b96-4c7b-9901-573a74fd35f2",
     "showTitle": false,
     "tableResultSettingsMap": {},
     "title": ""
    }
   },
   "outputs": [
    {
     "output_type": "display_data",
     "data": {
      "text/plain": [
       ""
      ]
     },
     "metadata": {
      "application/vnd.databricks.v1+output": {
       "arguments": {},
       "data": "",
       "errorSummary": "Command skipped",
       "errorTraceType": "ansi",
       "metadata": {},
       "type": "ipynbError"
      }
     },
     "output_type": "display_data"
    }
   ],
   "source": [
    "sample_df[\"mta_tax\"].hist(bins=50, figsize=(8, 4))\n",
    "plt.title(\"mta_tax Distribution\")\n",
    "plt.xlabel(\"mta_tax\")\n",
    "plt.ylabel(\"Frequency\")\n",
    "plt.grid(False)\n",
    "plt.show()"
   ]
  },
  {
   "cell_type": "code",
   "execution_count": 0,
   "metadata": {
    "application/vnd.databricks.v1+cell": {
     "cellMetadata": {
      "byteLimit": 2048000,
      "rowLimit": 10000
     },
     "inputWidgets": {},
     "nuid": "a0665ea1-03cd-4be2-ae04-c955237c1928",
     "showTitle": false,
     "tableResultSettingsMap": {},
     "title": ""
    }
   },
   "outputs": [
    {
     "output_type": "display_data",
     "data": {
      "text/plain": [
       ""
      ]
     },
     "metadata": {
      "application/vnd.databricks.v1+output": {
       "arguments": {},
       "data": "",
       "errorSummary": "Command skipped",
       "errorTraceType": "ansi",
       "metadata": {},
       "type": "ipynbError"
      }
     },
     "output_type": "display_data"
    }
   ],
   "source": [
    "sample_df[\"mta_tax\"].hist(bins=50,range=(0, 1), figsize=(8, 4))\n",
    "plt.title(\"mta_tax Distribution\")\n",
    "plt.xlabel(\"mta_tax\")\n",
    "plt.ylabel(\"Frequency\")\n",
    "plt.grid(False)\n",
    "plt.show()"
   ]
  },
  {
   "cell_type": "code",
   "execution_count": 0,
   "metadata": {
    "application/vnd.databricks.v1+cell": {
     "cellMetadata": {
      "byteLimit": 2048000,
      "rowLimit": 10000
     },
     "inputWidgets": {},
     "nuid": "face9d38-853a-49f5-8b2e-04ab9ad64e96",
     "showTitle": false,
     "tableResultSettingsMap": {},
     "title": ""
    }
   },
   "outputs": [
    {
     "output_type": "display_data",
     "data": {
      "text/plain": [
       ""
      ]
     },
     "metadata": {
      "application/vnd.databricks.v1+output": {
       "arguments": {},
       "data": "",
       "errorSummary": "Command skipped",
       "errorTraceType": "ansi",
       "metadata": {},
       "type": "ipynbError"
      }
     },
     "output_type": "display_data"
    }
   ],
   "source": [
    "plt.figure(figsize=(8, 4))\n",
    "plt.boxplot(sample_df[\"mta_tax\"], vert=False)\n",
    "plt.title(\"Boxplot of mta_tax\")\n",
    "plt.xlabel(\"mta_tax\")\n",
    "plt.grid(True)\n",
    "plt.show()"
   ]
  },
  {
   "cell_type": "code",
   "execution_count": 0,
   "metadata": {
    "application/vnd.databricks.v1+cell": {
     "cellMetadata": {
      "byteLimit": 2048000,
      "rowLimit": 10000
     },
     "inputWidgets": {},
     "nuid": "0dd92b85-1a63-456a-8bfa-d42f681b1666",
     "showTitle": false,
     "tableResultSettingsMap": {},
     "title": ""
    }
   },
   "outputs": [
    {
     "output_type": "display_data",
     "data": {
      "text/plain": [
       ""
      ]
     },
     "metadata": {
      "application/vnd.databricks.v1+output": {
       "arguments": {},
       "data": "",
       "errorSummary": "Command skipped",
       "errorTraceType": "ansi",
       "metadata": {},
       "type": "ipynbError"
      }
     },
     "output_type": "display_data"
    }
   ],
   "source": [
    "full_df.groupBy(\"mta_tax\") \\\n",
    "       .count() \\\n",
    "       .orderBy(\"count\", ascending=False) \\\n",
    "       .show()"
   ]
  },
  {
   "cell_type": "markdown",
   "metadata": {
    "application/vnd.databricks.v1+cell": {
     "cellMetadata": {
      "byteLimit": 2048000,
      "rowLimit": 10000
     },
     "inputWidgets": {},
     "nuid": "064a050c-05e0-46e2-b543-f09ee4df84a4",
     "showTitle": false,
     "tableResultSettingsMap": {},
     "title": ""
    }
   },
   "source": [
    "### 📊 EDA Summary: `mta_tax`\n",
    "\n",
    "- **Description:** NYC MTA tax, typically fixed at $0.50 per trip.\n",
    "\n",
    "- **Distribution:**\n",
    "  - ✅ Most trips have a value of **0.5** (standard MTA tax).\n",
    "  - ✅ A large number of trips have **0.0** → likely exempt or very short trips.\n",
    "  - ❌ Some **negative values** (e.g., -0.5, -0.16) → invalid.\n",
    "  - ❌ A few **outlier values** (e.g., 1.0, 3.0, 3.5) → not standard, likely erroneous.\n",
    "\n",
    "---\n",
    "\n",
    "#### ✅ Preprocessing Plan:\n",
    "\n",
    "- **Keep rows** where `mta_tax ∈ {0.0, 0.5}`\n",
    "- **Remove rows** with `mta_tax < 0` or `mta_tax > 0.5`\n",
    "- Optional: create binary column `has_mta_tax = mta_tax == 0.5`"
   ]
  },
  {
   "cell_type": "markdown",
   "metadata": {
    "application/vnd.databricks.v1+cell": {
     "cellMetadata": {
      "byteLimit": 2048000,
      "rowLimit": 10000
     },
     "inputWidgets": {},
     "nuid": "d94837ab-1c9e-475e-b4d9-349bdb7947f8",
     "showTitle": false,
     "tableResultSettingsMap": {},
     "title": ""
    }
   },
   "source": [
    "### Tolls Amount"
   ]
  },
  {
   "cell_type": "code",
   "execution_count": 0,
   "metadata": {
    "application/vnd.databricks.v1+cell": {
     "cellMetadata": {
      "byteLimit": 2048000,
      "rowLimit": 10000
     },
     "inputWidgets": {},
     "nuid": "2f8083aa-5cc7-4380-959f-a9dd4fc89912",
     "showTitle": false,
     "tableResultSettingsMap": {},
     "title": ""
    }
   },
   "outputs": [
    {
     "output_type": "display_data",
     "data": {
      "text/plain": [
       ""
      ]
     },
     "metadata": {
      "application/vnd.databricks.v1+output": {
       "arguments": {},
       "data": "",
       "errorSummary": "Command skipped",
       "errorTraceType": "ansi",
       "metadata": {},
       "type": "ipynbError"
      }
     },
     "output_type": "display_data"
    }
   ],
   "source": [
    "sample_df[\"tolls_amount\"].hist(bins=50, figsize=(8, 4))\n",
    "plt.title(\"tolls_amount Distribution\")\n",
    "plt.xlabel(\"tolls_amount\")\n",
    "plt.ylabel(\"Frequency\")\n",
    "plt.grid(False)\n",
    "plt.show()"
   ]
  },
  {
   "cell_type": "code",
   "execution_count": 0,
   "metadata": {
    "application/vnd.databricks.v1+cell": {
     "cellMetadata": {
      "byteLimit": 2048000,
      "rowLimit": 10000
     },
     "inputWidgets": {},
     "nuid": "98938b00-bc56-4ea3-af0e-5d488e51e581",
     "showTitle": false,
     "tableResultSettingsMap": {},
     "title": ""
    }
   },
   "outputs": [
    {
     "output_type": "display_data",
     "data": {
      "text/plain": [
       ""
      ]
     },
     "metadata": {
      "application/vnd.databricks.v1+output": {
       "arguments": {},
       "data": "",
       "errorSummary": "Command skipped",
       "errorTraceType": "ansi",
       "metadata": {},
       "type": "ipynbError"
      }
     },
     "output_type": "display_data"
    }
   ],
   "source": [
    "sample_df[\"tolls_amount\"].hist(bins=50,range=(0,30), figsize=(8, 4))\n",
    "plt.title(\"tolls_amount Distribution\")\n",
    "plt.xlabel(\"tolls_amount\")\n",
    "plt.ylabel(\"Frequency\")\n",
    "plt.grid(False)\n",
    "plt.show()"
   ]
  },
  {
   "cell_type": "code",
   "execution_count": 0,
   "metadata": {
    "application/vnd.databricks.v1+cell": {
     "cellMetadata": {
      "byteLimit": 2048000,
      "rowLimit": 10000
     },
     "inputWidgets": {},
     "nuid": "6ed7363e-d91e-4a6f-8592-3805ab3c6a96",
     "showTitle": false,
     "tableResultSettingsMap": {},
     "title": ""
    }
   },
   "outputs": [
    {
     "output_type": "display_data",
     "data": {
      "text/plain": [
       ""
      ]
     },
     "metadata": {
      "application/vnd.databricks.v1+output": {
       "arguments": {},
       "data": "",
       "errorSummary": "Command skipped",
       "errorTraceType": "ansi",
       "metadata": {},
       "type": "ipynbError"
      }
     },
     "output_type": "display_data"
    }
   ],
   "source": [
    "full_df.groupBy(\"tolls_amount\") \\\n",
    "       .count() \\\n",
    "       .orderBy(\"count\", ascending=False) \\\n",
    "       .show()"
   ]
  },
  {
   "cell_type": "code",
   "execution_count": 0,
   "metadata": {
    "application/vnd.databricks.v1+cell": {
     "cellMetadata": {
      "byteLimit": 2048000,
      "rowLimit": 10000
     },
     "inputWidgets": {},
     "nuid": "9d294487-7102-4295-a841-c5b2086d001b",
     "showTitle": false,
     "tableResultSettingsMap": {},
     "title": ""
    }
   },
   "outputs": [
    {
     "output_type": "display_data",
     "data": {
      "text/plain": [
       ""
      ]
     },
     "metadata": {
      "application/vnd.databricks.v1+output": {
       "arguments": {},
       "data": "",
       "errorSummary": "Command skipped",
       "errorTraceType": "ansi",
       "metadata": {},
       "type": "ipynbError"
      }
     },
     "output_type": "display_data"
    }
   ],
   "source": [
    "plt.figure(figsize=(8, 4))\n",
    "plt.boxplot(sample_df[\"tolls_amount\"], vert=False)\n",
    "plt.title(\"Boxplot of tolls_amount\")\n",
    "plt.xlabel(\"tolls_amount\") \n",
    "plt.grid(True)\n",
    "plt.show()"
   ]
  },
  {
   "cell_type": "markdown",
   "metadata": {
    "application/vnd.databricks.v1+cell": {
     "cellMetadata": {
      "byteLimit": 2048000,
      "rowLimit": 10000
     },
     "inputWidgets": {},
     "nuid": "704db918-ec21-4c87-9a94-80c165bd0aa3",
     "showTitle": false,
     "tableResultSettingsMap": {},
     "title": ""
    }
   },
   "source": [
    "### 📊 EDA Summary: `tolls_amount`\n",
    "\n",
    "- **Description:** Total tolls charged during the trip (e.g., bridges, tunnels, toll roads).\n",
    "\n",
    "- **Distribution:**\n",
    "  - ✅ Most trips: `tolls_amount = 0.0` (no tolls paid).\n",
    "  - ✅ Common positive values (e.g., 6.94, 13.38) → reflect standard NYC tolls.\n",
    "  - ❌ Some **negative values** → invalid.\n",
    "  - Skewed distribution, but usable as-is after basic cleaning.\n",
    "\n",
    "---\n",
    "\n",
    "#### ✅ Preprocessing Plan:\n",
    "\n",
    "- **Remove rows** where `tolls_amount < 0`\n",
    "- **Keep as numeric** — can be useful for total cost modeling or clustering.\n",
    "- Optional: create a binary feature `has_toll = tolls_amount > 0`"
   ]
  },
  {
   "cell_type": "markdown",
   "metadata": {
    "application/vnd.databricks.v1+cell": {
     "cellMetadata": {
      "byteLimit": 2048000,
      "rowLimit": 10000
     },
     "inputWidgets": {},
     "nuid": "35c30f0e-d2cb-49e3-bc9c-8606e955c408",
     "showTitle": false,
     "tableResultSettingsMap": {},
     "title": ""
    }
   },
   "source": [
    "### Improvement Surcharge"
   ]
  },
  {
   "cell_type": "code",
   "execution_count": 0,
   "metadata": {
    "application/vnd.databricks.v1+cell": {
     "cellMetadata": {
      "byteLimit": 2048000,
      "rowLimit": 10000
     },
     "inputWidgets": {},
     "nuid": "dfb98ef8-b24e-4569-9e36-d0d5640ba22f",
     "showTitle": false,
     "tableResultSettingsMap": {},
     "title": ""
    }
   },
   "outputs": [
    {
     "output_type": "display_data",
     "data": {
      "text/plain": [
       ""
      ]
     },
     "metadata": {
      "application/vnd.databricks.v1+output": {
       "arguments": {},
       "data": "",
       "errorSummary": "Command skipped",
       "errorTraceType": "ansi",
       "metadata": {},
       "type": "ipynbError"
      }
     },
     "output_type": "display_data"
    }
   ],
   "source": [
    "    plt.figure(figsize=(8, 4))\n",
    "    sample_df['improvement_surcharge'].hist(bins=50)\n",
    "    plt.title(\"improvement_surcharge\")\n",
    "    plt.xlabel(\"improvement_surcharge\")\n",
    "    plt.ylabel(\"Frequency\")\n",
    "    plt.grid(False)\n",
    "    plt.show()"
   ]
  },
  {
   "cell_type": "code",
   "execution_count": 0,
   "metadata": {
    "application/vnd.databricks.v1+cell": {
     "cellMetadata": {
      "byteLimit": 2048000,
      "rowLimit": 10000
     },
     "inputWidgets": {},
     "nuid": "4212f0ef-d264-43c0-ba3e-a3c209139894",
     "showTitle": false,
     "tableResultSettingsMap": {},
     "title": ""
    }
   },
   "outputs": [
    {
     "output_type": "display_data",
     "data": {
      "text/plain": [
       ""
      ]
     },
     "metadata": {
      "application/vnd.databricks.v1+output": {
       "arguments": {},
       "data": "",
       "errorSummary": "Command skipped",
       "errorTraceType": "ansi",
       "metadata": {},
       "type": "ipynbError"
      }
     },
     "output_type": "display_data"
    }
   ],
   "source": [
    "full_df.groupBy(\"improvement_surcharge\") \\\n",
    "       .count() \\\n",
    "       .orderBy(\"count\", ascending=False) \\\n",
    "       .show()"
   ]
  },
  {
   "cell_type": "code",
   "execution_count": 0,
   "metadata": {
    "application/vnd.databricks.v1+cell": {
     "cellMetadata": {
      "byteLimit": 2048000,
      "rowLimit": 10000
     },
     "inputWidgets": {},
     "nuid": "c86a8c57-8f56-47c8-bb42-178f26d24088",
     "showTitle": false,
     "tableResultSettingsMap": {},
     "title": ""
    }
   },
   "outputs": [
    {
     "output_type": "display_data",
     "data": {
      "text/plain": [
       ""
      ]
     },
     "metadata": {
      "application/vnd.databricks.v1+output": {
       "arguments": {},
       "data": "",
       "errorSummary": "Command skipped",
       "errorTraceType": "ansi",
       "metadata": {},
       "type": "ipynbError"
      }
     },
     "output_type": "display_data"
    }
   ],
   "source": [
    "plt.figure(figsize=(8, 4))\n",
    "plt.boxplot(sample_df[\"improvement_surcharge\"], vert=False)\n",
    "plt.title(\"Boxplot of improvement_surcharge\")\n",
    "plt.xlabel(\"improvement_surcharge\") \n",
    "plt.grid(True)\n",
    "plt.show()"
   ]
  },
  {
   "cell_type": "markdown",
   "metadata": {
    "application/vnd.databricks.v1+cell": {
     "cellMetadata": {
      "byteLimit": 2048000,
      "rowLimit": 10000
     },
     "inputWidgets": {},
     "nuid": "20735e16-d9bf-417d-9c64-d0a38f351fd6",
     "showTitle": false,
     "tableResultSettingsMap": {},
     "title": ""
    }
   },
   "source": [
    "### 📊 EDA Summary: `improvement_surcharge`\n",
    "\n",
    "- **Description:** A fixed fee per trip meant to fund taxi improvements and driver benefits, introduced in 2015.\n",
    "- **Expected Value:** $0.30 per trip (though some records show `1.0`, likely due to rounding or multiple surcharges).\n",
    "\n",
    "---\n",
    "\n",
    "#### 🔍 Distribution:\n",
    "\n",
    "| Value | Count | Interpretation |\n",
    "|-------|-------|----------------|\n",
    "| `1.0` | 40.25M | ✅ Most common and considered valid |\n",
    "| `0.3` | 5.5K   | ✅ Accurate per TLC policy |\n",
    "| `0.0` | 307K   | ⚠️ Possibly missing/unreported — could impute |\n",
    "| `-1.0` | 606K | ❌ Invalid, negative fee — should be removed |\n",
    "| `-0.3` | 5     | ❌ Invalid |\n",
    "| `0.5` / `2.0` | 1 each | ❌ Outliers or data entry errors |\n",
    "\n",
    "---\n",
    "\n",
    "#### ✅ Preprocessing Plan for this Feature:\n",
    "\n",
    "- **Keep:** rows where `improvement_surcharge ∈ {0.3, 1.0}`\n",
    "- **Replace:** `0.0 → 1.0` (optional, mode imputation)\n",
    "- **Remove:** rows where value `< 0` or `> 1.0`\n",
    "\n",
    "---\n",
    "\n",
    "✅ This variable has **almost no variance**, but we’ll keep it for completeness.  \n",
    "We may later test its impact on the model and drop it if it has low feature importance."
   ]
  },
  {
   "cell_type": "markdown",
   "metadata": {
    "application/vnd.databricks.v1+cell": {
     "cellMetadata": {
      "byteLimit": 2048000,
      "rowLimit": 10000
     },
     "inputWidgets": {},
     "nuid": "51798201-2adf-47ef-8f05-a0e33c6edc32",
     "showTitle": false,
     "tableResultSettingsMap": {},
     "title": ""
    }
   },
   "source": [
    "### congestion_surcharge"
   ]
  },
  {
   "cell_type": "code",
   "execution_count": 0,
   "metadata": {
    "application/vnd.databricks.v1+cell": {
     "cellMetadata": {
      "byteLimit": 2048000,
      "rowLimit": 10000
     },
     "inputWidgets": {},
     "nuid": "6bfcbabd-e923-43f1-8b0c-613bed0a3310",
     "showTitle": false,
     "tableResultSettingsMap": {},
     "title": ""
    }
   },
   "outputs": [
    {
     "output_type": "display_data",
     "data": {
      "text/plain": [
       ""
      ]
     },
     "metadata": {
      "application/vnd.databricks.v1+output": {
       "arguments": {},
       "data": "",
       "errorSummary": "Command skipped",
       "errorTraceType": "ansi",
       "metadata": {},
       "type": "ipynbError"
      }
     },
     "output_type": "display_data"
    }
   ],
   "source": [
    "sample_df[\"congestion_surcharge\"].hist(bins=50, figsize=(8, 4))\n",
    "plt.title(\"congestion_surcharge\")\n",
    "plt.xlabel(\"congestion_surcharge\")\n",
    "plt.ylabel(\"Frequency\")\n",
    "plt.grid(False)\n",
    "plt.show()"
   ]
  },
  {
   "cell_type": "code",
   "execution_count": 0,
   "metadata": {
    "application/vnd.databricks.v1+cell": {
     "cellMetadata": {
      "byteLimit": 2048000,
      "rowLimit": 10000
     },
     "inputWidgets": {},
     "nuid": "b18aa1a7-a432-4109-97a3-fbfadfce9324",
     "showTitle": false,
     "tableResultSettingsMap": {},
     "title": ""
    }
   },
   "outputs": [
    {
     "output_type": "display_data",
     "data": {
      "text/plain": [
       ""
      ]
     },
     "metadata": {
      "application/vnd.databricks.v1+output": {
       "arguments": {},
       "data": "",
       "errorSummary": "Command skipped",
       "errorTraceType": "ansi",
       "metadata": {},
       "type": "ipynbError"
      }
     },
     "output_type": "display_data"
    }
   ],
   "source": [
    "full_df.groupBy(\"congestion_surcharge\") \\\n",
    "       .count() \\\n",
    "       .orderBy(\"count\", ascending=False) \\\n",
    "       .show()"
   ]
  },
  {
   "cell_type": "code",
   "execution_count": 0,
   "metadata": {
    "application/vnd.databricks.v1+cell": {
     "cellMetadata": {
      "byteLimit": 2048000,
      "rowLimit": 10000
     },
     "inputWidgets": {},
     "nuid": "c4135b49-fbad-4406-bd81-804087f46713",
     "showTitle": false,
     "tableResultSettingsMap": {},
     "title": ""
    }
   },
   "outputs": [
    {
     "output_type": "display_data",
     "data": {
      "text/plain": [
       ""
      ]
     },
     "metadata": {
      "application/vnd.databricks.v1+output": {
       "arguments": {},
       "data": "",
       "errorSummary": "Command skipped",
       "errorTraceType": "ansi",
       "metadata": {},
       "type": "ipynbError"
      }
     },
     "output_type": "display_data"
    }
   ],
   "source": [
    "plt.figure(figsize=(8, 4))\n",
    "plt.boxplot(sample_df[\"congestion_surcharge\"].dropna(), vert=False)\n",
    "plt.title(\"Boxplot of congestion_surcharge\")\n",
    "plt.xlabel(\"congestion_surcharge\") \n",
    "plt.grid(True)\n",
    "plt.show()"
   ]
  },
  {
   "cell_type": "markdown",
   "metadata": {
    "application/vnd.databricks.v1+cell": {
     "cellMetadata": {
      "byteLimit": 2048000,
      "rowLimit": 10000
     },
     "inputWidgets": {},
     "nuid": "b8ec1c58-47df-430f-a847-930b93214a59",
     "showTitle": false,
     "tableResultSettingsMap": {},
     "title": ""
    }
   },
   "source": [
    "### 📊 EDA Summary: `congestion_surcharge`\n",
    "\n",
    "- **Description:** Extra fee charged for trips starting, ending, or passing through NYC congestion zones (e.g., Manhattan south of 96th Street).\n",
    "\n",
    "- **Distribution:**\n",
    "  - ✅ Most trips have a surcharge of **2.5 USD** (expected standard).\n",
    "  - ✅ A substantial number have **0.0 USD** (trips outside the congestion zone).\n",
    "  - ⚠️ Over **4 million NULL values** — potentially trips before the surcharge was implemented or missing data.\n",
    "  - ❌ Negative values (e.g., -2.5, -0.75) detected — invalid.\n",
    "  - ❓ Rare unexpected values like **0.75**, **1.0**, **2.0**, **2.52** suggest potential data entry issues.\n",
    "\n",
    "---\n",
    "\n",
    "#### ✅ Preprocessing Plan (planned, not applied yet):\n",
    "\n",
    "- **Remove rows** where `congestion_surcharge < 0`\n",
    "- **Handle NULL values:**\n",
    "  - Option 1: Fill with `0.0`\n",
    "  - Option 2: Fill with the mode (`2.5`) or drop, depending on project goals\n",
    "- **Consider creating a binary feature** (`has_congestion_fee`)"
   ]
  },
  {
   "cell_type": "code",
   "execution_count": 0,
   "metadata": {
    "application/vnd.databricks.v1+cell": {
     "cellMetadata": {
      "byteLimit": 2048000,
      "rowLimit": 10000
     },
     "inputWidgets": {},
     "nuid": "fa452001-6e35-4371-b070-196bc3d4d343",
     "showTitle": false,
     "tableResultSettingsMap": {},
     "title": ""
    }
   },
   "outputs": [],
   "source": []
  },
  {
   "cell_type": "markdown",
   "metadata": {
    "application/vnd.databricks.v1+cell": {
     "cellMetadata": {
      "byteLimit": 2048000,
      "rowLimit": 10000
     },
     "inputWidgets": {},
     "nuid": "4f0640b2-43b6-462e-a30f-6a62696021d9",
     "showTitle": false,
     "tableResultSettingsMap": {},
     "title": ""
    }
   },
   "source": [
    "### airport_fee"
   ]
  },
  {
   "cell_type": "code",
   "execution_count": 0,
   "metadata": {
    "application/vnd.databricks.v1+cell": {
     "cellMetadata": {
      "byteLimit": 2048000,
      "rowLimit": 10000
     },
     "inputWidgets": {},
     "nuid": "0630dc0f-58bf-44bc-8176-82e50b61e627",
     "showTitle": false,
     "tableResultSettingsMap": {},
     "title": ""
    }
   },
   "outputs": [
    {
     "output_type": "display_data",
     "data": {
      "text/plain": [
       ""
      ]
     },
     "metadata": {
      "application/vnd.databricks.v1+output": {
       "arguments": {},
       "data": "",
       "errorSummary": "Command skipped",
       "errorTraceType": "ansi",
       "metadata": {},
       "type": "ipynbError"
      }
     },
     "output_type": "display_data"
    }
   ],
   "source": [
    "sample_df[\"Airport_fee\"].hist(bins=50, figsize=(8, 4))\n",
    "plt.title(\"Airport_fee\")\n",
    "plt.xlabel(\"Airport_fee\")\n",
    "plt.ylabel(\"Frequency\")\n",
    "plt.grid(False)\n",
    "plt.show()"
   ]
  },
  {
   "cell_type": "code",
   "execution_count": 0,
   "metadata": {
    "application/vnd.databricks.v1+cell": {
     "cellMetadata": {
      "byteLimit": 2048000,
      "rowLimit": 10000
     },
     "inputWidgets": {},
     "nuid": "82087a51-60dd-4e07-a275-0d30a23cf452",
     "showTitle": false,
     "tableResultSettingsMap": {},
     "title": ""
    }
   },
   "outputs": [
    {
     "output_type": "display_data",
     "data": {
      "text/plain": [
       ""
      ]
     },
     "metadata": {
      "application/vnd.databricks.v1+output": {
       "arguments": {},
       "data": "",
       "errorSummary": "Command skipped",
       "errorTraceType": "ansi",
       "metadata": {},
       "type": "ipynbError"
      }
     },
     "output_type": "display_data"
    }
   ],
   "source": [
    "full_df.groupBy(\"Airport_fee\") \\\n",
    "       .count() \\\n",
    "       .orderBy(\"count\", ascending=False) \\\n",
    "       .show()"
   ]
  },
  {
   "cell_type": "code",
   "execution_count": 0,
   "metadata": {
    "application/vnd.databricks.v1+cell": {
     "cellMetadata": {
      "byteLimit": 2048000,
      "rowLimit": 10000
     },
     "inputWidgets": {},
     "nuid": "1df80f18-d9a9-41e6-9a04-16f56b040415",
     "showTitle": false,
     "tableResultSettingsMap": {},
     "title": ""
    }
   },
   "outputs": [
    {
     "output_type": "display_data",
     "data": {
      "text/plain": [
       ""
      ]
     },
     "metadata": {
      "application/vnd.databricks.v1+output": {
       "arguments": {},
       "data": "",
       "errorSummary": "Command skipped",
       "errorTraceType": "ansi",
       "metadata": {},
       "type": "ipynbError"
      }
     },
     "output_type": "display_data"
    }
   ],
   "source": [
    "plt.figure(figsize=(8, 4))\n",
    "plt.boxplot(sample_df[\"airport_fee\"].dropna(), vert=False)\n",
    "plt.title(\"Boxplot of airport_fee\")\n",
    "plt.xlabel(\"airport_fee\") \n",
    "plt.grid(True)\n",
    "plt.show()"
   ]
  },
  {
   "cell_type": "markdown",
   "metadata": {
    "application/vnd.databricks.v1+cell": {
     "cellMetadata": {
      "byteLimit": 2048000,
      "rowLimit": 10000
     },
     "inputWidgets": {},
     "nuid": "7154ecaf-3d79-47b9-9c7a-2fa7c737d8fb",
     "showTitle": false,
     "tableResultSettingsMap": {},
     "title": ""
    }
   },
   "source": [
    "### 📊 EDA Summary: `Airport_fee`\n",
    "\n",
    "- **Description:** Fixed surcharge applied to taxi trips originating from JFK and LaGuardia airports.\n",
    "\n",
    "- **Distribution:**\n",
    "  - ✅ Majority of trips have `0.0` → non-airport trips.\n",
    "  - ✅ About 3.2 million trips correctly charged `1.75`.\n",
    "  - ⚠️ Around 4 million NULL entries (missing or unrecorded airport info).\n",
    "  - ❌ Negative values (e.g., -1.75) detected — invalid.\n",
    "  - ❓ Rare unexpected value (`1.25`) — very few occurrences, possibly old pricing.\n",
    "\n",
    "---\n",
    "\n",
    "#### ✅ Preprocessing Plan:\n",
    "\n",
    "- **Remove rows** where `Airport_fee < 0`\n",
    "- **Optionally:** Fill NULLs with `0.0` if assuming missing = no airport fee\n",
    "- **Optional:** Create binary feature (`has_airport_fee`)"
   ]
  },
  {
   "cell_type": "markdown",
   "metadata": {
    "application/vnd.databricks.v1+cell": {
     "cellMetadata": {
      "byteLimit": 2048000,
      "rowLimit": 10000
     },
     "inputWidgets": {},
     "nuid": "aca35484-7ea5-4a68-872c-3b6187805c12",
     "showTitle": false,
     "tableResultSettingsMap": {},
     "title": ""
    }
   },
   "source": [
    "### passenger_count"
   ]
  },
  {
   "cell_type": "code",
   "execution_count": 0,
   "metadata": {
    "application/vnd.databricks.v1+cell": {
     "cellMetadata": {
      "byteLimit": 2048000,
      "rowLimit": 10000
     },
     "inputWidgets": {},
     "nuid": "328ae031-6723-4431-be81-71614e0127a4",
     "showTitle": false,
     "tableResultSettingsMap": {},
     "title": ""
    }
   },
   "outputs": [
    {
     "output_type": "display_data",
     "data": {
      "text/plain": [
       ""
      ]
     },
     "metadata": {
      "application/vnd.databricks.v1+output": {
       "arguments": {},
       "data": "",
       "errorSummary": "Command skipped",
       "errorTraceType": "ansi",
       "metadata": {},
       "type": "ipynbError"
      }
     },
     "output_type": "display_data"
    }
   ],
   "source": [
    "sample_df[\"passenger_count\"].hist(bins=7, figsize=(8, 4))\n",
    "plt.title(\"passenger_count\")\n",
    "plt.xlabel(\"passenger_count\")\n",
    "plt.ylabel(\"Frequency\")\n",
    "plt.grid(False)\n",
    "plt.show()"
   ]
  },
  {
   "cell_type": "code",
   "execution_count": 0,
   "metadata": {
    "application/vnd.databricks.v1+cell": {
     "cellMetadata": {
      "byteLimit": 2048000,
      "rowLimit": 10000
     },
     "inputWidgets": {},
     "nuid": "6ab2007e-7997-4345-b5be-6f5469cec848",
     "showTitle": false,
     "tableResultSettingsMap": {},
     "title": ""
    }
   },
   "outputs": [
    {
     "output_type": "display_data",
     "data": {
      "text/plain": [
       ""
      ]
     },
     "metadata": {
      "application/vnd.databricks.v1+output": {
       "arguments": {},
       "data": "",
       "errorSummary": "Command skipped",
       "errorTraceType": "ansi",
       "metadata": {},
       "type": "ipynbError"
      }
     },
     "output_type": "display_data"
    }
   ],
   "source": [
    "plt.figure(figsize=(8, 4))\n",
    "plt.boxplot(sample_df[\"passenger_count\"].dropna(), vert=False)\n",
    "plt.title(\"Boxplot of passenger_count\")\n",
    "plt.xlabel(\"passenger_count\") \n",
    "plt.grid(True)\n",
    "plt.show()"
   ]
  },
  {
   "cell_type": "markdown",
   "metadata": {
    "application/vnd.databricks.v1+cell": {
     "cellMetadata": {
      "byteLimit": 2048000,
      "rowLimit": 10000
     },
     "inputWidgets": {},
     "nuid": "c66d77da-1879-42b5-829f-c7327abd455a",
     "showTitle": false,
     "tableResultSettingsMap": {},
     "title": ""
    }
   },
   "source": [
    "### 👤 EDA Summary: `passenger_count`\n",
    "\n",
    "- **Description:** Number of passengers in the taxi trip. Should be between 1 and 5 for typical NYC yellow taxi rides.\n",
    "\n",
    "- **Distribution:**\n",
    "  - ✅ Most trips have **1 passenger**, as expected.\n",
    "  - ✅ Other common values include 2–4 passengers.\n",
    "  - ⚠️ A few trips with **6 or 7 passengers** — may reflect large groups or van service.\n",
    "  - ❌ Some trips report **0 passengers** — invalid or unrecorded.\n",
    "\n",
    "---\n",
    "\n",
    "#### ✅ Preprocessing Plan:\n",
    "\n",
    "- **Remove** or **impute** rows with `passenger_count == 0`\n",
    "- **Optionally:** Treat as categorical (since it's a discrete count)\n",
    "- Consider creating a **binary flag** like `is_shared_ride` (e.g. `passenger_count > 1`)\n"
   ]
  },
  {
   "cell_type": "markdown",
   "metadata": {
    "application/vnd.databricks.v1+cell": {
     "cellMetadata": {
      "byteLimit": 2048000,
      "rowLimit": 10000
     },
     "inputWidgets": {},
     "nuid": "953b3253-6789-4c46-9fbc-24db9754dbfb",
     "showTitle": false,
     "tableResultSettingsMap": {},
     "title": ""
    }
   },
   "source": [
    "## Categorical Features"
   ]
  },
  {
   "cell_type": "code",
   "execution_count": 0,
   "metadata": {
    "application/vnd.databricks.v1+cell": {
     "cellMetadata": {
      "byteLimit": 2048000,
      "rowLimit": 10000
     },
     "inputWidgets": {},
     "nuid": "06783e66-1595-435c-b657-25b1655d690e",
     "showTitle": false,
     "tableResultSettingsMap": {},
     "title": ""
    },
    "scrolled": true
   },
   "outputs": [
    {
     "output_type": "display_data",
     "data": {
      "text/plain": [
       ""
      ]
     },
     "metadata": {
      "application/vnd.databricks.v1+output": {
       "arguments": {},
       "data": "",
       "errorSummary": "Command skipped",
       "errorTraceType": "ansi",
       "metadata": {},
       "type": "ipynbError"
      }
     },
     "output_type": "display_data"
    }
   ],
   "source": [
    "full_df.groupBy(\"VendorID\").count().orderBy(\"count\", ascending=False).show()\n"
   ]
  },
  {
   "cell_type": "markdown",
   "metadata": {
    "application/vnd.databricks.v1+cell": {
     "cellMetadata": {
      "byteLimit": 2048000,
      "rowLimit": 10000
     },
     "inputWidgets": {},
     "nuid": "f757050f-8f0e-4145-87fa-cfbc5480cbc0",
     "showTitle": false,
     "tableResultSettingsMap": {},
     "title": ""
    }
   },
   "source": [
    "### 🏷️ Categorical Feature Summary: `VendorID`\n",
    "\n",
    "- **Description:** Identifies the TPEP (Technology Passenger Enhancement Program) provider that submitted the trip record.\n",
    "  - `1` = Creative Mobile Technologies, LLC  \n",
    "  - `2` = Curb Mobility, LLC  \n",
    "  - `6` = Myle Technologies Inc  \n",
    "  - `7` = Helix\n",
    "\n",
    "- **Distribution:**\n",
    "  - `2` (Curb Mobility) is the dominant provider with over 31 million records (~76%).\n",
    "  - `1` (Creative Mobile Technologies) is also frequent (~23%).\n",
    "  - `6` and `7` are rare and likely represent niche or recent entries in the system.\n",
    "\n",
    "- **Notes:**\n",
    "  - Can be treated as **categorical** (e.g. one-hot encoding).\n",
    "  - Rare values (`6`, `7`) may be grouped into an **\"Other\"** category depending on modeling strategy."
   ]
  },
  {
   "cell_type": "markdown",
   "metadata": {
    "application/vnd.databricks.v1+cell": {
     "cellMetadata": {
      "byteLimit": 2048000,
      "rowLimit": 10000
     },
     "inputWidgets": {},
     "nuid": "96b561ba-9dc5-409f-b05b-4d35b228e46c",
     "showTitle": false,
     "tableResultSettingsMap": {},
     "title": ""
    }
   },
   "source": [
    "### RatecodeID"
   ]
  },
  {
   "cell_type": "code",
   "execution_count": 0,
   "metadata": {
    "application/vnd.databricks.v1+cell": {
     "cellMetadata": {
      "byteLimit": 2048000,
      "rowLimit": 10000
     },
     "inputWidgets": {},
     "nuid": "3bb798e9-94de-402f-ba31-a6c64018ef7d",
     "showTitle": false,
     "tableResultSettingsMap": {},
     "title": ""
    }
   },
   "outputs": [
    {
     "output_type": "display_data",
     "data": {
      "text/plain": [
       ""
      ]
     },
     "metadata": {
      "application/vnd.databricks.v1+output": {
       "arguments": {},
       "data": "",
       "errorSummary": "Command skipped",
       "errorTraceType": "ansi",
       "metadata": {},
       "type": "ipynbError"
      }
     },
     "output_type": "display_data"
    }
   ],
   "source": [
    "full_df.groupBy(\"RatecodeID\").count().orderBy(\"count\", ascending=False).show()\n"
   ]
  },
  {
   "cell_type": "markdown",
   "metadata": {
    "application/vnd.databricks.v1+cell": {
     "cellMetadata": {
      "byteLimit": 2048000,
      "rowLimit": 10000
     },
     "inputWidgets": {},
     "nuid": "8ce3ee83-a52c-4899-ba54-8f8020670a5a",
     "showTitle": false,
     "tableResultSettingsMap": {},
     "title": ""
    }
   },
   "source": [
    "### 🏷️ Categorical Feature Summary: `RatecodeID`\n",
    "\n",
    "- **Description:** Indicates the final rate code used to compute the fare.\n",
    "\n",
    "- **Distribution:**\n",
    "  - ✅ `1` (Standard rate) is dominant (≈34.6M trips).\n",
    "  - ✅ `2` (JFK) is frequent (~1.4M trips).\n",
    "  - ⚠️ `99` (Unknown) appears in ~467K trips → represents missing or unknown rate coding.\n",
    "  - ⚠️ `5`, `3`, `4` appear but are relatively rare.\n",
    "  - ❌ `6` (Group ride) appears only **76 times** — extremely rare.\n",
    "\n",
    "- **Issues detected:**\n",
    "  - High number of **NULL values** (~4M trips) → should be handled during preprocessing.\n",
    "\n",
    "---\n",
    "\n",
    "#### ✅ Preprocessing Plan (planned, not applied yet):\n",
    "\n",
    "- **Treat as categorical** (string).\n",
    "- **Optionally group** very rare categories (`4`, `5`, `6`, `99`) into an **\"Other\"** class.\n",
    "- **Decide how to handle NULLs:** fill as \"Unknown\" or separate category."
   ]
  },
  {
   "cell_type": "markdown",
   "metadata": {
    "application/vnd.databricks.v1+cell": {
     "cellMetadata": {
      "byteLimit": 2048000,
      "rowLimit": 10000
     },
     "inputWidgets": {},
     "nuid": "d26afb76-704f-40d4-9b7b-2b9127e36231",
     "showTitle": false,
     "tableResultSettingsMap": {},
     "title": ""
    }
   },
   "source": [
    "### store_and_fwd_flag"
   ]
  },
  {
   "cell_type": "code",
   "execution_count": 0,
   "metadata": {
    "application/vnd.databricks.v1+cell": {
     "cellMetadata": {
      "byteLimit": 2048000,
      "rowLimit": 10000
     },
     "inputWidgets": {},
     "nuid": "c2eff218-b301-49b2-ace5-4eb898aae160",
     "showTitle": false,
     "tableResultSettingsMap": {},
     "title": ""
    }
   },
   "outputs": [
    {
     "output_type": "display_data",
     "data": {
      "text/plain": [
       ""
      ]
     },
     "metadata": {
      "application/vnd.databricks.v1+output": {
       "arguments": {},
       "data": "",
       "errorSummary": "Command skipped",
       "errorTraceType": "ansi",
       "metadata": {},
       "type": "ipynbError"
      }
     },
     "output_type": "display_data"
    }
   ],
   "source": [
    "full_df.groupBy(\"store_and_fwd_flag\").count().orderBy(\"count\", ascending=False).show()\n"
   ]
  },
  {
   "cell_type": "markdown",
   "metadata": {
    "application/vnd.databricks.v1+cell": {
     "cellMetadata": {
      "byteLimit": 2048000,
      "rowLimit": 10000
     },
     "inputWidgets": {},
     "nuid": "df6d1171-44ea-4a72-8fe2-07ebb14dd835",
     "showTitle": false,
     "tableResultSettingsMap": {},
     "title": ""
    }
   },
   "source": [
    "### 🏷️ Categorical Feature Summary: `store_and_fwd_flag` (maybe this is not relavant)\n",
    "\n",
    "- **Description:** Indicates whether the trip record was stored in the vehicle memory before sending to the server.\n",
    "  - `Y` = Stored and forwarded later (vehicle had no connection at pickup/dropoff time).\n",
    "  - `N` = Sent directly to the server at the time of trip.\n",
    "\n",
    "- **Distribution:**\n",
    "  - ✅ `N` (No delay) is dominant — ~36.9M trips (~90%).\n",
    "  - ✅ `Y` (Stored and forwarded) occurs in ~175K trips (~0.4%).\n",
    "  - ⚠️ About 4M trips have **NULL values** — possibly older records or missing transmission info.\n",
    "\n",
    "- **Issues detected:**\n",
    "  - NULL values (~10% of total) — should be handled during preprocessing.\n",
    "\n",
    "---\n",
    "\n",
    "#### ✅ Preprocessing Plan (planned, not applied yet):\n",
    "\n",
    "- **Treat as binary categorical** (`N`, `Y`).\n",
    "- **Handle NULLs:** \n",
    "  - Option 1: Fill with `N` (assuming majority behavior).\n",
    "  - Option 2: Introduce a third category (\"Unknown\") if more careful treatment is needed."
   ]
  },
  {
   "cell_type": "markdown",
   "metadata": {
    "application/vnd.databricks.v1+cell": {
     "cellMetadata": {
      "byteLimit": 2048000,
      "rowLimit": 10000
     },
     "inputWidgets": {},
     "nuid": "24c7f77a-e27f-4632-b97b-cea0a92f252b",
     "showTitle": false,
     "tableResultSettingsMap": {},
     "title": ""
    }
   },
   "source": [
    "### payment_type"
   ]
  },
  {
   "cell_type": "code",
   "execution_count": 0,
   "metadata": {
    "application/vnd.databricks.v1+cell": {
     "cellMetadata": {
      "byteLimit": 2048000,
      "rowLimit": 10000
     },
     "inputWidgets": {},
     "nuid": "d21366e8-5300-442a-9cc2-f1ec3155215d",
     "showTitle": false,
     "tableResultSettingsMap": {},
     "title": ""
    }
   },
   "outputs": [
    {
     "output_type": "display_data",
     "data": {
      "text/plain": [
       ""
      ]
     },
     "metadata": {
      "application/vnd.databricks.v1+output": {
       "arguments": {},
       "data": "",
       "errorSummary": "Command skipped",
       "errorTraceType": "ansi",
       "metadata": {},
       "type": "ipynbError"
      }
     },
     "output_type": "display_data"
    }
   ],
   "source": [
    "full_df.groupBy(\"payment_type\").count().orderBy(\"count\", ascending=False).show()"
   ]
  },
  {
   "cell_type": "markdown",
   "metadata": {
    "application/vnd.databricks.v1+cell": {
     "cellMetadata": {
      "byteLimit": 2048000,
      "rowLimit": 10000
     },
     "inputWidgets": {},
     "nuid": "eaaf9a82-3fc6-449e-9039-09d9aa85a32e",
     "showTitle": false,
     "tableResultSettingsMap": {},
     "title": ""
    }
   },
   "source": [
    "### 🏷️ Categorical Feature Summary: `payment_type`\n",
    "\n",
    "- **Description:** A numeric code signifying how the passenger paid for the trip.\n",
    "\n",
    "\n",
    "- **Distribution:**\n",
    "  - ✅ `1` (Credit Card) dominates — 30.4M trips (~73%).\n",
    "  - ✅ `2` (Cash) — 5.5M trips (~13%).\n",
    "  - ⚠️ `0` (Flex Fare Trip) — 4M trips (10%).\n",
    "  - ⚠️ `3` (No Charge) and `4` (Dispute) are rare but valid cases.\n",
    "  - ❌ `5` (Unknown) has only 4 trips — likely noise.\n",
    "\n",
    "- **Issues detected:**\n",
    "  - Flex Fare trips (`0`) are meaningful (not \"unknown\" — it's a specific payment type).\n",
    "  - Category `5` is extremely rare — might be grouped or ignored.\n",
    "\n",
    "---\n",
    "\n",
    "#### ✅ Preprocessing Plan (planned, not applied yet):\n",
    "\n",
    "- **Treat as categorical** (use StringIndexer or similar).\n",
    "- **Keep Flex Fare trips (`0`)** as a valid category.\n",
    "- **Group very rare classes** (`5`) into \"Other\" if needed or delete.\n"
   ]
  },
  {
   "cell_type": "markdown",
   "metadata": {
    "application/vnd.databricks.v1+cell": {
     "cellMetadata": {
      "byteLimit": 2048000,
      "rowLimit": 10000
     },
     "inputWidgets": {},
     "nuid": "0bcebcac-cdb6-4d40-a61e-7f2be5e61de6",
     "showTitle": false,
     "tableResultSettingsMap": {},
     "title": ""
    }
   },
   "source": [
    "### PULocationID"
   ]
  },
  {
   "cell_type": "code",
   "execution_count": 0,
   "metadata": {
    "application/vnd.databricks.v1+cell": {
     "cellMetadata": {
      "byteLimit": 2048000,
      "rowLimit": 10000
     },
     "inputWidgets": {},
     "nuid": "ba3e12c9-ec0d-433b-bec7-965d0287f87b",
     "showTitle": false,
     "tableResultSettingsMap": {},
     "title": ""
    }
   },
   "outputs": [
    {
     "output_type": "display_data",
     "data": {
      "text/plain": [
       ""
      ]
     },
     "metadata": {
      "application/vnd.databricks.v1+output": {
       "arguments": {},
       "data": "",
       "errorSummary": "Command skipped",
       "errorTraceType": "ansi",
       "metadata": {},
       "type": "ipynbError"
      }
     },
     "output_type": "display_data"
    }
   ],
   "source": [
    "full_df.groupBy(\"PULocationID\").count().orderBy(\"count\", ascending=True).show()"
   ]
  },
  {
   "cell_type": "code",
   "execution_count": 0,
   "metadata": {
    "application/vnd.databricks.v1+cell": {
     "cellMetadata": {
      "byteLimit": 2048000,
      "rowLimit": 10000
     },
     "inputWidgets": {},
     "nuid": "3317d143-fb25-4186-a1e6-13a888871abc",
     "showTitle": false,
     "tableResultSettingsMap": {},
     "title": ""
    }
   },
   "outputs": [
    {
     "output_type": "display_data",
     "data": {
      "text/plain": [
       ""
      ]
     },
     "metadata": {
      "application/vnd.databricks.v1+output": {
       "arguments": {},
       "data": "",
       "errorSummary": "Command skipped",
       "errorTraceType": "ansi",
       "metadata": {},
       "type": "ipynbError"
      }
     },
     "output_type": "display_data"
    }
   ],
   "source": [
    "# Group sample by PULocationID\n",
    "pu_counts_sample = sample_df.groupby(\"PULocationID\").size().reset_index(name=\"count\")\n",
    "\n",
    "# Sort by count descending\n",
    "pu_counts_sample = pu_counts_sample.sort_values(\"count\", ascending=False)\n",
    "\n",
    "\n",
    "plt.figure(figsize=(16,6))\n",
    "plt.bar(pu_counts_sample[\"PULocationID\"].astype(str), pu_counts_sample[\"count\"])\n",
    "plt.title(\"Pickup Location (PULocationID) Distribution (Sample, Descending)\")\n",
    "plt.xlabel(\"Pickup Location ID\")\n",
    "plt.ylabel(\"Number of Trips\")\n",
    "plt.xticks(rotation=90, ha='center')\n",
    "plt.grid(axis='y')\n",
    "plt.tight_layout()\n",
    "plt.show()"
   ]
  },
  {
   "cell_type": "markdown",
   "metadata": {
    "application/vnd.databricks.v1+cell": {
     "cellMetadata": {
      "byteLimit": 2048000,
      "rowLimit": 10000
     },
     "inputWidgets": {},
     "nuid": "07685a42-0a23-41e2-a739-72fd1b5d1390",
     "showTitle": false,
     "tableResultSettingsMap": {},
     "title": ""
    }
   },
   "source": [
    "### 📊 EDA Summary: `PULocationID` & `DOLocationID`\n",
    "\n",
    "- **Description:**  \n",
    "  - `PULocationID`: TLC Taxi Zone ID where the meter was **engaged** (pickup).\n",
    "  - `DOLocationID`: TLC Taxi Zone ID where the meter was **disengaged** (dropoff).\n",
    "  - These IDs correspond to geographical taxi zones in NYC.\n",
    "\n",
    "- **Distribution Insights:**\n",
    "  - **Highly skewed**: A small number of zones account for the majority of pickups and dropoffs.\n",
    "  - **Long tail**: Many zones have very few records.\n",
    "  - **Zone pairing** could capture meaningful patterns in typical travel routes.\n",
    "\n",
    "\n",
    "---\n",
    "\n",
    "#### ✅ Preprocessing Plan:\n",
    "\n",
    "- Treat IDs as **categorical strings** (not numerical).\n",
    "- **Optionally create** a combined feature: `PU_DO_pair = PULocationID_DOLocationID`  \n",
    "  → Useful for route-based analysis or clustering.\n",
    "\n",
    "\n"
   ]
  },
  {
   "cell_type": "markdown",
   "metadata": {
    "application/vnd.databricks.v1+cell": {
     "cellMetadata": {
      "byteLimit": 2048000,
      "rowLimit": 10000
     },
     "inputWidgets": {},
     "nuid": "19812963-50b8-428c-bc45-7e42ecb2566a",
     "showTitle": false,
     "tableResultSettingsMap": {},
     "title": ""
    }
   },
   "source": [
    "# Correlation analysis"
   ]
  },
  {
   "cell_type": "markdown",
   "metadata": {
    "application/vnd.databricks.v1+cell": {
     "cellMetadata": {},
     "inputWidgets": {},
     "nuid": "370f7018-da14-408d-8f91-6629012126d3",
     "showTitle": false,
     "tableResultSettingsMap": {},
     "title": ""
    }
   },
   "source": [
    "## Numerical vs Numerical"
   ]
  },
  {
   "cell_type": "code",
   "execution_count": 0,
   "metadata": {
    "application/vnd.databricks.v1+cell": {
     "cellMetadata": {
      "byteLimit": 2048000,
      "rowLimit": 10000
     },
     "inputWidgets": {},
     "nuid": "e0f19d1e-5051-4e47-9f83-35bcad9a4017",
     "showTitle": false,
     "tableResultSettingsMap": {},
     "title": ""
    }
   },
   "outputs": [],
   "source": [
    "numeric_cols= continuous_cols+ ['passenger_count']\n"
   ]
  },
  {
   "cell_type": "code",
   "execution_count": 0,
   "metadata": {
    "application/vnd.databricks.v1+cell": {
     "cellMetadata": {
      "byteLimit": 2048000,
      "rowLimit": 10000
     },
     "inputWidgets": {},
     "nuid": "613774d9-7abc-4e68-be73-08110f0a27f5",
     "showTitle": false,
     "tableResultSettingsMap": {},
     "title": ""
    }
   },
   "outputs": [
    {
     "output_type": "stream",
     "name": "stdout",
     "output_type": "stream",
     "text": [
      "['trip_distance', 'fare_amount', 'tip_amount', 'total_amount', 'extra', 'mta_tax', 'tolls_amount', 'improvement_surcharge', 'congestion_surcharge', 'airport_fee', 'passenger_count']\n"
     ]
    }
   ],
   "source": [
    "print(numeric_cols)"
   ]
  },
  {
   "cell_type": "code",
   "execution_count": 0,
   "metadata": {
    "application/vnd.databricks.v1+cell": {
     "cellMetadata": {
      "byteLimit": 2048000,
      "rowLimit": 10000
     },
     "inputWidgets": {},
     "nuid": "038f9f50-e2c3-411c-a444-b78d3014dc60",
     "showTitle": false,
     "tableResultSettingsMap": {},
     "title": ""
    }
   },
   "outputs": [
    {
     "output_type": "display_data",
     "data": {
      "image/png": "[encoded data removed]"
     },
     "metadata": {
      "application/vnd.databricks.v1+output": {
       "addedWidgets": {},
       "arguments": {},
       "data": "data:image/png;base64,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\n",
       "datasetInfos": [],
       "metadata": {},
       "removedWidgets": [],
       "type": "image"
      }
     },
     "output_type": "display_data"
    }
   ],
   "source": [
    "# Convert a sample of the DataFrame to Pandas for correlation analysis\n",
    "numeric_sample_df = df.select(numeric_cols).dropna().sample(fraction=0.1, seed=42).toPandas()\n",
    "\n",
    "# Compute the correlation matrix\n",
    "correlation_matrix = numeric_sample_df.corr(method=\"spearman\")\n",
    "\n",
    "plt.figure(figsize=(12, 10))\n",
    "sns.heatmap(correlation_matrix, annot=True, fmt=\".2f\", cmap=\"coolwarm\", linewidths=0.5, square=True)\n",
    "plt.title(\"Correlation Matrix of Numeric Features\")\n",
    "plt.tight_layout()\n",
    "plt.show()"
   ]
  },
  {
   "cell_type": "markdown",
   "metadata": {
    "application/vnd.databricks.v1+cell": {
     "cellMetadata": {},
     "inputWidgets": {},
     "nuid": "099fd27b-1081-465b-9b17-1e798688797c",
     "showTitle": false,
     "tableResultSettingsMap": {},
     "title": ""
    }
   },
   "source": [
    "### 📊 EDA Summary: **Numeric Feature Correlations**\n",
    "\n",
    "- **Top Positive Correlations:**\n",
    "  - `fare_amount` is **strongly correlated** with both `trip_distance` *(r = 0.82)* and `total_amount` *(r = 0.97)*.\n",
    "  - `tip_amount` and `tolls_amount` also show moderate positive correlations with `fare_amount`.\n",
    "\n",
    "- **Surcharge Relationships:**\n",
    "  - `mta_tax`, `improvement_surcharge`, and `congestion_surcharge` are **moderately interrelated**, likely due to shared trip conditions or regulations.\n",
    "  \n",
    "- **Low or Negligible Correlations:**\n",
    "  - `passenger_count` shows **no meaningful correlation** with other features.\n",
    "  - Weak negative correlation between `trip_distance` and `congestion_surcharge` may indicate shorter trips are more affected by congestion.\n",
    "\n",
    "---\n",
    "\n",
    "### ✅ Preprocessing Plan\n",
    "\n",
    "- Be cautious of **multicollinearity**\n",
    "- Consider engineering **normalized features**, such as:\n",
    "  - `fare_per_mile = fare_amount / trip_distance`\n",
    "  - `tip_ratio = tip_amount / fare_amount`\n",
    "- Exclude or merge **redundant features** to improve model performance."
   ]
  },
  {
   "cell_type": "markdown",
   "metadata": {
    "application/vnd.databricks.v1+cell": {
     "cellMetadata": {},
     "inputWidgets": {},
     "nuid": "18607112-9b89-4472-aa33-0842e22b0b58",
     "showTitle": false,
     "tableResultSettingsMap": {},
     "title": ""
    }
   },
   "source": [
    "## Categorical vs Categorical"
   ]
  },
  {
   "cell_type": "code",
   "execution_count": 0,
   "metadata": {
    "application/vnd.databricks.v1+cell": {
     "cellMetadata": {
      "byteLimit": 2048000,
      "rowLimit": 10000
     },
     "inputWidgets": {},
     "nuid": "a0e9c9da-41aa-4842-bf3e-8f39c5dceb24",
     "showTitle": false,
     "tableResultSettingsMap": {},
     "title": ""
    }
   },
   "outputs": [],
   "source": [
    "categorical= [\"VendorID\",\"RatecodeID\",\"store_and_fwd_flag\",\"payment_type\",\"PULocationID\",\"DOLocationID\"]"
   ]
  },
  {
   "cell_type": "code",
   "execution_count": 0,
   "metadata": {
    "application/vnd.databricks.v1+cell": {
     "cellMetadata": {
      "byteLimit": 2048000,
      "rowLimit": 10000
     },
     "inputWidgets": {},
     "nuid": "ec2c9735-03ee-49e2-ab49-4822560fd71d",
     "showTitle": false,
     "tableResultSettingsMap": {},
     "title": ""
    }
   },
   "outputs": [],
   "source": [
    "cat_cols = [col for col in categorical if sample_df[col].nunique() <= 20]"
   ]
  },
  {
   "cell_type": "code",
   "execution_count": 0,
   "metadata": {
    "application/vnd.databricks.v1+cell": {
     "cellMetadata": {
      "byteLimit": 2048000,
      "rowLimit": 10000
     },
     "inputWidgets": {},
     "nuid": "9ce20b47-9d2c-4530-9f93-222e28b027c2",
     "showTitle": false,
     "tableResultSettingsMap": {},
     "title": ""
    }
   },
   "outputs": [],
   "source": [
    "def cramers_v(x, y):\n",
    "    confusion_matrix = pd.crosstab(x, y)\n",
    "    chi2 = chi2_contingency(confusion_matrix)[0]\n",
    "    n = confusion_matrix.sum().sum()\n",
    "    phi2 = chi2 / n\n",
    "    r, k = confusion_matrix.shape\n",
    "    phi2_corr = max(0, phi2 - ((k-1)*(r-1))/(n-1))\n",
    "    r_corr = r - ((r-1)**2)/(n-1)\n",
    "    k_corr = k - ((k-1)**2)/(n-1)\n",
    "    return np.sqrt(phi2_corr / min((k_corr-1), (r_corr-1)))"
   ]
  },
  {
   "cell_type": "code",
   "execution_count": 0,
   "metadata": {
    "application/vnd.databricks.v1+cell": {
     "cellMetadata": {
      "byteLimit": 2048000,
      "rowLimit": 10000
     },
     "inputWidgets": {},
     "nuid": "fc95f6a0-3a75-434a-a8d7-0676796cba89",
     "showTitle": false,
     "tableResultSettingsMap": {},
     "title": ""
    }
   },
   "outputs": [
    {
     "output_type": "display_data",
     "data": {
      "image/png": "[encoded data removed]"
     },
     "metadata": {
      "application/vnd.databricks.v1+output": {
       "addedWidgets": {},
       "arguments": {},
       "data": "data:image/png;base64,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\n",
       "datasetInfos": [],
       "metadata": {},
       "removedWidgets": [],
       "type": "image"
      }
     },
     "output_type": "display_data"
    }
   ],
   "source": [
    "cramer_matrix = pd.DataFrame(index=cat_cols, columns=cat_cols)\n",
    "\n",
    "for col1 in cat_cols:\n",
    "    for col2 in cat_cols:\n",
    "        if col1 == col2:\n",
    "            cramer_matrix.loc[col1, col2] = 1.0\n",
    "        else:\n",
    "            try:\n",
    "                cramer_matrix.loc[col1, col2] = cramers_v(sample_df[col1], sample_df[col2])\n",
    "            except:\n",
    "                cramer_matrix.loc[col1, col2] = np.nan\n",
    "\n",
    "cramer_matrix = cramer_matrix.astype(float)\n",
    "\n",
    "# Heatmap\n",
    "plt.figure(figsize=(10, 8))\n",
    "sns.heatmap(cramer_matrix, annot=True, cmap=\"YlGnBu\", fmt=\".2f\", square=True)\n",
    "plt.title(\"Cramér’s V Association Between Categorical Variables\")\n",
    "plt.tight_layout()\n",
    "plt.show()"
   ]
  },
  {
   "cell_type": "markdown",
   "metadata": {
    "application/vnd.databricks.v1+cell": {
     "cellMetadata": {},
     "inputWidgets": {},
     "nuid": "1be5cf3d-4aff-4e66-a1af-3134efb1f7a6",
     "showTitle": false,
     "tableResultSettingsMap": {},
     "title": ""
    }
   },
   "source": [
    "### 📘 Interpretation: Cramér’s V Association Between Categorical Variables\n",
    "\n",
    "Cramér’s V is designed to detect association patterns between categorical variables, and low values here indicate no strong relationship between them.\n",
    "\n",
    "The heatmap shows that the categorical variables have **no significant association** with each other — as expected, the diagonal contains `1.00` values (each variable is perfectly associated with itself), while all off-diagonal values are near zero.\n",
    "\n",
    "This result suggests that variables are **statistically independent** in this dataset. The values of one variable do **not influence or depend** on the values of another."
   ]
  },
  {
   "cell_type": "markdown",
   "metadata": {
    "application/vnd.databricks.v1+cell": {
     "cellMetadata": {},
     "inputWidgets": {},
     "nuid": "1a42a94e-483e-4f33-a557-33206d7f396a",
     "showTitle": false,
     "tableResultSettingsMap": {},
     "title": ""
    }
   },
   "source": [
    "## Numerical vs Categorical"
   ]
  },
  {
   "cell_type": "code",
   "execution_count": 0,
   "metadata": {
    "application/vnd.databricks.v1+cell": {
     "cellMetadata": {},
     "inputWidgets": {},
     "nuid": "d66c0d07-94c8-4252-8569-47ecb9c297f7",
     "showTitle": false,
     "tableResultSettingsMap": {},
     "title": ""
    }
   },
   "outputs": [],
   "source": [
    "from sklearn.feature_selection import f_classif\n",
    "\n",
    "def eta_squared(df, num_col, cat_col):\n",
    "    groups = df[cat_col].astype(str)\n",
    "    target = df[num_col]\n",
    "    f, p = f_classif(pd.get_dummies(groups), target)\n",
    "    return f[0] / (f[0] + df.shape[0] - 1)"
   ]
  },
  {
   "cell_type": "code",
   "execution_count": 0,
   "metadata": {
    "application/vnd.databricks.v1+cell": {
     "cellMetadata": {},
     "inputWidgets": {},
     "nuid": "c392ea9c-1d5a-4fc7-88b6-0bcd45ae3899",
     "showTitle": false,
     "tableResultSettingsMap": {},
     "title": ""
    }
   },
   "outputs": [],
   "source": [
    "results = []\n",
    "\n",
    "for cat in categorical:\n",
    "    for num in numerical:\n",
    "        try:\n",
    "            score = eta_squared(sample_df.dropna(subset=[cat, num]), num, cat)\n",
    "            results.append((cat, num, round(score, 3)))\n",
    "        except:\n",
    "            results.append((cat, num, None))\n",
    "\n",
    "eta_df = pd.DataFrame(results, columns=[\"Categorical\", \"Numerical\", \"Eta²\"])\n",
    "display(eta_df)\n"
   ]
  },
  {
   "cell_type": "markdown",
   "metadata": {
    "application/vnd.databricks.v1+cell": {
     "cellMetadata": {
      "byteLimit": 2048000,
      "rowLimit": 10000
     },
     "inputWidgets": {},
     "nuid": "52d3c385-bffe-4f1d-a7fa-7bcbf613719e",
     "showTitle": false,
     "tableResultSettingsMap": {},
     "title": ""
    }
   },
   "source": [
    "# Save de Dataset"
   ]
  },
  {
   "cell_type": "code",
   "execution_count": 0,
   "metadata": {
    "application/vnd.databricks.v1+cell": {
     "cellMetadata": {
      "byteLimit": 2048000,
      "rowLimit": 10000
     },
     "inputWidgets": {},
     "nuid": "dd670c73-22fd-4d5d-ab67-4e468745cbef",
     "showTitle": false,
     "tableResultSettingsMap": {},
     "title": ""
    }
   },
   "outputs": [
    {
     "output_type": "display_data",
     "data": {
      "text/plain": [
       ""
      ]
     },
     "metadata": {
      "application/vnd.databricks.v1+output": {
       "arguments": {},
       "data": "",
       "errorSummary": "Command skipped",
       "errorTraceType": "ansi",
       "metadata": {},
       "type": "ipynbError"
      }
     },
     "output_type": "display_data"
    }
   ],
   "source": [
    "full_df.write.mode(\"overwrite\").parquet(\"dbfs:/FileStore/parquets/full_dataset_after_eda.parquet\")"
   ]
  }
 ],
 "metadata": {
  "application/vnd.databricks.v1+notebook": {
   "computePreferences": null,
   "dashboards": [],
   "environmentMetadata": null,
   "inputWidgetPreferences": null,
   "language": "python",
   "notebookMetadata": {
    "pythonIndentUnit": 4
   },
   "notebookName": "01_EDA_experiment",
   "widgets": {}
  },
  "kernelspec": {
   "display_name": "Python 3 (ipykernel)",
   "language": "python",
   "name": "python3"
  },
  "language_info": {
   "codemirror_mode": {
    "name": "ipython",
    "version": 3
   },
   "file_extension": ".py",
   "mimetype": "text/x-python",
   "name": "python",
   "nbconvert_exporter": "python",
   "pygments_lexer": "ipython3",
   "version": "3.11.7"
  }
 },
 "nbformat": 4,
 "nbformat_minor": 0
}