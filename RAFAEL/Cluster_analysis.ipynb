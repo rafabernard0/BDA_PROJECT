{
 "cells": [
  {
   "cell_type": "markdown",
   "id": "a9a0553a",
   "metadata": {},
   "source": [
    "## Cluster Analysis "
   ]
  },
  {
   "cell_type": "code",
   "execution_count": 13,
   "id": "9ee75892",
   "metadata": {},
   "outputs": [],
   "source": [
    "# import findspark\n",
    "# from pyspark.sql import SparkSession\n",
    "\n",
    "import os\n",
    "import pandas as pd"
   ]
  },
  {
   "cell_type": "code",
   "execution_count": null,
   "id": "04a2ae8e",
   "metadata": {},
   "outputs": [],
   "source": [
    "# # Para data bricks \n",
    "\n",
    "# def load_parquet_dbfs(path: str):\n",
    "#     df = spark.read.parquet(path)\n",
    "#     return df\n",
    "\n",
    "# df = load_parquet_dbfs(\"/dbfs/FileStore/tables/full_dataset_after_cleaning.parquet\")\n"
   ]
  },
  {
   "cell_type": "code",
   "execution_count": null,
   "id": "6daeac82",
   "metadata": {},
   "outputs": [],
   "source": [
    "\n",
    "# findspark.init()\n",
    "\n",
    "# from pyspark.sql import SparkSession\n",
    "\n",
    "# def load_parquet_local(path: str):\n",
    "#     spark = SparkSession.builder \\\n",
    "#         .appName(\"BDA Project - Local\") \\\n",
    "#         .getOrCreate()\n",
    "\n",
    "#     df = spark.read.parquet(path)\n",
    "#     return df\n",
    "\n",
    "# # Caminho local para testes\n",
    "# path = r\"C:\\\\Rafael_Bernardo\\\\Mestrado_Data_Science_AA_DS\\\\2_Semestre\\\\Big_Data_Analitycs\\\\BDA_PROJECT\\\\TOMAS\\\\projeto_principal\\\\full_dataset_after_cleaning.parquet\"\n",
    "# df = load_parquet_local(path)\n",
    "# df.show(5)\n"
   ]
  },
  {
   "cell_type": "code",
   "execution_count": null,
   "id": "c21512d4",
   "metadata": {},
   "outputs": [],
   "source": [
    "\n",
    "# Caminho da pasta com os ficheiros\n",
    "folder_path = r\"C:\\\\Rafael_Bernardo\\\\Mestrado_Data_Science_AA_DS\\\\2_Semestre\\\\Big_Data_Analitycs\\\\BDA_PROJECT\\\\TOMAS\\\\projeto_principal\"\n",
    "\n",
    "# Lista de ficheiros .parquet\n",
    "file_paths = [\n",
    "    os.path.join(folder_path, f)\n",
    "    for f in os.listdir(folder_path)\n",
    "    if f.endswith(\".parquet\")\n",
    "]\n",
    "\n",
    "# Lê e junta tudo num único DataFrame\n",
    "df_list = [pd.read_parquet(p) for p in file_paths]\n",
    "full_df = pd.concat(df_list, ignore_index=True)\n",
    "\n"
   ]
  }
 ],
 "metadata": {
  "kernelspec": {
   "display_name": "BDA2425",
   "language": "python",
   "name": "python3"
  },
  "language_info": {
   "codemirror_mode": {
    "name": "ipython",
    "version": 3
   },
   "file_extension": ".py",
   "mimetype": "text/x-python",
   "name": "python",
   "nbconvert_exporter": "python",
   "pygments_lexer": "ipython3",
   "version": "3.8.20"
  }
 },
 "nbformat": 4,
 "nbformat_minor": 5
}
