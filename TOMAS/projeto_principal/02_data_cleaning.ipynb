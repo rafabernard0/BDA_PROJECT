{
 "cells": [
  {
   "cell_type": "code",
   "execution_count": 119,
   "id": "784a0503-151f-4852-b0b1-621c98f3860e",
   "metadata": {},
   "outputs": [],
   "source": [
    "import os\n",
    "import pyspark\n",
    "from pyspark.sql import SparkSession\n",
    "import findspark\n",
    "from functools import reduce\n",
    "from pyspark.sql import DataFrame\n",
    "import pyspark.sql.functions as F\n",
    "from pyspark.sql.functions import col, when, unix_timestamp, dayofweek, udf, hour, minute, unix_timestamp, concat_ws\n",
    "from IPython.display import Image, display\n",
    "import matplotlib.pyplot as plt\n",
    "import pandas as pd\n",
    "from pyspark.sql.types import IntegerType\n",
    "import holidays"
   ]
  },
  {
   "cell_type": "markdown",
   "id": "ad09f8cf-329b-478a-bf9f-51a4f6b829ff",
   "metadata": {},
   "source": [
    "01_data_cleaning.ipynb\t\n",
    "- Correct invalid data\n",
    "- Create new simple features (e.g. trip_duration)\n",
    "- Save clean dataset for next step"
   ]
  },
  {
   "cell_type": "code",
   "execution_count": 140,
   "id": "115892f5-7cc2-49f8-8044-8713cd7b44bb",
   "metadata": {},
   "outputs": [
    {
     "name": "stderr",
     "output_type": "stream",
     "text": [
      "25/04/26 01:00:04 WARN SparkSession: Using an existing Spark session; only runtime SQL configurations will take effect.\n"
     ]
    }
   ],
   "source": [
    "spark = SparkSession.builder \\\n",
    "    .appName(\"NYC Taxi 2024 Cleaning\") \\\n",
    "    .config(\"spark.driver.memory\", \"8g\") \\\n",
    "    .getOrCreate()"
   ]
  },
  {
   "cell_type": "code",
   "execution_count": 5,
   "id": "ff6b7b83-e6b0-4ee6-953c-942ed51346e7",
   "metadata": {},
   "outputs": [
    {
     "name": "stderr",
     "output_type": "stream",
     "text": [
      "                                                                                \r"
     ]
    },
    {
     "name": "stdout",
     "output_type": "stream",
     "text": [
      "root\n",
      " |-- VendorID: integer (nullable = true)\n",
      " |-- tpep_pickup_datetime: timestamp_ntz (nullable = true)\n",
      " |-- tpep_dropoff_datetime: timestamp_ntz (nullable = true)\n",
      " |-- passenger_count: long (nullable = true)\n",
      " |-- trip_distance: double (nullable = true)\n",
      " |-- RatecodeID: long (nullable = true)\n",
      " |-- store_and_fwd_flag: string (nullable = true)\n",
      " |-- PULocationID: integer (nullable = true)\n",
      " |-- DOLocationID: integer (nullable = true)\n",
      " |-- payment_type: long (nullable = true)\n",
      " |-- fare_amount: double (nullable = true)\n",
      " |-- extra: double (nullable = true)\n",
      " |-- mta_tax: double (nullable = true)\n",
      " |-- tip_amount: double (nullable = true)\n",
      " |-- tolls_amount: double (nullable = true)\n",
      " |-- improvement_surcharge: double (nullable = true)\n",
      " |-- total_amount: double (nullable = true)\n",
      " |-- congestion_surcharge: double (nullable = true)\n",
      " |-- Airport_fee: double (nullable = true)\n",
      " |-- month: integer (nullable = true)\n",
      "\n"
     ]
    }
   ],
   "source": [
    "# Load the dataset saved after EDA\n",
    "df = spark.read.parquet(\"full_dataset_after_eda.parquet\")\n",
    "\n",
    "# Quick check\n",
    "df.printSchema()\n"
   ]
  },
  {
   "cell_type": "markdown",
   "id": "3623d4fc-9e73-4fa6-b3bd-fd46273340d3",
   "metadata": {},
   "source": [
    "# Correct invalid data and Transform some classes"
   ]
  },
  {
   "cell_type": "markdown",
   "id": "443cf4be-bc02-4ee1-83af-9abba72e4cc7",
   "metadata": {},
   "source": [
    "## vendor Id"
   ]
  },
  {
   "cell_type": "code",
   "execution_count": 8,
   "id": "c4dc4f55-08b0-4087-9ddd-456e034eb24f",
   "metadata": {},
   "outputs": [],
   "source": [
    "df = df.withColumn(\"VendorID\", col(\"VendorID\").cast(\"string\"))"
   ]
  },
  {
   "cell_type": "code",
   "execution_count": 9,
   "id": "d062397d-4ef5-4521-91c1-705ba958dff5",
   "metadata": {},
   "outputs": [],
   "source": [
    "df = df.withColumn(\n",
    "    \"VendorID\",\n",
    "    when(col(\"VendorID\").isin(\"6\", \"7\"), \"Other\").otherwise(col(\"VendorID\"))\n",
    ")"
   ]
  },
  {
   "cell_type": "markdown",
   "id": "54203afa-c099-4f9f-afe3-8e2e7f6d98e4",
   "metadata": {},
   "source": [
    "# tpep_pickup_datetime and tpep_dropoff_datetime"
   ]
  },
  {
   "cell_type": "code",
   "execution_count": 11,
   "id": "2c4190c3-4f9f-43ea-a5c1-ce670ba33892",
   "metadata": {},
   "outputs": [],
   "source": [
    "# Remove rows where dropoff is earlier than or equal to pickup\n",
    "df = df.filter(col(\"tpep_dropoff_datetime\") > col(\"tpep_pickup_datetime\"))"
   ]
  },
  {
   "cell_type": "markdown",
   "id": "2a57a832-4955-4267-af7c-ebda078ab24f",
   "metadata": {},
   "source": [
    "# passenger_count"
   ]
  },
  {
   "cell_type": "code",
   "execution_count": 13,
   "id": "3f30de07-ef6a-4e1a-bc84-8da6675ab740",
   "metadata": {},
   "outputs": [],
   "source": [
    "# Remove rows with 0 passengers\n",
    "df = df.filter(col(\"passenger_count\") > 0)"
   ]
  },
  {
   "cell_type": "code",
   "execution_count": 14,
   "id": "67bc19be-c1df-41e0-8ce1-628793b8d9d8",
   "metadata": {},
   "outputs": [],
   "source": [
    "df = df.withColumn(\"passenger_count\", col(\"passenger_count\").cast(\"string\"))"
   ]
  },
  {
   "cell_type": "code",
   "execution_count": 15,
   "id": "b9e14fa3-eb6f-49de-91ff-826bba5bc7bc",
   "metadata": {},
   "outputs": [],
   "source": [
    "df = df.withColumn(\n",
    "    \"passenger_count\",\n",
    "    when(col(\"passenger_count\").isin(\"5\",\"6\", \"7\"), \"BIG GROUP\").otherwise(col(\"passenger_count\"))\n",
    ")"
   ]
  },
  {
   "cell_type": "markdown",
   "id": "443bf06d-4c92-46f5-954b-876220c1c355",
   "metadata": {},
   "source": [
    "# trip_distance"
   ]
  },
  {
   "cell_type": "code",
   "execution_count": 17,
   "id": "778a3917-393e-4397-b1c0-98b793c7a591",
   "metadata": {},
   "outputs": [],
   "source": [
    "# Remove rows where trip_distance is 0 or negative\n",
    "df = df.filter(col(\"trip_distance\") > 0)"
   ]
  },
  {
   "cell_type": "code",
   "execution_count": 18,
   "id": "a331d433-bd8f-4c44-b673-614584c19068",
   "metadata": {},
   "outputs": [],
   "source": [
    "# Cap to 100 miles (optional)\n",
    "df = df.filter(col(\"trip_distance\") <= 100)"
   ]
  },
  {
   "cell_type": "markdown",
   "id": "00919eef-6755-4274-a194-1f56a37f6633",
   "metadata": {},
   "source": [
    "# store_and_fwd_flag"
   ]
  },
  {
   "cell_type": "code",
   "execution_count": 20,
   "id": "7e9f6f2a-f2f4-4267-86b4-0c4dfde1b5ee",
   "metadata": {},
   "outputs": [],
   "source": [
    "df = df.drop(\"store_and_fwd_flag\")\n"
   ]
  },
  {
   "cell_type": "markdown",
   "id": "07d9e9c3-c4a7-4baa-8320-d90bbdafa884",
   "metadata": {},
   "source": [
    "# PULocationID and DOLocationID"
   ]
  },
  {
   "cell_type": "code",
   "execution_count": 22,
   "id": "e6a10408-e361-4286-8c72-9c79e8f5afce",
   "metadata": {},
   "outputs": [],
   "source": [
    "df = df.withColumn(\"PULocationID\", col(\"PULocationID\").cast(\"string\")) \\\n",
    "       .withColumn(\"DOLocationID\", col(\"DOLocationID\").cast(\"string\"))"
   ]
  },
  {
   "cell_type": "code",
   "execution_count": 30,
   "id": "12a6f81a-399d-48d8-b2fd-91c0f6c71910",
   "metadata": {},
   "outputs": [],
   "source": [
    "# Count frequencies\n",
    "pu_counts = df.groupBy(\"PULocationID\").count().filter(\"count >= 1000\")\n",
    "do_counts = df.groupBy(\"DOLocationID\").count().filter(\"count >= 1000\")"
   ]
  },
  {
   "cell_type": "code",
   "execution_count": 32,
   "id": "ca13fcc0-b62e-4db2-bf57-75fa224c1264",
   "metadata": {},
   "outputs": [
    {
     "name": "stderr",
     "output_type": "stream",
     "text": [
      "                                                                                \r"
     ]
    }
   ],
   "source": [
    "# First get popular PUs\n",
    "popular_pu = pu_counts.select(\"PULocationID\").rdd.flatMap(lambda x: x).collect()\n",
    "popular_do = do_counts.select(\"DOLocationID\").rdd.flatMap(lambda x: x).collect()\n",
    "\n",
    "# Replace rare values\n",
    "df = df.withColumn(\"PULocationID\", when(col(\"PULocationID\").isin(popular_pu), col(\"PULocationID\")).otherwise(\"other\"))\n",
    "df = df.withColumn(\"DOLocationID\", when(col(\"DOLocationID\").isin(popular_do), col(\"DOLocationID\")).otherwise(\"other\"))"
   ]
  },
  {
   "cell_type": "markdown",
   "id": "f506fdfd-583a-4872-8a0f-b559033ef2d2",
   "metadata": {},
   "source": [
    "# payment_type"
   ]
  },
  {
   "cell_type": "code",
   "execution_count": 35,
   "id": "57605d8b-c3a1-469a-bd26-ca3e412a5311",
   "metadata": {},
   "outputs": [],
   "source": [
    "df = df.withColumn(\"payment_type\", col(\"payment_type\").cast(\"string\"))"
   ]
  },
  {
   "cell_type": "code",
   "execution_count": 37,
   "id": "b264acfb-d9b1-41fd-848c-501223c35228",
   "metadata": {},
   "outputs": [],
   "source": [
    "# Remove rows where payment_type == 5\n",
    "df = df.filter(col(\"payment_type\") != \"5\")"
   ]
  },
  {
   "cell_type": "markdown",
   "id": "e6038379-bdfc-4ecf-a2d5-081e64f2faa4",
   "metadata": {},
   "source": [
    "# fare_amount"
   ]
  },
  {
   "cell_type": "code",
   "execution_count": 40,
   "id": "16e00796-863b-4b46-81bc-a1efb32d1169",
   "metadata": {},
   "outputs": [],
   "source": [
    "# Remove rows where fare_amount is 0 or negative\n",
    "df = df.filter(col(\"fare_amount\") > 0)"
   ]
  },
  {
   "cell_type": "code",
   "execution_count": 42,
   "id": "cba48214-2932-4724-94bb-3225a75e9b5e",
   "metadata": {},
   "outputs": [],
   "source": [
    "# Cap to 100 miles (optional)\n",
    "df = df.filter(col(\"fare_amount\") <= 200)"
   ]
  },
  {
   "cell_type": "markdown",
   "id": "c1492af5-712e-4b85-bdfb-92577c58e88f",
   "metadata": {},
   "source": [
    "# extra"
   ]
  },
  {
   "cell_type": "code",
   "execution_count": 45,
   "id": "29fbd92a-4c10-4bd5-8455-4ed53428d4bd",
   "metadata": {},
   "outputs": [],
   "source": [
    "# Remove rows where extra is 0 or negative\n",
    "df = df.filter(col(\"extra\") > 0)"
   ]
  },
  {
   "cell_type": "markdown",
   "id": "a374b43d-eae1-4ebe-80d1-7b6fdab3ff20",
   "metadata": {},
   "source": [
    "# mta_tax"
   ]
  },
  {
   "cell_type": "code",
   "execution_count": 48,
   "id": "968bd4cc-8aa9-439a-9610-4492f82586b9",
   "metadata": {},
   "outputs": [],
   "source": [
    "df = df.filter((col(\"mta_tax\") >= 0) & (col(\"mta_tax\") <= 0.5))"
   ]
  },
  {
   "cell_type": "markdown",
   "id": "ac41f471-76d4-4d3b-aa1e-2b329a0e8954",
   "metadata": {},
   "source": [
    "# tip_amount"
   ]
  },
  {
   "cell_type": "code",
   "execution_count": 51,
   "id": "227feb97-a2c2-4351-b715-4794ba86be28",
   "metadata": {},
   "outputs": [],
   "source": [
    "# Remove rows where trip_distance is 0 or negative\n",
    "df = df.filter(col(\"tip_amount\") >= 0)"
   ]
  },
  {
   "cell_type": "code",
   "execution_count": 53,
   "id": "b9a9e5a6-6827-4b24-83b7-2ce97431c178",
   "metadata": {},
   "outputs": [],
   "source": [
    "# Cap to 100 miles (optional)\n",
    "df = df.filter(col(\"tip_amount\") <= 200)"
   ]
  },
  {
   "cell_type": "markdown",
   "id": "5abc8ec0-f0f1-4027-aeb7-9d84a8609723",
   "metadata": {},
   "source": [
    "# tolls_amount"
   ]
  },
  {
   "cell_type": "code",
   "execution_count": 56,
   "id": "3eeeb48b-a617-4705-b33e-f5f8ffdb13a2",
   "metadata": {},
   "outputs": [],
   "source": [
    "df = df.filter((col(\"tolls_amount\") >= 0) & (col(\"tolls_amount\") <= 30))"
   ]
  },
  {
   "cell_type": "markdown",
   "id": "be73ba99-ea93-4763-a48e-b4ad7acac95f",
   "metadata": {},
   "source": [
    "# improvement_surcharge"
   ]
  },
  {
   "cell_type": "code",
   "execution_count": 59,
   "id": "3788916c-bc97-4092-a8cb-97133fd6e0a8",
   "metadata": {},
   "outputs": [],
   "source": [
    "df = df.filter(col(\"improvement_surcharge\").isin(0.3, 1.0))"
   ]
  },
  {
   "cell_type": "markdown",
   "id": "35caa434-3265-44fd-b76b-39b78576676c",
   "metadata": {},
   "source": [
    "# total_amount"
   ]
  },
  {
   "cell_type": "code",
   "execution_count": 62,
   "id": "e7bd7bb4-85f8-4178-8349-c2ea627307bf",
   "metadata": {},
   "outputs": [],
   "source": [
    "df = df.filter((col(\"total_amount\") >= 0) & (col(\"total_amount\") <= 200))"
   ]
  },
  {
   "cell_type": "markdown",
   "id": "a5be980a-03d2-4dfe-bffa-cf6ca73ad0c3",
   "metadata": {},
   "source": [
    "# congestion_surcharge"
   ]
  },
  {
   "cell_type": "code",
   "execution_count": 65,
   "id": "017efbca-cf3a-4041-b0ab-64f876529862",
   "metadata": {},
   "outputs": [],
   "source": [
    "# Remove rows where trip_distance is 0 or negative\n",
    "df = df.filter(col(\"congestion_surcharge\") >= 0)"
   ]
  },
  {
   "cell_type": "markdown",
   "id": "07fb375b-640d-410f-b533-4de649d0e1ab",
   "metadata": {},
   "source": [
    "# Airport_fee"
   ]
  },
  {
   "cell_type": "code",
   "execution_count": 75,
   "id": "a269724b-8e3a-40c7-9fde-393828b4748d",
   "metadata": {},
   "outputs": [],
   "source": [
    "df = df.withColumn(\n",
    "    \"Airport_fee\",\n",
    "    when(col(\"Airport_fee\").isNull(), 0.0).otherwise(col(\"Airport_fee\"))\n",
    ")"
   ]
  },
  {
   "cell_type": "code",
   "execution_count": 77,
   "id": "d681f528-ed1f-405f-849a-393670a83023",
   "metadata": {},
   "outputs": [],
   "source": [
    "df = df.filter(col(\"Airport_fee\").isin(0.0, 1.75))"
   ]
  },
  {
   "cell_type": "code",
   "execution_count": 132,
   "id": "241a8d48-603a-4d13-be40-07b7ed906331",
   "metadata": {},
   "outputs": [],
   "source": [
    "df = df.withColumn(\n",
    "    \"Airport_fee\",\n",
    "    when(col(\"Airport_fee\") == 1.75, 1).otherwise(0)\n",
    ")"
   ]
  },
  {
   "cell_type": "markdown",
   "id": "16ef449c-4dbf-49bb-bdb7-bf62f381793e",
   "metadata": {},
   "source": [
    "# Create new features"
   ]
  },
  {
   "cell_type": "markdown",
   "id": "1c5c225c-3ea6-4c9e-a704-965d2a93b431",
   "metadata": {},
   "source": [
    "# tpep_pickup_datetime and tpep_dropoff_datetime"
   ]
  },
  {
   "cell_type": "markdown",
   "id": "7268abeb-889d-4ebf-b6c2-2efcf511906f",
   "metadata": {},
   "source": [
    "| New Feature             | Purpose                                   |\n",
    "|:-------------------------|:-----------------------------------------|\n",
    "| `is_weekend`             | Captures weekend behavior                |\n",
    "| `is_holiday`             | Captures holiday behavior (different patterns) |\n",
    "| `pickup_hour_decimal`    | Time of day with high precision          |\n",
    "| `trip_duration_minutes`  | Total time of the trip in minutes        |\n",
    "| `trip_speed_mph`  | Average speed       |"
   ]
  },
  {
   "cell_type": "code",
   "execution_count": 88,
   "id": "891054be-ca96-4a29-918e-ea2e3c245ab5",
   "metadata": {},
   "outputs": [],
   "source": [
    "# In Spark, dayofweek() returns 1 = Sunday, 7 = Saturday\n",
    "df = df.withColumn(\n",
    "    \"is_weekend\",\n",
    "    when(dayofweek(\"tpep_pickup_datetime\").isin(1, 7), 1).otherwise(0)\n",
    ")"
   ]
  },
  {
   "cell_type": "code",
   "execution_count": 86,
   "id": "a3f443de-6aaa-4c23-8d2d-e25c736b6097",
   "metadata": {},
   "outputs": [],
   "source": [
    "# List of US holidays (for 2024)\n",
    "us_holidays = holidays.US(years=[2024])\n",
    "\n",
    "# UDF to check if pickup date is a holiday\n",
    "def is_holiday(date):\n",
    "    if date is None:\n",
    "        return 0\n",
    "    return 1 if date.date() in us_holidays else 0\n",
    "\n",
    "is_holiday_udf = udf(is_holiday, IntegerType())\n",
    "\n",
    "# Apply it\n",
    "df = df.withColumn(\"is_holiday\", is_holiday_udf(\"tpep_pickup_datetime\"))"
   ]
  },
  {
   "cell_type": "code",
   "execution_count": 90,
   "id": "704c85a8-c9a0-4654-a56d-fbf426ae17c2",
   "metadata": {},
   "outputs": [],
   "source": [
    "df = df.withColumn(\n",
    "    \"pickup_hour_decimal\",\n",
    "    hour(\"tpep_pickup_datetime\") + (minute(\"tpep_pickup_datetime\") / 60)\n",
    ")"
   ]
  },
  {
   "cell_type": "code",
   "execution_count": 94,
   "id": "d584f0d4-9bf7-4f3f-b11c-bd02ec8997c9",
   "metadata": {},
   "outputs": [],
   "source": [
    "df = df.withColumn(\n",
    "    \"trip_duration_minutes\",\n",
    "    (unix_timestamp(\"tpep_dropoff_datetime\") - unix_timestamp(\"tpep_pickup_datetime\")) / 60\n",
    ")\n"
   ]
  },
  {
   "cell_type": "code",
   "execution_count": 104,
   "id": "acb892cc-9f3c-45d6-9bd2-200d7fffb6c9",
   "metadata": {},
   "outputs": [],
   "source": [
    "df = df.withColumn(\n",
    "    \"trip_speed_mph\",\n",
    "    col(\"trip_distance\") / (col(\"trip_duration_minutes\") / 60)\n",
    ")"
   ]
  },
  {
   "cell_type": "markdown",
   "id": "4f56495a-dc81-42a7-93e0-351fb3440374",
   "metadata": {},
   "source": [
    "# passenger_count"
   ]
  },
  {
   "cell_type": "markdown",
   "id": "83af141d-42d4-43ea-a636-5c3ada61b957",
   "metadata": {},
   "source": [
    "| New Feature        | Purpose                                    |\n",
    "|:--------------------|:-------------------------------------------|\n",
    "| `is_shared_ride`    | Flag indicating if more than 1 passenger was on the ride |"
   ]
  },
  {
   "cell_type": "code",
   "execution_count": 109,
   "id": "6316a83c-af66-40aa-b78a-294fbdda5aa5",
   "metadata": {},
   "outputs": [],
   "source": [
    "df = df.withColumn(\n",
    "    \"is_shared_ride\",\n",
    "    when(col(\"passenger_count\") > 1, 1).otherwise(0)\n",
    ")"
   ]
  },
  {
   "cell_type": "markdown",
   "id": "9bf771ca-881b-4c90-8f4c-df649e830e15",
   "metadata": {},
   "source": [
    "# tolls_amount"
   ]
  },
  {
   "cell_type": "markdown",
   "id": "42204771-960c-43cc-925e-6c878abdfceb",
   "metadata": {},
   "source": [
    "| New Feature        | Purpose                                    |\n",
    "|:--------------------|:-------------------------------------------|\n",
    "| `has_toll`          | Flag indicating if a toll was paid during the trip |"
   ]
  },
  {
   "cell_type": "code",
   "execution_count": 112,
   "id": "dd252cab-9b4f-44a9-b474-cb25c893dff0",
   "metadata": {},
   "outputs": [],
   "source": [
    "df = df.withColumn(\n",
    "    \"has_toll\",\n",
    "    when(col(\"tolls_amount\") > 0, 1).otherwise(0)\n",
    ")"
   ]
  },
  {
   "cell_type": "markdown",
   "id": "8a15a320-3fcd-409c-a821-d704eb25dcd2",
   "metadata": {},
   "source": [
    "## PULocationID"
   ]
  },
  {
   "cell_type": "markdown",
   "id": "333342a3-6c91-425e-9961-8ef2d5e42777",
   "metadata": {},
   "source": [
    "| New Feature    | Purpose                                        |\n",
    "|:---------------|:------------------------------------------------|\n",
    "| `PU_DO_pair`   | Combines pickup and dropoff location IDs to capture trip origin-destination patterns |"
   ]
  },
  {
   "cell_type": "code",
   "execution_count": 121,
   "id": "9e5be5ee-a3b2-45b1-ab2d-ab0a016c782c",
   "metadata": {},
   "outputs": [],
   "source": [
    "# Combine pickup and dropoff location IDs\n",
    "df = df.withColumn(\n",
    "    \"PU_DO_pair\",\n",
    "    concat_ws(\"-\", col(\"PULocationID\"), col(\"DOLocationID\"))\n",
    ")"
   ]
  },
  {
   "cell_type": "markdown",
   "id": "78077891-7096-4719-908c-28bc8ac4f8f9",
   "metadata": {},
   "source": [
    "## congestion_surcharge"
   ]
  },
  {
   "cell_type": "markdown",
   "id": "8331fefc-4a58-4296-8370-24069e7299f6",
   "metadata": {},
   "source": [
    "| New Feature            | Purpose                                               |\n",
    "|:------------------------|:------------------------------------------------------|\n",
    "| `has_congestion_fee`     | Flags trips that were charged a congestion surcharge, indicating high-traffic areas or times |"
   ]
  },
  {
   "cell_type": "code",
   "execution_count": 130,
   "id": "21c22183-2033-4018-92a2-071bf23b23d9",
   "metadata": {},
   "outputs": [],
   "source": [
    "df = df.withColumn(\n",
    "    \"has_congestion_fee\",\n",
    "    when(col(\"congestion_surcharge\") > 0, 1).otherwise(0)\n",
    ")"
   ]
  },
  {
   "cell_type": "code",
   "execution_count": null,
   "id": "a59c0c16-05ae-43fa-a6e9-61890df41d9f",
   "metadata": {},
   "outputs": [],
   "source": []
  },
  {
   "cell_type": "code",
   "execution_count": 144,
   "id": "7d4cb3e1-3f5b-4bbe-ae84-4c543d271f01",
   "metadata": {
    "scrolled": true
   },
   "outputs": [
    {
     "name": "stderr",
     "output_type": "stream",
     "text": [
      "25/04/26 01:03:51 WARN MemoryManager: Total allocation exceeds 95,00% (1 020 054 720 bytes) of heap memory\n",
      "Scaling row group sizes to 95,00% for 8 writers\n",
      "25/04/26 01:03:51 WARN MemoryManager: Total allocation exceeds 95,00% (1 020 054 720 bytes) of heap memory\n",
      "Scaling row group sizes to 95,00% for 8 writers\n",
      "25/04/26 01:03:51 WARN MemoryManager: Total allocation exceeds 95,00% (1 020 054 720 bytes) of heap memory\n",
      "Scaling row group sizes to 95,00% for 8 writers\n",
      "25/04/26 01:03:52 WARN MemoryManager: Total allocation exceeds 95,00% (1 020 054 720 bytes) of heap memory\n",
      "Scaling row group sizes to 95,00% for 8 writers\n",
      "25/04/26 01:03:52 WARN MemoryManager: Total allocation exceeds 95,00% (1 020 054 720 bytes) of heap memory\n",
      "Scaling row group sizes to 95,00% for 8 writers\n",
      "25/04/26 01:03:52 WARN MemoryManager: Total allocation exceeds 95,00% (1 020 054 720 bytes) of heap memory\n",
      "Scaling row group sizes to 95,00% for 8 writers\n",
      "25/04/26 01:03:52 WARN MemoryManager: Total allocation exceeds 95,00% (1 020 054 720 bytes) of heap memory\n",
      "Scaling row group sizes to 95,00% for 8 writers\n",
      "25/04/26 01:03:52 WARN MemoryManager: Total allocation exceeds 95,00% (1 020 054 720 bytes) of heap memory\n",
      "Scaling row group sizes to 95,00% for 8 writers\n",
      "25/04/26 01:03:52 WARN MemoryManager: Total allocation exceeds 95,00% (1 020 054 720 bytes) of heap memory\n",
      "Scaling row group sizes to 95,00% for 8 writers\n",
      "25/04/26 01:03:53 WARN MemoryManager: Total allocation exceeds 95,00% (1 020 054 720 bytes) of heap memory\n",
      "Scaling row group sizes to 95,00% for 8 writers\n",
      "25/04/26 01:03:53 WARN MemoryManager: Total allocation exceeds 95,00% (1 020 054 720 bytes) of heap memory\n",
      "Scaling row group sizes to 95,00% for 8 writers\n",
      "25/04/26 01:03:53 WARN MemoryManager: Total allocation exceeds 95,00% (1 020 054 720 bytes) of heap memory\n",
      "Scaling row group sizes to 95,00% for 8 writers\n",
      "25/04/26 01:03:53 WARN MemoryManager: Total allocation exceeds 95,00% (1 020 054 720 bytes) of heap memory\n",
      "Scaling row group sizes to 95,00% for 8 writers\n",
      "25/04/26 01:03:53 WARN MemoryManager: Total allocation exceeds 95,00% (1 020 054 720 bytes) of heap memory\n",
      "Scaling row group sizes to 95,00% for 8 writers\n",
      "25/04/26 01:03:53 WARN MemoryManager: Total allocation exceeds 95,00% (1 020 054 720 bytes) of heap memory\n",
      "Scaling row group sizes to 95,00% for 8 writers\n",
      "25/04/26 01:03:53 WARN MemoryManager: Total allocation exceeds 95,00% (1 020 054 720 bytes) of heap memory\n",
      "Scaling row group sizes to 95,00% for 8 writers\n",
      "25/04/26 01:03:53 WARN MemoryManager: Total allocation exceeds 95,00% (1 020 054 720 bytes) of heap memory\n",
      "Scaling row group sizes to 95,00% for 8 writers\n",
      "25/04/26 01:03:53 WARN MemoryManager: Total allocation exceeds 95,00% (1 020 054 720 bytes) of heap memory\n",
      "Scaling row group sizes to 95,00% for 8 writers\n",
      "25/04/26 01:03:53 WARN MemoryManager: Total allocation exceeds 95,00% (1 020 054 720 bytes) of heap memory\n",
      "Scaling row group sizes to 95,00% for 8 writers\n",
      "25/04/26 01:03:53 WARN MemoryManager: Total allocation exceeds 95,00% (1 020 054 720 bytes) of heap memory\n",
      "Scaling row group sizes to 95,00% for 8 writers\n",
      "25/04/26 01:03:53 WARN MemoryManager: Total allocation exceeds 95,00% (1 020 054 720 bytes) of heap memory\n",
      "Scaling row group sizes to 95,00% for 8 writers\n",
      "25/04/26 01:03:53 WARN MemoryManager: Total allocation exceeds 95,00% (1 020 054 720 bytes) of heap memory\n",
      "Scaling row group sizes to 95,00% for 8 writers\n",
      "25/04/26 01:03:53 WARN MemoryManager: Total allocation exceeds 95,00% (1 020 054 720 bytes) of heap memory\n",
      "Scaling row group sizes to 95,00% for 8 writers\n",
      "25/04/26 01:03:54 WARN MemoryManager: Total allocation exceeds 95,00% (1 020 054 720 bytes) of heap memory\n",
      "Scaling row group sizes to 95,00% for 8 writers\n",
      "25/04/26 01:03:54 WARN MemoryManager: Total allocation exceeds 95,00% (1 020 054 720 bytes) of heap memory\n",
      "Scaling row group sizes to 95,00% for 8 writers\n",
      "25/04/26 01:03:54 WARN MemoryManager: Total allocation exceeds 95,00% (1 020 054 720 bytes) of heap memory\n",
      "Scaling row group sizes to 95,00% for 8 writers\n",
      "25/04/26 01:03:54 WARN MemoryManager: Total allocation exceeds 95,00% (1 020 054 720 bytes) of heap memory\n",
      "Scaling row group sizes to 95,00% for 8 writers\n",
      "25/04/26 01:03:54 WARN MemoryManager: Total allocation exceeds 95,00% (1 020 054 720 bytes) of heap memory\n",
      "Scaling row group sizes to 95,00% for 8 writers\n",
      "25/04/26 01:03:54 WARN MemoryManager: Total allocation exceeds 95,00% (1 020 054 720 bytes) of heap memory\n",
      "Scaling row group sizes to 95,00% for 8 writers\n",
      "25/04/26 01:03:54 WARN MemoryManager: Total allocation exceeds 95,00% (1 020 054 720 bytes) of heap memory\n",
      "Scaling row group sizes to 95,00% for 8 writers\n",
      "25/04/26 01:03:54 WARN MemoryManager: Total allocation exceeds 95,00% (1 020 054 720 bytes) of heap memory\n",
      "Scaling row group sizes to 95,00% for 8 writers\n",
      "25/04/26 01:03:54 WARN MemoryManager: Total allocation exceeds 95,00% (1 020 054 720 bytes) of heap memory\n",
      "Scaling row group sizes to 95,00% for 8 writers\n",
      "25/04/26 01:03:54 WARN MemoryManager: Total allocation exceeds 95,00% (1 020 054 720 bytes) of heap memory\n",
      "Scaling row group sizes to 95,00% for 8 writers\n",
      "25/04/26 01:03:54 WARN MemoryManager: Total allocation exceeds 95,00% (1 020 054 720 bytes) of heap memory\n",
      "Scaling row group sizes to 95,00% for 8 writers\n",
      "25/04/26 01:03:54 WARN MemoryManager: Total allocation exceeds 95,00% (1 020 054 720 bytes) of heap memory\n",
      "Scaling row group sizes to 95,00% for 8 writers\n",
      "25/04/26 01:03:55 WARN MemoryManager: Total allocation exceeds 95,00% (1 020 054 720 bytes) of heap memory\n",
      "Scaling row group sizes to 95,00% for 8 writers\n",
      "25/04/26 01:03:55 WARN MemoryManager: Total allocation exceeds 95,00% (1 020 054 720 bytes) of heap memory\n",
      "Scaling row group sizes to 95,00% for 8 writers\n",
      "25/04/26 01:03:55 WARN MemoryManager: Total allocation exceeds 95,00% (1 020 054 720 bytes) of heap memory\n",
      "Scaling row group sizes to 95,00% for 8 writers\n",
      "25/04/26 01:03:55 WARN MemoryManager: Total allocation exceeds 95,00% (1 020 054 720 bytes) of heap memory\n",
      "Scaling row group sizes to 95,00% for 8 writers\n",
      "25/04/26 01:03:55 WARN MemoryManager: Total allocation exceeds 95,00% (1 020 054 720 bytes) of heap memory\n",
      "Scaling row group sizes to 95,00% for 8 writers\n",
      "25/04/26 01:03:55 WARN MemoryManager: Total allocation exceeds 95,00% (1 020 054 720 bytes) of heap memory\n",
      "Scaling row group sizes to 95,00% for 8 writers\n",
      "25/04/26 01:03:55 WARN MemoryManager: Total allocation exceeds 95,00% (1 020 054 720 bytes) of heap memory\n",
      "Scaling row group sizes to 95,00% for 8 writers\n",
      "25/04/26 01:03:55 WARN MemoryManager: Total allocation exceeds 95,00% (1 020 054 720 bytes) of heap memory\n",
      "Scaling row group sizes to 95,00% for 8 writers\n",
      "25/04/26 01:03:55 WARN MemoryManager: Total allocation exceeds 95,00% (1 020 054 720 bytes) of heap memory\n",
      "Scaling row group sizes to 95,00% for 8 writers\n",
      "25/04/26 01:03:55 WARN MemoryManager: Total allocation exceeds 95,00% (1 020 054 720 bytes) of heap memory\n",
      "Scaling row group sizes to 95,00% for 8 writers\n",
      "25/04/26 01:03:55 WARN MemoryManager: Total allocation exceeds 95,00% (1 020 054 720 bytes) of heap memory\n",
      "Scaling row group sizes to 95,00% for 8 writers\n",
      "25/04/26 01:03:55 WARN MemoryManager: Total allocation exceeds 95,00% (1 020 054 720 bytes) of heap memory\n",
      "Scaling row group sizes to 95,00% for 8 writers\n",
      "25/04/26 01:03:55 WARN MemoryManager: Total allocation exceeds 95,00% (1 020 054 720 bytes) of heap memory\n",
      "Scaling row group sizes to 95,00% for 8 writers\n",
      "25/04/26 01:03:55 WARN MemoryManager: Total allocation exceeds 95,00% (1 020 054 720 bytes) of heap memory\n",
      "Scaling row group sizes to 95,00% for 8 writers\n",
      "25/04/26 01:03:55 WARN MemoryManager: Total allocation exceeds 95,00% (1 020 054 720 bytes) of heap memory\n",
      "Scaling row group sizes to 95,00% for 8 writers\n",
      "25/04/26 01:03:56 WARN MemoryManager: Total allocation exceeds 95,00% (1 020 054 720 bytes) of heap memory\n",
      "Scaling row group sizes to 95,00% for 8 writers\n",
      "25/04/26 01:03:56 WARN MemoryManager: Total allocation exceeds 95,00% (1 020 054 720 bytes) of heap memory\n",
      "Scaling row group sizes to 95,00% for 8 writers\n",
      "25/04/26 01:03:56 WARN MemoryManager: Total allocation exceeds 95,00% (1 020 054 720 bytes) of heap memory\n",
      "Scaling row group sizes to 95,00% for 8 writers\n",
      "25/04/26 01:03:56 WARN MemoryManager: Total allocation exceeds 95,00% (1 020 054 720 bytes) of heap memory\n",
      "Scaling row group sizes to 95,00% for 8 writers\n",
      "25/04/26 01:03:56 WARN MemoryManager: Total allocation exceeds 95,00% (1 020 054 720 bytes) of heap memory\n",
      "Scaling row group sizes to 95,00% for 8 writers\n",
      "25/04/26 01:03:56 WARN MemoryManager: Total allocation exceeds 95,00% (1 020 054 720 bytes) of heap memory\n",
      "Scaling row group sizes to 95,00% for 8 writers\n",
      "25/04/26 01:03:56 WARN MemoryManager: Total allocation exceeds 95,00% (1 020 054 720 bytes) of heap memory\n",
      "Scaling row group sizes to 95,00% for 8 writers\n",
      "25/04/26 01:03:56 WARN MemoryManager: Total allocation exceeds 95,00% (1 020 054 720 bytes) of heap memory\n",
      "Scaling row group sizes to 95,00% for 8 writers\n",
      "25/04/26 01:03:56 WARN MemoryManager: Total allocation exceeds 95,00% (1 020 054 720 bytes) of heap memory\n",
      "Scaling row group sizes to 95,00% for 8 writers\n",
      "25/04/26 01:03:56 WARN MemoryManager: Total allocation exceeds 95,00% (1 020 054 720 bytes) of heap memory\n",
      "Scaling row group sizes to 95,00% for 8 writers\n",
      "25/04/26 01:03:56 WARN MemoryManager: Total allocation exceeds 95,00% (1 020 054 720 bytes) of heap memory\n",
      "Scaling row group sizes to 95,00% for 8 writers\n",
      "25/04/26 01:03:56 WARN MemoryManager: Total allocation exceeds 95,00% (1 020 054 720 bytes) of heap memory\n",
      "Scaling row group sizes to 95,00% for 8 writers\n",
      "25/04/26 01:03:57 WARN MemoryManager: Total allocation exceeds 95,00% (1 020 054 720 bytes) of heap memory\n",
      "Scaling row group sizes to 95,00% for 8 writers\n",
      "25/04/26 01:03:57 WARN MemoryManager: Total allocation exceeds 95,00% (1 020 054 720 bytes) of heap memory\n",
      "Scaling row group sizes to 95,00% for 8 writers\n",
      "25/04/26 01:03:57 WARN MemoryManager: Total allocation exceeds 95,00% (1 020 054 720 bytes) of heap memory\n",
      "Scaling row group sizes to 95,00% for 8 writers\n",
      "25/04/26 01:03:57 WARN MemoryManager: Total allocation exceeds 95,00% (1 020 054 720 bytes) of heap memory\n",
      "Scaling row group sizes to 95,00% for 8 writers\n",
      "25/04/26 01:03:57 WARN MemoryManager: Total allocation exceeds 95,00% (1 020 054 720 bytes) of heap memory\n",
      "Scaling row group sizes to 95,00% for 8 writers\n",
      "25/04/26 01:03:57 WARN MemoryManager: Total allocation exceeds 95,00% (1 020 054 720 bytes) of heap memory\n",
      "Scaling row group sizes to 95,00% for 8 writers\n",
      "25/04/26 01:03:57 WARN MemoryManager: Total allocation exceeds 95,00% (1 020 054 720 bytes) of heap memory\n",
      "Scaling row group sizes to 95,00% for 8 writers\n",
      "25/04/26 01:03:57 WARN MemoryManager: Total allocation exceeds 95,00% (1 020 054 720 bytes) of heap memory\n",
      "Scaling row group sizes to 95,00% for 8 writers\n",
      "25/04/26 01:03:57 WARN MemoryManager: Total allocation exceeds 95,00% (1 020 054 720 bytes) of heap memory\n",
      "Scaling row group sizes to 95,00% for 8 writers\n",
      "25/04/26 01:03:57 WARN MemoryManager: Total allocation exceeds 95,00% (1 020 054 720 bytes) of heap memory\n",
      "Scaling row group sizes to 95,00% for 8 writers\n",
      "25/04/26 01:03:57 WARN MemoryManager: Total allocation exceeds 95,00% (1 020 054 720 bytes) of heap memory\n",
      "Scaling row group sizes to 95,00% for 8 writers\n",
      "25/04/26 01:03:57 WARN MemoryManager: Total allocation exceeds 95,00% (1 020 054 720 bytes) of heap memory\n",
      "Scaling row group sizes to 95,00% for 8 writers\n",
      "25/04/26 01:03:57 WARN MemoryManager: Total allocation exceeds 95,00% (1 020 054 720 bytes) of heap memory\n",
      "Scaling row group sizes to 95,00% for 8 writers\n",
      "25/04/26 01:03:57 WARN MemoryManager: Total allocation exceeds 95,00% (1 020 054 720 bytes) of heap memory\n",
      "Scaling row group sizes to 95,00% for 8 writers\n",
      "25/04/26 01:03:57 WARN MemoryManager: Total allocation exceeds 95,00% (1 020 054 720 bytes) of heap memory\n",
      "Scaling row group sizes to 95,00% for 8 writers\n",
      "25/04/26 01:03:58 WARN MemoryManager: Total allocation exceeds 95,00% (1 020 054 720 bytes) of heap memory\n",
      "Scaling row group sizes to 95,00% for 8 writers\n",
      "25/04/26 01:03:58 WARN MemoryManager: Total allocation exceeds 95,00% (1 020 054 720 bytes) of heap memory\n",
      "Scaling row group sizes to 95,00% for 8 writers\n",
      "25/04/26 01:03:58 WARN MemoryManager: Total allocation exceeds 95,00% (1 020 054 720 bytes) of heap memory\n",
      "Scaling row group sizes to 95,00% for 8 writers\n",
      "25/04/26 01:03:58 WARN MemoryManager: Total allocation exceeds 95,00% (1 020 054 720 bytes) of heap memory\n",
      "Scaling row group sizes to 95,00% for 8 writers\n",
      "25/04/26 01:03:58 WARN MemoryManager: Total allocation exceeds 95,00% (1 020 054 720 bytes) of heap memory\n",
      "Scaling row group sizes to 95,00% for 8 writers\n",
      "25/04/26 01:03:58 WARN MemoryManager: Total allocation exceeds 95,00% (1 020 054 720 bytes) of heap memory\n",
      "Scaling row group sizes to 95,00% for 8 writers\n",
      "25/04/26 01:03:58 WARN MemoryManager: Total allocation exceeds 95,00% (1 020 054 720 bytes) of heap memory\n",
      "Scaling row group sizes to 95,00% for 8 writers\n",
      "25/04/26 01:03:58 WARN MemoryManager: Total allocation exceeds 95,00% (1 020 054 720 bytes) of heap memory\n",
      "Scaling row group sizes to 95,00% for 8 writers\n",
      "25/04/26 01:03:58 WARN MemoryManager: Total allocation exceeds 95,00% (1 020 054 720 bytes) of heap memory\n",
      "Scaling row group sizes to 95,00% for 8 writers\n",
      "25/04/26 01:03:58 WARN MemoryManager: Total allocation exceeds 95,00% (1 020 054 720 bytes) of heap memory\n",
      "Scaling row group sizes to 95,00% for 8 writers\n",
      "25/04/26 01:03:58 WARN MemoryManager: Total allocation exceeds 95,00% (1 020 054 720 bytes) of heap memory\n",
      "Scaling row group sizes to 95,00% for 8 writers\n",
      "25/04/26 01:03:58 WARN MemoryManager: Total allocation exceeds 95,00% (1 020 054 720 bytes) of heap memory\n",
      "Scaling row group sizes to 95,00% for 8 writers\n",
      "25/04/26 01:03:59 WARN MemoryManager: Total allocation exceeds 95,00% (1 020 054 720 bytes) of heap memory\n",
      "Scaling row group sizes to 95,00% for 8 writers\n",
      "25/04/26 01:03:59 WARN MemoryManager: Total allocation exceeds 95,00% (1 020 054 720 bytes) of heap memory\n",
      "Scaling row group sizes to 95,00% for 8 writers\n",
      "25/04/26 01:03:59 WARN MemoryManager: Total allocation exceeds 95,00% (1 020 054 720 bytes) of heap memory\n",
      "Scaling row group sizes to 95,00% for 8 writers\n",
      "25/04/26 01:03:59 WARN MemoryManager: Total allocation exceeds 95,00% (1 020 054 720 bytes) of heap memory\n",
      "Scaling row group sizes to 95,00% for 8 writers\n",
      "25/04/26 01:03:59 WARN MemoryManager: Total allocation exceeds 95,00% (1 020 054 720 bytes) of heap memory\n",
      "Scaling row group sizes to 95,00% for 8 writers\n",
      "25/04/26 01:03:59 WARN MemoryManager: Total allocation exceeds 95,00% (1 020 054 720 bytes) of heap memory\n",
      "Scaling row group sizes to 95,00% for 8 writers\n",
      "25/04/26 01:03:59 WARN MemoryManager: Total allocation exceeds 95,00% (1 020 054 720 bytes) of heap memory\n",
      "Scaling row group sizes to 95,00% for 8 writers\n",
      "25/04/26 01:03:59 WARN MemoryManager: Total allocation exceeds 95,00% (1 020 054 720 bytes) of heap memory\n",
      "Scaling row group sizes to 95,00% for 8 writers\n",
      "25/04/26 01:03:59 WARN MemoryManager: Total allocation exceeds 95,00% (1 020 054 720 bytes) of heap memory\n",
      "Scaling row group sizes to 95,00% for 8 writers\n",
      "25/04/26 01:03:59 WARN MemoryManager: Total allocation exceeds 95,00% (1 020 054 720 bytes) of heap memory\n",
      "Scaling row group sizes to 95,00% for 8 writers\n",
      "25/04/26 01:03:59 WARN MemoryManager: Total allocation exceeds 95,00% (1 020 054 720 bytes) of heap memory\n",
      "Scaling row group sizes to 95,00% for 8 writers\n",
      "25/04/26 01:03:59 WARN MemoryManager: Total allocation exceeds 95,00% (1 020 054 720 bytes) of heap memory\n",
      "Scaling row group sizes to 95,00% for 8 writers\n",
      "25/04/26 01:03:59 WARN MemoryManager: Total allocation exceeds 95,00% (1 020 054 720 bytes) of heap memory\n",
      "Scaling row group sizes to 95,00% for 8 writers\n",
      "25/04/26 01:03:59 WARN MemoryManager: Total allocation exceeds 95,00% (1 020 054 720 bytes) of heap memory\n",
      "Scaling row group sizes to 95,00% for 8 writers\n",
      "25/04/26 01:03:59 WARN MemoryManager: Total allocation exceeds 95,00% (1 020 054 720 bytes) of heap memory\n",
      "Scaling row group sizes to 95,00% for 8 writers\n",
      "25/04/26 01:04:00 WARN MemoryManager: Total allocation exceeds 95,00% (1 020 054 720 bytes) of heap memory\n",
      "Scaling row group sizes to 95,00% for 8 writers\n",
      "25/04/26 01:04:00 WARN MemoryManager: Total allocation exceeds 95,00% (1 020 054 720 bytes) of heap memory\n",
      "Scaling row group sizes to 95,00% for 8 writers\n",
      "25/04/26 01:04:00 WARN MemoryManager: Total allocation exceeds 95,00% (1 020 054 720 bytes) of heap memory\n",
      "Scaling row group sizes to 95,00% for 8 writers\n",
      "25/04/26 01:04:00 WARN MemoryManager: Total allocation exceeds 95,00% (1 020 054 720 bytes) of heap memory\n",
      "Scaling row group sizes to 95,00% for 8 writers\n",
      "25/04/26 01:04:00 WARN MemoryManager: Total allocation exceeds 95,00% (1 020 054 720 bytes) of heap memory\n",
      "Scaling row group sizes to 95,00% for 8 writers\n",
      "25/04/26 01:04:00 WARN MemoryManager: Total allocation exceeds 95,00% (1 020 054 720 bytes) of heap memory\n",
      "Scaling row group sizes to 95,00% for 8 writers\n",
      "25/04/26 01:04:00 WARN MemoryManager: Total allocation exceeds 95,00% (1 020 054 720 bytes) of heap memory\n",
      "Scaling row group sizes to 95,00% for 8 writers\n",
      "25/04/26 01:04:00 WARN MemoryManager: Total allocation exceeds 95,00% (1 020 054 720 bytes) of heap memory\n",
      "Scaling row group sizes to 95,00% for 8 writers\n",
      "25/04/26 01:04:00 WARN MemoryManager: Total allocation exceeds 95,00% (1 020 054 720 bytes) of heap memory\n",
      "Scaling row group sizes to 95,00% for 8 writers\n",
      "25/04/26 01:04:00 WARN MemoryManager: Total allocation exceeds 95,00% (1 020 054 720 bytes) of heap memory\n",
      "Scaling row group sizes to 95,00% for 8 writers\n",
      "25/04/26 01:04:00 WARN MemoryManager: Total allocation exceeds 95,00% (1 020 054 720 bytes) of heap memory\n",
      "Scaling row group sizes to 95,00% for 8 writers\n",
      "25/04/26 01:04:00 WARN MemoryManager: Total allocation exceeds 95,00% (1 020 054 720 bytes) of heap memory\n",
      "Scaling row group sizes to 95,00% for 8 writers\n",
      "25/04/26 01:04:00 WARN MemoryManager: Total allocation exceeds 95,00% (1 020 054 720 bytes) of heap memory\n",
      "Scaling row group sizes to 95,00% for 8 writers\n",
      "25/04/26 01:04:01 WARN MemoryManager: Total allocation exceeds 95,00% (1 020 054 720 bytes) of heap memory\n",
      "Scaling row group sizes to 95,00% for 8 writers\n",
      "25/04/26 01:04:01 WARN MemoryManager: Total allocation exceeds 95,00% (1 020 054 720 bytes) of heap memory\n",
      "Scaling row group sizes to 95,00% for 8 writers\n",
      "25/04/26 01:04:01 WARN MemoryManager: Total allocation exceeds 95,00% (1 020 054 720 bytes) of heap memory\n",
      "Scaling row group sizes to 95,00% for 8 writers\n",
      "25/04/26 01:04:01 WARN MemoryManager: Total allocation exceeds 95,00% (1 020 054 720 bytes) of heap memory\n",
      "Scaling row group sizes to 95,00% for 8 writers\n",
      "25/04/26 01:04:01 WARN MemoryManager: Total allocation exceeds 95,00% (1 020 054 720 bytes) of heap memory\n",
      "Scaling row group sizes to 95,00% for 8 writers\n",
      "25/04/26 01:04:01 WARN MemoryManager: Total allocation exceeds 95,00% (1 020 054 720 bytes) of heap memory\n",
      "Scaling row group sizes to 95,00% for 8 writers\n",
      "25/04/26 01:04:01 WARN MemoryManager: Total allocation exceeds 95,00% (1 020 054 720 bytes) of heap memory\n",
      "Scaling row group sizes to 95,00% for 8 writers\n",
      "25/04/26 01:04:01 WARN MemoryManager: Total allocation exceeds 95,00% (1 020 054 720 bytes) of heap memory\n",
      "Scaling row group sizes to 95,00% for 8 writers\n",
      "25/04/26 01:04:01 WARN MemoryManager: Total allocation exceeds 95,00% (1 020 054 720 bytes) of heap memory\n",
      "Scaling row group sizes to 95,00% for 8 writers\n",
      "25/04/26 01:04:01 WARN MemoryManager: Total allocation exceeds 95,00% (1 020 054 720 bytes) of heap memory\n",
      "Scaling row group sizes to 95,00% for 8 writers\n",
      "25/04/26 01:04:01 WARN MemoryManager: Total allocation exceeds 95,00% (1 020 054 720 bytes) of heap memory\n",
      "Scaling row group sizes to 95,00% for 8 writers\n",
      "25/04/26 01:04:01 WARN MemoryManager: Total allocation exceeds 95,00% (1 020 054 720 bytes) of heap memory\n",
      "Scaling row group sizes to 95,00% for 8 writers\n",
      "25/04/26 01:04:01 WARN MemoryManager: Total allocation exceeds 95,00% (1 020 054 720 bytes) of heap memory\n",
      "Scaling row group sizes to 95,00% for 8 writers\n",
      "25/04/26 01:04:01 WARN MemoryManager: Total allocation exceeds 95,00% (1 020 054 720 bytes) of heap memory\n",
      "Scaling row group sizes to 95,00% for 8 writers\n",
      "25/04/26 01:04:02 WARN MemoryManager: Total allocation exceeds 95,00% (1 020 054 720 bytes) of heap memory\n",
      "Scaling row group sizes to 95,00% for 8 writers\n",
      "25/04/26 01:04:02 WARN MemoryManager: Total allocation exceeds 95,00% (1 020 054 720 bytes) of heap memory\n",
      "Scaling row group sizes to 95,00% for 8 writers\n",
      "25/04/26 01:04:02 WARN MemoryManager: Total allocation exceeds 95,00% (1 020 054 720 bytes) of heap memory\n",
      "Scaling row group sizes to 95,00% for 8 writers\n",
      "25/04/26 01:04:02 WARN MemoryManager: Total allocation exceeds 95,00% (1 020 054 720 bytes) of heap memory\n",
      "Scaling row group sizes to 95,00% for 8 writers\n",
      "25/04/26 01:04:02 WARN MemoryManager: Total allocation exceeds 95,00% (1 020 054 720 bytes) of heap memory\n",
      "Scaling row group sizes to 95,00% for 8 writers\n",
      "25/04/26 01:04:02 WARN MemoryManager: Total allocation exceeds 95,00% (1 020 054 720 bytes) of heap memory\n",
      "Scaling row group sizes to 95,00% for 8 writers\n",
      "25/04/26 01:04:02 WARN MemoryManager: Total allocation exceeds 95,00% (1 020 054 720 bytes) of heap memory\n",
      "Scaling row group sizes to 95,00% for 8 writers\n",
      "25/04/26 01:04:02 WARN MemoryManager: Total allocation exceeds 95,00% (1 020 054 720 bytes) of heap memory\n",
      "Scaling row group sizes to 95,00% for 8 writers\n",
      "25/04/26 01:04:02 WARN MemoryManager: Total allocation exceeds 95,00% (1 020 054 720 bytes) of heap memory\n",
      "Scaling row group sizes to 95,00% for 8 writers\n",
      "25/04/26 01:04:02 WARN MemoryManager: Total allocation exceeds 95,00% (1 020 054 720 bytes) of heap memory\n",
      "Scaling row group sizes to 95,00% for 8 writers\n",
      "25/04/26 01:04:02 WARN MemoryManager: Total allocation exceeds 95,00% (1 020 054 720 bytes) of heap memory\n",
      "Scaling row group sizes to 95,00% for 8 writers\n",
      "25/04/26 01:04:02 WARN MemoryManager: Total allocation exceeds 95,00% (1 020 054 720 bytes) of heap memory\n",
      "Scaling row group sizes to 95,00% for 8 writers\n",
      "25/04/26 01:04:02 WARN MemoryManager: Total allocation exceeds 95,00% (1 020 054 720 bytes) of heap memory\n",
      "Scaling row group sizes to 95,00% for 8 writers\n",
      "25/04/26 01:04:02 WARN MemoryManager: Total allocation exceeds 95,00% (1 020 054 720 bytes) of heap memory\n",
      "Scaling row group sizes to 95,00% for 8 writers\n",
      "25/04/26 01:04:03 WARN MemoryManager: Total allocation exceeds 95,00% (1 020 054 720 bytes) of heap memory\n",
      "Scaling row group sizes to 95,00% for 8 writers\n",
      "25/04/26 01:04:03 WARN MemoryManager: Total allocation exceeds 95,00% (1 020 054 720 bytes) of heap memory\n",
      "Scaling row group sizes to 95,00% for 8 writers\n",
      "25/04/26 01:04:03 WARN MemoryManager: Total allocation exceeds 95,00% (1 020 054 720 bytes) of heap memory\n",
      "Scaling row group sizes to 95,00% for 8 writers\n",
      "25/04/26 01:04:03 WARN MemoryManager: Total allocation exceeds 95,00% (1 020 054 720 bytes) of heap memory\n",
      "Scaling row group sizes to 95,00% for 8 writers\n",
      "25/04/26 01:04:03 WARN MemoryManager: Total allocation exceeds 95,00% (1 020 054 720 bytes) of heap memory\n",
      "Scaling row group sizes to 95,00% for 8 writers\n",
      "25/04/26 01:04:03 WARN MemoryManager: Total allocation exceeds 95,00% (1 020 054 720 bytes) of heap memory\n",
      "Scaling row group sizes to 95,00% for 8 writers\n",
      "25/04/26 01:04:03 WARN MemoryManager: Total allocation exceeds 95,00% (1 020 054 720 bytes) of heap memory\n",
      "Scaling row group sizes to 95,00% for 8 writers\n",
      "25/04/26 01:04:03 WARN MemoryManager: Total allocation exceeds 95,00% (1 020 054 720 bytes) of heap memory\n",
      "Scaling row group sizes to 95,00% for 8 writers\n",
      "25/04/26 01:04:03 WARN MemoryManager: Total allocation exceeds 95,00% (1 020 054 720 bytes) of heap memory\n",
      "Scaling row group sizes to 95,00% for 8 writers\n",
      "25/04/26 01:04:03 WARN MemoryManager: Total allocation exceeds 95,00% (1 020 054 720 bytes) of heap memory\n",
      "Scaling row group sizes to 95,00% for 8 writers\n",
      "25/04/26 01:04:03 WARN MemoryManager: Total allocation exceeds 95,00% (1 020 054 720 bytes) of heap memory\n",
      "Scaling row group sizes to 95,00% for 8 writers\n",
      "25/04/26 01:04:03 WARN MemoryManager: Total allocation exceeds 95,00% (1 020 054 720 bytes) of heap memory\n",
      "Scaling row group sizes to 95,00% for 8 writers\n",
      "25/04/26 01:04:03 WARN MemoryManager: Total allocation exceeds 95,00% (1 020 054 720 bytes) of heap memory\n",
      "Scaling row group sizes to 95,00% for 8 writers\n",
      "25/04/26 01:04:04 WARN MemoryManager: Total allocation exceeds 95,00% (1 020 054 720 bytes) of heap memory\n",
      "Scaling row group sizes to 95,00% for 8 writers\n",
      "25/04/26 01:04:04 WARN MemoryManager: Total allocation exceeds 95,00% (1 020 054 720 bytes) of heap memory\n",
      "Scaling row group sizes to 95,00% for 8 writers\n",
      "25/04/26 01:04:04 WARN MemoryManager: Total allocation exceeds 95,00% (1 020 054 720 bytes) of heap memory\n",
      "Scaling row group sizes to 95,00% for 8 writers\n",
      "25/04/26 01:04:04 WARN MemoryManager: Total allocation exceeds 95,00% (1 020 054 720 bytes) of heap memory\n",
      "Scaling row group sizes to 95,00% for 8 writers\n",
      "25/04/26 01:04:04 WARN MemoryManager: Total allocation exceeds 95,00% (1 020 054 720 bytes) of heap memory\n",
      "Scaling row group sizes to 95,00% for 8 writers\n",
      "25/04/26 01:04:04 WARN MemoryManager: Total allocation exceeds 95,00% (1 020 054 720 bytes) of heap memory\n",
      "Scaling row group sizes to 95,00% for 8 writers\n",
      "25/04/26 01:04:04 WARN MemoryManager: Total allocation exceeds 95,00% (1 020 054 720 bytes) of heap memory\n",
      "Scaling row group sizes to 95,00% for 8 writers\n",
      "25/04/26 01:04:04 WARN MemoryManager: Total allocation exceeds 95,00% (1 020 054 720 bytes) of heap memory\n",
      "Scaling row group sizes to 95,00% for 8 writers\n",
      "25/04/26 01:04:04 WARN MemoryManager: Total allocation exceeds 95,00% (1 020 054 720 bytes) of heap memory\n",
      "Scaling row group sizes to 95,00% for 8 writers\n",
      "25/04/26 01:04:04 WARN MemoryManager: Total allocation exceeds 95,00% (1 020 054 720 bytes) of heap memory\n",
      "Scaling row group sizes to 95,00% for 8 writers\n",
      "25/04/26 01:04:04 WARN MemoryManager: Total allocation exceeds 95,00% (1 020 054 720 bytes) of heap memory\n",
      "Scaling row group sizes to 95,00% for 8 writers\n",
      "25/04/26 01:04:04 WARN MemoryManager: Total allocation exceeds 95,00% (1 020 054 720 bytes) of heap memory\n",
      "Scaling row group sizes to 95,00% for 8 writers\n",
      "25/04/26 01:04:04 WARN MemoryManager: Total allocation exceeds 95,00% (1 020 054 720 bytes) of heap memory\n",
      "Scaling row group sizes to 95,00% for 8 writers\n",
      "25/04/26 01:04:04 WARN MemoryManager: Total allocation exceeds 95,00% (1 020 054 720 bytes) of heap memory\n",
      "Scaling row group sizes to 95,00% for 8 writers\n",
      "25/04/26 01:04:04 WARN MemoryManager: Total allocation exceeds 95,00% (1 020 054 720 bytes) of heap memory\n",
      "Scaling row group sizes to 95,00% for 8 writers\n",
      "25/04/26 01:04:05 WARN MemoryManager: Total allocation exceeds 95,00% (1 020 054 720 bytes) of heap memory\n",
      "Scaling row group sizes to 95,00% for 8 writers\n",
      "25/04/26 01:04:05 WARN MemoryManager: Total allocation exceeds 95,00% (1 020 054 720 bytes) of heap memory\n",
      "Scaling row group sizes to 95,00% for 8 writers\n",
      "25/04/26 01:04:05 WARN MemoryManager: Total allocation exceeds 95,00% (1 020 054 720 bytes) of heap memory\n",
      "Scaling row group sizes to 95,00% for 8 writers\n",
      "25/04/26 01:04:05 WARN MemoryManager: Total allocation exceeds 95,00% (1 020 054 720 bytes) of heap memory\n",
      "Scaling row group sizes to 95,00% for 8 writers\n",
      "25/04/26 01:04:05 WARN MemoryManager: Total allocation exceeds 95,00% (1 020 054 720 bytes) of heap memory\n",
      "Scaling row group sizes to 95,00% for 8 writers\n",
      "25/04/26 01:04:05 WARN MemoryManager: Total allocation exceeds 95,00% (1 020 054 720 bytes) of heap memory\n",
      "Scaling row group sizes to 95,00% for 8 writers\n",
      "25/04/26 01:04:05 WARN MemoryManager: Total allocation exceeds 95,00% (1 020 054 720 bytes) of heap memory\n",
      "Scaling row group sizes to 95,00% for 8 writers\n",
      "25/04/26 01:04:05 WARN MemoryManager: Total allocation exceeds 95,00% (1 020 054 720 bytes) of heap memory\n",
      "Scaling row group sizes to 95,00% for 8 writers\n",
      "25/04/26 01:04:05 WARN MemoryManager: Total allocation exceeds 95,00% (1 020 054 720 bytes) of heap memory\n",
      "Scaling row group sizes to 95,00% for 8 writers\n",
      "25/04/26 01:04:05 WARN MemoryManager: Total allocation exceeds 95,00% (1 020 054 720 bytes) of heap memory\n",
      "Scaling row group sizes to 95,00% for 8 writers\n",
      "25/04/26 01:04:05 WARN MemoryManager: Total allocation exceeds 95,00% (1 020 054 720 bytes) of heap memory\n",
      "Scaling row group sizes to 95,00% for 8 writers\n",
      "25/04/26 01:04:06 WARN MemoryManager: Total allocation exceeds 95,00% (1 020 054 720 bytes) of heap memory\n",
      "Scaling row group sizes to 95,00% for 8 writers\n",
      "25/04/26 01:04:06 WARN MemoryManager: Total allocation exceeds 95,00% (1 020 054 720 bytes) of heap memory\n",
      "Scaling row group sizes to 95,00% for 8 writers\n",
      "                                                                                \r"
     ]
    }
   ],
   "source": [
    "# Repartition and save\n",
    "df.repartition(200).write.mode(\"overwrite\").parquet(\"full_dataset_after_cleaning.parquet\")"
   ]
  },
  {
   "cell_type": "code",
   "execution_count": null,
   "id": "b335bbb6-0963-4402-9f9e-6e21612d7f6d",
   "metadata": {},
   "outputs": [],
   "source": []
  }
 ],
 "metadata": {
  "kernelspec": {
   "display_name": "Python 3 (ipykernel)",
   "language": "python",
   "name": "python3"
  },
  "language_info": {
   "codemirror_mode": {
    "name": "ipython",
    "version": 3
   },
   "file_extension": ".py",
   "mimetype": "text/x-python",
   "name": "python",
   "nbconvert_exporter": "python",
   "pygments_lexer": "ipython3",
   "version": "3.11.7"
  }
 },
 "nbformat": 4,
 "nbformat_minor": 5
}
